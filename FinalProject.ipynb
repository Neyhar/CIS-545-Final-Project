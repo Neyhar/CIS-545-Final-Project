{
  "cells": [
    {
      "cell_type": "markdown",
      "metadata": {
        "id": "gkF9kIpJe-lG"
      },
      "source": [
        "A full documentation of the data we used, relavent links and relavent schema\n",
        "\n",
        "Flights were sourced from here: https://www.kaggle.com/datasets/usdot/flight-delays?select=flights.csv\n",
        "\n",
        "Weather was sourced from here: https://asmith.ucdavis.edu/data/prism-weather\n",
        "\n",
        "AirportLocations.csv was sourced from: https://geodata.bts.gov/datasets/usdot::aviation-facilities/about\n",
        "\n",
        "For weather use the settings: Temporal unit should be daily, use county as spatial unit, start and end year are both 2015, months go from 1 to 12, states are all states, choose variables are tmin, tmax, tavg, ppt, dday_a5C, dday_b15C\n",
        "\n"
      ]
    },
    {
      "cell_type": "code",
      "execution_count": null,
      "metadata": {
        "id": "TN-p0udee-lH"
      },
      "outputs": [],
      "source": [
        "import numpy as np\n",
        "import matplotlib.pyplot as plt\n",
        "import pandas as pd\n",
        "import polars as pl\n",
        "import kagglehub\n",
        "import seaborn as sns"
      ]
    },
    {
      "cell_type": "markdown",
      "metadata": {
        "id": "SSW7DKIEe-lI"
      },
      "source": [
        "State regions were determined by the following image (kind of arbitrary). We decided to set AK to north and HI to pacific\n",
        "\n",
        "![Alt Text](region.png)"
      ]
    },
    {
      "cell_type": "code",
      "execution_count": null,
      "metadata": {
        "id": "mA9OKyIMe-lJ",
        "collapsed": true
      },
      "outputs": [],
      "source": [
        "flights_df = pl.read_csv(\"flights.csv\")\n",
        "airport_loc_df = pl.read_csv('AirportLocations.csv')\n",
        "airlines_df = pl.read_csv('airlines.csv')\n",
        "weather_df = pl.read_csv('weather.csv')"
      ]
    },
    {
      "cell_type": "code",
      "source": [
        "flights_df.shape"
      ],
      "metadata": {
        "colab": {
          "base_uri": "https://localhost:8080/"
        },
        "id": "VWTuqQJsEhBK",
        "outputId": "552516e2-a4c6-42ba-caf1-a356d34d3e27"
      },
      "execution_count": null,
      "outputs": [
        {
          "output_type": "execute_result",
          "data": {
            "text/plain": [
              "(5819079, 31)"
            ]
          },
          "metadata": {},
          "execution_count": 5
        }
      ]
    },
    {
      "cell_type": "code",
      "execution_count": null,
      "metadata": {
        "id": "RgtWx0kce-lK"
      },
      "outputs": [],
      "source": [
        "delays_df = flights_df.filter(pl.col(\"DEPARTURE_DELAY\") > 0)\n",
        "ontime_df = flights_df.filter(pl.col(\"DEPARTURE_DELAY\") <= 0)"
      ]
    },
    {
      "cell_type": "markdown",
      "metadata": {
        "id": "GUhSsSZHe-lK"
      },
      "source": [
        "Joining the County information so that we can compare weather"
      ]
    },
    {
      "cell_type": "code",
      "execution_count": null,
      "metadata": {
        "id": "-8IM9lMfe-lL",
        "outputId": "a27851a1-ba4a-4ac6-97dd-3905d35181fe",
        "colab": {
          "base_uri": "https://localhost:8080/",
          "height": 617
        },
        "collapsed": true
      },
      "outputs": [
        {
          "output_type": "execute_result",
          "data": {
            "text/plain": [
              "shape: (5_819_079, 34)\n",
              "┌──────┬───────┬─────┬─────────────┬───┬───────────────┬─────────────┬────────────┬────────────┐\n",
              "│ YEAR ┆ MONTH ┆ DAY ┆ DAY_OF_WEEK ┆ … ┆ WEATHER_DELAY ┆ COUNTY_NAME ┆ STATE_CODE ┆ date       │\n",
              "│ ---  ┆ ---   ┆ --- ┆ ---         ┆   ┆ ---           ┆ ---         ┆ ---        ┆ ---        │\n",
              "│ i64  ┆ i64   ┆ i64 ┆ i64         ┆   ┆ i64           ┆ str         ┆ str        ┆ date       │\n",
              "╞══════╪═══════╪═════╪═════════════╪═══╪═══════════════╪═════════════╪════════════╪════════════╡\n",
              "│ 2015 ┆ 1     ┆ 1   ┆ 4           ┆ … ┆ null          ┆ ANCHORAGE   ┆ AK         ┆ 2015-01-01 │\n",
              "│ 2015 ┆ 1     ┆ 1   ┆ 4           ┆ … ┆ null          ┆ LOS ANGELES ┆ CA         ┆ 2015-01-01 │\n",
              "│ 2015 ┆ 1     ┆ 1   ┆ 4           ┆ … ┆ null          ┆ SAN MATEO   ┆ CA         ┆ 2015-01-01 │\n",
              "│ 2015 ┆ 1     ┆ 1   ┆ 4           ┆ … ┆ null          ┆ LOS ANGELES ┆ CA         ┆ 2015-01-01 │\n",
              "│ 2015 ┆ 1     ┆ 1   ┆ 4           ┆ … ┆ null          ┆ KING        ┆ WA         ┆ 2015-01-01 │\n",
              "│ …    ┆ …     ┆ …   ┆ …           ┆ … ┆ …             ┆ …           ┆ …          ┆ …          │\n",
              "│ 2015 ┆ 12    ┆ 31  ┆ 4           ┆ … ┆ null          ┆ LOS ANGELES ┆ CA         ┆ 2015-12-31 │\n",
              "│ 2015 ┆ 12    ┆ 31  ┆ 4           ┆ … ┆ null          ┆ QUEENS      ┆ NY         ┆ 2015-12-31 │\n",
              "│ 2015 ┆ 12    ┆ 31  ┆ 4           ┆ … ┆ null          ┆ QUEENS      ┆ NY         ┆ 2015-12-31 │\n",
              "│ 2015 ┆ 12    ┆ 31  ┆ 4           ┆ … ┆ null          ┆ ORANGE      ┆ FL         ┆ 2015-12-31 │\n",
              "│ 2015 ┆ 12    ┆ 31  ┆ 4           ┆ … ┆ null          ┆ QUEENS      ┆ NY         ┆ 2015-12-31 │\n",
              "└──────┴───────┴─────┴─────────────┴───┴───────────────┴─────────────┴────────────┴────────────┘"
            ],
            "text/html": [
              "<div><style>\n",
              ".dataframe > thead > tr,\n",
              ".dataframe > tbody > tr {\n",
              "  text-align: right;\n",
              "  white-space: pre-wrap;\n",
              "}\n",
              "</style>\n",
              "<small>shape: (5_819_079, 34)</small><table border=\"1\" class=\"dataframe\"><thead><tr><th>YEAR</th><th>MONTH</th><th>DAY</th><th>DAY_OF_WEEK</th><th>AIRLINE</th><th>FLIGHT_NUMBER</th><th>TAIL_NUMBER</th><th>ORIGIN_AIRPORT</th><th>DESTINATION_AIRPORT</th><th>SCHEDULED_DEPARTURE</th><th>DEPARTURE_TIME</th><th>DEPARTURE_DELAY</th><th>TAXI_OUT</th><th>WHEELS_OFF</th><th>SCHEDULED_TIME</th><th>ELAPSED_TIME</th><th>AIR_TIME</th><th>DISTANCE</th><th>WHEELS_ON</th><th>TAXI_IN</th><th>SCHEDULED_ARRIVAL</th><th>ARRIVAL_TIME</th><th>ARRIVAL_DELAY</th><th>DIVERTED</th><th>CANCELLED</th><th>CANCELLATION_REASON</th><th>AIR_SYSTEM_DELAY</th><th>SECURITY_DELAY</th><th>AIRLINE_DELAY</th><th>LATE_AIRCRAFT_DELAY</th><th>WEATHER_DELAY</th><th>COUNTY_NAME</th><th>STATE_CODE</th><th>date</th></tr><tr><td>i64</td><td>i64</td><td>i64</td><td>i64</td><td>str</td><td>i64</td><td>str</td><td>str</td><td>str</td><td>i64</td><td>i64</td><td>i64</td><td>i64</td><td>i64</td><td>i64</td><td>i64</td><td>i64</td><td>i64</td><td>i64</td><td>i64</td><td>i64</td><td>i64</td><td>i64</td><td>i64</td><td>i64</td><td>str</td><td>i64</td><td>i64</td><td>i64</td><td>i64</td><td>i64</td><td>str</td><td>str</td><td>date</td></tr></thead><tbody><tr><td>2015</td><td>1</td><td>1</td><td>4</td><td>&quot;AS&quot;</td><td>98</td><td>&quot;N407AS&quot;</td><td>&quot;ANC&quot;</td><td>&quot;SEA&quot;</td><td>5</td><td>2354</td><td>-11</td><td>21</td><td>15</td><td>205</td><td>194</td><td>169</td><td>1448</td><td>404</td><td>4</td><td>430</td><td>408</td><td>-22</td><td>0</td><td>0</td><td>null</td><td>null</td><td>null</td><td>null</td><td>null</td><td>null</td><td>&quot;ANCHORAGE&quot;</td><td>&quot;AK&quot;</td><td>2015-01-01</td></tr><tr><td>2015</td><td>1</td><td>1</td><td>4</td><td>&quot;AA&quot;</td><td>2336</td><td>&quot;N3KUAA&quot;</td><td>&quot;LAX&quot;</td><td>&quot;PBI&quot;</td><td>10</td><td>2</td><td>-8</td><td>12</td><td>14</td><td>280</td><td>279</td><td>263</td><td>2330</td><td>737</td><td>4</td><td>750</td><td>741</td><td>-9</td><td>0</td><td>0</td><td>null</td><td>null</td><td>null</td><td>null</td><td>null</td><td>null</td><td>&quot;LOS ANGELES&quot;</td><td>&quot;CA&quot;</td><td>2015-01-01</td></tr><tr><td>2015</td><td>1</td><td>1</td><td>4</td><td>&quot;US&quot;</td><td>840</td><td>&quot;N171US&quot;</td><td>&quot;SFO&quot;</td><td>&quot;CLT&quot;</td><td>20</td><td>18</td><td>-2</td><td>16</td><td>34</td><td>286</td><td>293</td><td>266</td><td>2296</td><td>800</td><td>11</td><td>806</td><td>811</td><td>5</td><td>0</td><td>0</td><td>null</td><td>null</td><td>null</td><td>null</td><td>null</td><td>null</td><td>&quot;SAN MATEO&quot;</td><td>&quot;CA&quot;</td><td>2015-01-01</td></tr><tr><td>2015</td><td>1</td><td>1</td><td>4</td><td>&quot;AA&quot;</td><td>258</td><td>&quot;N3HYAA&quot;</td><td>&quot;LAX&quot;</td><td>&quot;MIA&quot;</td><td>20</td><td>15</td><td>-5</td><td>15</td><td>30</td><td>285</td><td>281</td><td>258</td><td>2342</td><td>748</td><td>8</td><td>805</td><td>756</td><td>-9</td><td>0</td><td>0</td><td>null</td><td>null</td><td>null</td><td>null</td><td>null</td><td>null</td><td>&quot;LOS ANGELES&quot;</td><td>&quot;CA&quot;</td><td>2015-01-01</td></tr><tr><td>2015</td><td>1</td><td>1</td><td>4</td><td>&quot;AS&quot;</td><td>135</td><td>&quot;N527AS&quot;</td><td>&quot;SEA&quot;</td><td>&quot;ANC&quot;</td><td>25</td><td>24</td><td>-1</td><td>11</td><td>35</td><td>235</td><td>215</td><td>199</td><td>1448</td><td>254</td><td>5</td><td>320</td><td>259</td><td>-21</td><td>0</td><td>0</td><td>null</td><td>null</td><td>null</td><td>null</td><td>null</td><td>null</td><td>&quot;KING&quot;</td><td>&quot;WA&quot;</td><td>2015-01-01</td></tr><tr><td>&hellip;</td><td>&hellip;</td><td>&hellip;</td><td>&hellip;</td><td>&hellip;</td><td>&hellip;</td><td>&hellip;</td><td>&hellip;</td><td>&hellip;</td><td>&hellip;</td><td>&hellip;</td><td>&hellip;</td><td>&hellip;</td><td>&hellip;</td><td>&hellip;</td><td>&hellip;</td><td>&hellip;</td><td>&hellip;</td><td>&hellip;</td><td>&hellip;</td><td>&hellip;</td><td>&hellip;</td><td>&hellip;</td><td>&hellip;</td><td>&hellip;</td><td>&hellip;</td><td>&hellip;</td><td>&hellip;</td><td>&hellip;</td><td>&hellip;</td><td>&hellip;</td><td>&hellip;</td><td>&hellip;</td><td>&hellip;</td></tr><tr><td>2015</td><td>12</td><td>31</td><td>4</td><td>&quot;B6&quot;</td><td>688</td><td>&quot;N657JB&quot;</td><td>&quot;LAX&quot;</td><td>&quot;BOS&quot;</td><td>2359</td><td>2355</td><td>-4</td><td>22</td><td>17</td><td>320</td><td>298</td><td>272</td><td>2611</td><td>749</td><td>4</td><td>819</td><td>753</td><td>-26</td><td>0</td><td>0</td><td>null</td><td>null</td><td>null</td><td>null</td><td>null</td><td>null</td><td>&quot;LOS ANGELES&quot;</td><td>&quot;CA&quot;</td><td>2015-12-31</td></tr><tr><td>2015</td><td>12</td><td>31</td><td>4</td><td>&quot;B6&quot;</td><td>745</td><td>&quot;N828JB&quot;</td><td>&quot;JFK&quot;</td><td>&quot;PSE&quot;</td><td>2359</td><td>2355</td><td>-4</td><td>17</td><td>12</td><td>227</td><td>215</td><td>195</td><td>1617</td><td>427</td><td>3</td><td>446</td><td>430</td><td>-16</td><td>0</td><td>0</td><td>null</td><td>null</td><td>null</td><td>null</td><td>null</td><td>null</td><td>&quot;QUEENS&quot;</td><td>&quot;NY&quot;</td><td>2015-12-31</td></tr><tr><td>2015</td><td>12</td><td>31</td><td>4</td><td>&quot;B6&quot;</td><td>1503</td><td>&quot;N913JB&quot;</td><td>&quot;JFK&quot;</td><td>&quot;SJU&quot;</td><td>2359</td><td>2350</td><td>-9</td><td>17</td><td>7</td><td>221</td><td>222</td><td>197</td><td>1598</td><td>424</td><td>8</td><td>440</td><td>432</td><td>-8</td><td>0</td><td>0</td><td>null</td><td>null</td><td>null</td><td>null</td><td>null</td><td>null</td><td>&quot;QUEENS&quot;</td><td>&quot;NY&quot;</td><td>2015-12-31</td></tr><tr><td>2015</td><td>12</td><td>31</td><td>4</td><td>&quot;B6&quot;</td><td>333</td><td>&quot;N527JB&quot;</td><td>&quot;MCO&quot;</td><td>&quot;SJU&quot;</td><td>2359</td><td>2353</td><td>-6</td><td>10</td><td>3</td><td>161</td><td>157</td><td>144</td><td>1189</td><td>327</td><td>3</td><td>340</td><td>330</td><td>-10</td><td>0</td><td>0</td><td>null</td><td>null</td><td>null</td><td>null</td><td>null</td><td>null</td><td>&quot;ORANGE&quot;</td><td>&quot;FL&quot;</td><td>2015-12-31</td></tr><tr><td>2015</td><td>12</td><td>31</td><td>4</td><td>&quot;B6&quot;</td><td>839</td><td>&quot;N534JB&quot;</td><td>&quot;JFK&quot;</td><td>&quot;BQN&quot;</td><td>2359</td><td>14</td><td>15</td><td>14</td><td>28</td><td>221</td><td>208</td><td>189</td><td>1576</td><td>437</td><td>5</td><td>440</td><td>442</td><td>2</td><td>0</td><td>0</td><td>null</td><td>null</td><td>null</td><td>null</td><td>null</td><td>null</td><td>&quot;QUEENS&quot;</td><td>&quot;NY&quot;</td><td>2015-12-31</td></tr></tbody></table></div>"
            ]
          },
          "metadata": {},
          "execution_count": 7
        }
      ],
      "source": [
        "airport_loc_df = airport_loc_df.select([\"ARPT_ID\", \"COUNTY_NAME\", \"STATE_CODE\"])\n",
        "flights_df = flights_df.join(\n",
        "    airport_loc_df,\n",
        "    left_on=\"ORIGIN_AIRPORT\",\n",
        "    right_on=\"ARPT_ID\",\n",
        "    how=\"left\"\n",
        ")\n",
        "delays_df = flights_df.filter(pl.col(\"DEPARTURE_DELAY\") > 0)\n",
        "ontime_df = flights_df.filter(pl.col(\"DEPARTURE_DELAY\") <= 0)\n",
        "flights_df = flights_df.with_columns(\n",
        "    pl.datetime(\n",
        "        year=pl.col(\"YEAR\"),\n",
        "        month=pl.col(\"MONTH\"),\n",
        "        day=pl.col(\"DAY\")\n",
        "    ).cast(pl.Date).alias(\"date\")\n",
        ")\n",
        "flights_df"
      ]
    },
    {
      "cell_type": "code",
      "source": [
        "type(flights_df)"
      ],
      "metadata": {
        "collapsed": true,
        "id": "r2g1TvQuBvwH"
      },
      "execution_count": null,
      "outputs": []
    },
    {
      "cell_type": "markdown",
      "metadata": {
        "id": "csm-rMbGe-lM"
      },
      "source": [
        "Don't run the below cell more than once"
      ]
    },
    {
      "cell_type": "code",
      "execution_count": null,
      "metadata": {
        "id": "g4xKvdWre-lM",
        "outputId": "46f46b25-8766-4e55-ac39-42bfbfea6723",
        "colab": {
          "base_uri": "https://localhost:8080/",
          "height": 617
        }
      },
      "outputs": [
        {
          "output_type": "execute_result",
          "data": {
            "text/plain": [
              "shape: (69_106, 12)\n",
              "┌────────┬─────────┬─────────────┬───────┬───┬────────┬────────┬──────────┬───────────┐\n",
              "│ st_abb ┆ st_code ┆ county_name ┆ fips  ┆ … ┆ tavg   ┆ ppt    ┆ dday_a5C ┆ dday_b15C │\n",
              "│ ---    ┆ ---     ┆ ---         ┆ ---   ┆   ┆ ---    ┆ ---    ┆ ---      ┆ ---       │\n",
              "│ str    ┆ i64     ┆ str         ┆ i64   ┆   ┆ f64    ┆ f64    ┆ f64      ┆ f64       │\n",
              "╞════════╪═════════╪═════════════╪═══════╪═══╪════════╪════════╪══════════╪═══════════╡\n",
              "│ AL     ┆ 1       ┆ autauga     ┆ 1001  ┆ … ┆ 5.063  ┆ 0.059  ┆ 1.909    ┆ 9.937     │\n",
              "│ AL     ┆ 1       ┆ autauga     ┆ 1001  ┆ … ┆ 6.746  ┆ 3.863  ┆ 3.008    ┆ 8.254     │\n",
              "│ AL     ┆ 1       ┆ autauga     ┆ 1001  ┆ … ┆ 10.531 ┆ 14.217 ┆ 5.532    ┆ 4.469     │\n",
              "│ AL     ┆ 1       ┆ autauga     ┆ 1001  ┆ … ┆ 16.457 ┆ 48.919 ┆ 11.456   ┆ 0.668     │\n",
              "│ AL     ┆ 1       ┆ autauga     ┆ 1001  ┆ … ┆ 9.254  ┆ 0.0    ┆ 4.684    ┆ 5.841     │\n",
              "│ …      ┆ …       ┆ …           ┆ …     ┆ … ┆ …      ┆ …      ┆ …        ┆ …         │\n",
              "│ PA     ┆ 42      ┆ cumberland  ┆ 42041 ┆ … ┆ -0.401 ┆ 0.0    ┆ 0.002    ┆ 15.401    │\n",
              "│ PA     ┆ 42      ┆ cumberland  ┆ 42041 ┆ … ┆ 0.185  ┆ 13.427 ┆ 0.0      ┆ 14.815    │\n",
              "│ PA     ┆ 42      ┆ cumberland  ┆ 42041 ┆ … ┆ 5.469  ┆ 5.055  ┆ 1.994    ┆ 9.531     │\n",
              "│ PA     ┆ 42      ┆ cumberland  ┆ 42041 ┆ … ┆ -4.618 ┆ 1.246  ┆ 0.0      ┆ 19.618    │\n",
              "│ PA     ┆ 42      ┆ cumberland  ┆ 42041 ┆ … ┆ -8.405 ┆ null   ┆ null     ┆ null      │\n",
              "└────────┴─────────┴─────────────┴───────┴───┴────────┴────────┴──────────┴───────────┘"
            ],
            "text/html": [
              "<div><style>\n",
              ".dataframe > thead > tr,\n",
              ".dataframe > tbody > tr {\n",
              "  text-align: right;\n",
              "  white-space: pre-wrap;\n",
              "}\n",
              "</style>\n",
              "<small>shape: (69_106, 12)</small><table border=\"1\" class=\"dataframe\"><thead><tr><th>st_abb</th><th>st_code</th><th>county_name</th><th>fips</th><th>date</th><th>stability</th><th>tmin</th><th>tmax</th><th>tavg</th><th>ppt</th><th>dday_a5C</th><th>dday_b15C</th></tr><tr><td>str</td><td>i64</td><td>str</td><td>i64</td><td>date</td><td>str</td><td>f64</td><td>f64</td><td>f64</td><td>f64</td><td>f64</td><td>f64</td></tr></thead><tbody><tr><td>&quot;AL&quot;</td><td>1</td><td>&quot;autauga&quot;</td><td>1001</td><td>2015-01-01</td><td>&quot;stable&quot;</td><td>-0.835</td><td>10.961</td><td>5.063</td><td>0.059</td><td>1.909</td><td>9.937</td></tr><tr><td>&quot;AL&quot;</td><td>1</td><td>&quot;autauga&quot;</td><td>1001</td><td>2015-01-02</td><td>&quot;stable&quot;</td><td>0.276</td><td>13.216</td><td>6.746</td><td>3.863</td><td>3.008</td><td>8.254</td></tr><tr><td>&quot;AL&quot;</td><td>1</td><td>&quot;autauga&quot;</td><td>1001</td><td>2015-01-03</td><td>&quot;stable&quot;</td><td>8.511</td><td>12.552</td><td>10.531</td><td>14.217</td><td>5.532</td><td>4.469</td></tr><tr><td>&quot;AL&quot;</td><td>1</td><td>&quot;autauga&quot;</td><td>1001</td><td>2015-01-04</td><td>&quot;stable&quot;</td><td>12.328</td><td>20.585</td><td>16.457</td><td>48.919</td><td>11.456</td><td>0.668</td></tr><tr><td>&quot;AL&quot;</td><td>1</td><td>&quot;autauga&quot;</td><td>1001</td><td>2015-01-05</td><td>&quot;stable&quot;</td><td>2.642</td><td>15.865</td><td>9.254</td><td>0.0</td><td>4.684</td><td>5.841</td></tr><tr><td>&hellip;</td><td>&hellip;</td><td>&hellip;</td><td>&hellip;</td><td>&hellip;</td><td>&hellip;</td><td>&hellip;</td><td>&hellip;</td><td>&hellip;</td><td>&hellip;</td><td>&hellip;</td><td>&hellip;</td></tr><tr><td>&quot;PA&quot;</td><td>42</td><td>&quot;cumberland&quot;</td><td>42041</td><td>2015-01-03</td><td>&quot;stable&quot;</td><td>-5.854</td><td>5.052</td><td>-0.401</td><td>0.0</td><td>0.002</td><td>15.401</td></tr><tr><td>&quot;PA&quot;</td><td>42</td><td>&quot;cumberland&quot;</td><td>42041</td><td>2015-01-04</td><td>&quot;stable&quot;</td><td>-2.57</td><td>2.941</td><td>0.185</td><td>13.427</td><td>0.0</td><td>14.815</td></tr><tr><td>&quot;PA&quot;</td><td>42</td><td>&quot;cumberland&quot;</td><td>42041</td><td>2015-01-05</td><td>&quot;stable&quot;</td><td>-0.039</td><td>10.977</td><td>5.469</td><td>5.055</td><td>1.994</td><td>9.531</td></tr><tr><td>&quot;PA&quot;</td><td>42</td><td>&quot;cumberland&quot;</td><td>42041</td><td>2015-01-06</td><td>&quot;stable&quot;</td><td>-9.558</td><td>0.322</td><td>-4.618</td><td>1.246</td><td>0.0</td><td>19.618</td></tr><tr><td>&quot;PA&quot;</td><td>42</td><td>&quot;cumberland&quot;</td><td>42041</td><td>2015-01-07</td><td>&quot;stable&quot;</td><td>-11.6</td><td>-5.211</td><td>-8.405</td><td>null</td><td>null</td><td>null</td></tr></tbody></table></div>"
            ]
          },
          "metadata": {},
          "execution_count": 8
        }
      ],
      "source": [
        "weather_df = weather_df.with_columns(\n",
        "    pl.col(\"date\").cast(pl.Utf8).str.strptime(pl.Date, \"%Y%m%d\").alias(\"date\")\n",
        ")\n",
        "weather_df = weather_df.with_columns(\n",
        "    pl.col(\"county_name\").str.to_lowercase().alias(\"county_name\")\n",
        ")\n",
        "weather_df"
      ]
    },
    {
      "cell_type": "markdown",
      "metadata": {
        "id": "YrWJ_z3-e-lM"
      },
      "source": [
        "Cross Referenced Data from here in order to ensure that the temperatures were correctly aligned: https://www.timeanddate.com/weather/usa/new-york/historic?month=12&year=2015"
      ]
    },
    {
      "cell_type": "code",
      "execution_count": null,
      "metadata": {
        "id": "AICRGR-Ue-lM",
        "outputId": "93b51b9c-d784-49e7-b5ed-91d1f29b6d6a",
        "colab": {
          "base_uri": "https://localhost:8080/",
          "height": 617
        },
        "collapsed": true
      },
      "outputs": [
        {
          "output_type": "execute_result",
          "data": {
            "text/plain": [
              "shape: (5_819_079, 34)\n",
              "┌──────┬───────┬─────┬─────────────┬───┬───────────────┬─────────────┬────────────┬────────────┐\n",
              "│ YEAR ┆ MONTH ┆ DAY ┆ DAY_OF_WEEK ┆ … ┆ WEATHER_DELAY ┆ COUNTY_NAME ┆ STATE_CODE ┆ date       │\n",
              "│ ---  ┆ ---   ┆ --- ┆ ---         ┆   ┆ ---           ┆ ---         ┆ ---        ┆ ---        │\n",
              "│ i64  ┆ i64   ┆ i64 ┆ i64         ┆   ┆ i64           ┆ str         ┆ str        ┆ date       │\n",
              "╞══════╪═══════╪═════╪═════════════╪═══╪═══════════════╪═════════════╪════════════╪════════════╡\n",
              "│ 2015 ┆ 1     ┆ 1   ┆ 4           ┆ … ┆ null          ┆ anchorage   ┆ AK         ┆ 2015-01-01 │\n",
              "│ 2015 ┆ 1     ┆ 1   ┆ 4           ┆ … ┆ null          ┆ los angeles ┆ CA         ┆ 2015-01-01 │\n",
              "│ 2015 ┆ 1     ┆ 1   ┆ 4           ┆ … ┆ null          ┆ san mateo   ┆ CA         ┆ 2015-01-01 │\n",
              "│ 2015 ┆ 1     ┆ 1   ┆ 4           ┆ … ┆ null          ┆ los angeles ┆ CA         ┆ 2015-01-01 │\n",
              "│ 2015 ┆ 1     ┆ 1   ┆ 4           ┆ … ┆ null          ┆ king        ┆ WA         ┆ 2015-01-01 │\n",
              "│ …    ┆ …     ┆ …   ┆ …           ┆ … ┆ …             ┆ …           ┆ …          ┆ …          │\n",
              "│ 2015 ┆ 12    ┆ 31  ┆ 4           ┆ … ┆ null          ┆ los angeles ┆ CA         ┆ 2015-12-31 │\n",
              "│ 2015 ┆ 12    ┆ 31  ┆ 4           ┆ … ┆ null          ┆ queens      ┆ NY         ┆ 2015-12-31 │\n",
              "│ 2015 ┆ 12    ┆ 31  ┆ 4           ┆ … ┆ null          ┆ queens      ┆ NY         ┆ 2015-12-31 │\n",
              "│ 2015 ┆ 12    ┆ 31  ┆ 4           ┆ … ┆ null          ┆ orange      ┆ FL         ┆ 2015-12-31 │\n",
              "│ 2015 ┆ 12    ┆ 31  ┆ 4           ┆ … ┆ null          ┆ queens      ┆ NY         ┆ 2015-12-31 │\n",
              "└──────┴───────┴─────┴─────────────┴───┴───────────────┴─────────────┴────────────┴────────────┘"
            ],
            "text/html": [
              "<div><style>\n",
              ".dataframe > thead > tr,\n",
              ".dataframe > tbody > tr {\n",
              "  text-align: right;\n",
              "  white-space: pre-wrap;\n",
              "}\n",
              "</style>\n",
              "<small>shape: (5_819_079, 34)</small><table border=\"1\" class=\"dataframe\"><thead><tr><th>YEAR</th><th>MONTH</th><th>DAY</th><th>DAY_OF_WEEK</th><th>AIRLINE</th><th>FLIGHT_NUMBER</th><th>TAIL_NUMBER</th><th>ORIGIN_AIRPORT</th><th>DESTINATION_AIRPORT</th><th>SCHEDULED_DEPARTURE</th><th>DEPARTURE_TIME</th><th>DEPARTURE_DELAY</th><th>TAXI_OUT</th><th>WHEELS_OFF</th><th>SCHEDULED_TIME</th><th>ELAPSED_TIME</th><th>AIR_TIME</th><th>DISTANCE</th><th>WHEELS_ON</th><th>TAXI_IN</th><th>SCHEDULED_ARRIVAL</th><th>ARRIVAL_TIME</th><th>ARRIVAL_DELAY</th><th>DIVERTED</th><th>CANCELLED</th><th>CANCELLATION_REASON</th><th>AIR_SYSTEM_DELAY</th><th>SECURITY_DELAY</th><th>AIRLINE_DELAY</th><th>LATE_AIRCRAFT_DELAY</th><th>WEATHER_DELAY</th><th>COUNTY_NAME</th><th>STATE_CODE</th><th>date</th></tr><tr><td>i64</td><td>i64</td><td>i64</td><td>i64</td><td>str</td><td>i64</td><td>str</td><td>str</td><td>str</td><td>i64</td><td>i64</td><td>i64</td><td>i64</td><td>i64</td><td>i64</td><td>i64</td><td>i64</td><td>i64</td><td>i64</td><td>i64</td><td>i64</td><td>i64</td><td>i64</td><td>i64</td><td>i64</td><td>str</td><td>i64</td><td>i64</td><td>i64</td><td>i64</td><td>i64</td><td>str</td><td>str</td><td>date</td></tr></thead><tbody><tr><td>2015</td><td>1</td><td>1</td><td>4</td><td>&quot;AS&quot;</td><td>98</td><td>&quot;N407AS&quot;</td><td>&quot;ANC&quot;</td><td>&quot;SEA&quot;</td><td>5</td><td>2354</td><td>-11</td><td>21</td><td>15</td><td>205</td><td>194</td><td>169</td><td>1448</td><td>404</td><td>4</td><td>430</td><td>408</td><td>-22</td><td>0</td><td>0</td><td>null</td><td>null</td><td>null</td><td>null</td><td>null</td><td>null</td><td>&quot;anchorage&quot;</td><td>&quot;AK&quot;</td><td>2015-01-01</td></tr><tr><td>2015</td><td>1</td><td>1</td><td>4</td><td>&quot;AA&quot;</td><td>2336</td><td>&quot;N3KUAA&quot;</td><td>&quot;LAX&quot;</td><td>&quot;PBI&quot;</td><td>10</td><td>2</td><td>-8</td><td>12</td><td>14</td><td>280</td><td>279</td><td>263</td><td>2330</td><td>737</td><td>4</td><td>750</td><td>741</td><td>-9</td><td>0</td><td>0</td><td>null</td><td>null</td><td>null</td><td>null</td><td>null</td><td>null</td><td>&quot;los angeles&quot;</td><td>&quot;CA&quot;</td><td>2015-01-01</td></tr><tr><td>2015</td><td>1</td><td>1</td><td>4</td><td>&quot;US&quot;</td><td>840</td><td>&quot;N171US&quot;</td><td>&quot;SFO&quot;</td><td>&quot;CLT&quot;</td><td>20</td><td>18</td><td>-2</td><td>16</td><td>34</td><td>286</td><td>293</td><td>266</td><td>2296</td><td>800</td><td>11</td><td>806</td><td>811</td><td>5</td><td>0</td><td>0</td><td>null</td><td>null</td><td>null</td><td>null</td><td>null</td><td>null</td><td>&quot;san mateo&quot;</td><td>&quot;CA&quot;</td><td>2015-01-01</td></tr><tr><td>2015</td><td>1</td><td>1</td><td>4</td><td>&quot;AA&quot;</td><td>258</td><td>&quot;N3HYAA&quot;</td><td>&quot;LAX&quot;</td><td>&quot;MIA&quot;</td><td>20</td><td>15</td><td>-5</td><td>15</td><td>30</td><td>285</td><td>281</td><td>258</td><td>2342</td><td>748</td><td>8</td><td>805</td><td>756</td><td>-9</td><td>0</td><td>0</td><td>null</td><td>null</td><td>null</td><td>null</td><td>null</td><td>null</td><td>&quot;los angeles&quot;</td><td>&quot;CA&quot;</td><td>2015-01-01</td></tr><tr><td>2015</td><td>1</td><td>1</td><td>4</td><td>&quot;AS&quot;</td><td>135</td><td>&quot;N527AS&quot;</td><td>&quot;SEA&quot;</td><td>&quot;ANC&quot;</td><td>25</td><td>24</td><td>-1</td><td>11</td><td>35</td><td>235</td><td>215</td><td>199</td><td>1448</td><td>254</td><td>5</td><td>320</td><td>259</td><td>-21</td><td>0</td><td>0</td><td>null</td><td>null</td><td>null</td><td>null</td><td>null</td><td>null</td><td>&quot;king&quot;</td><td>&quot;WA&quot;</td><td>2015-01-01</td></tr><tr><td>&hellip;</td><td>&hellip;</td><td>&hellip;</td><td>&hellip;</td><td>&hellip;</td><td>&hellip;</td><td>&hellip;</td><td>&hellip;</td><td>&hellip;</td><td>&hellip;</td><td>&hellip;</td><td>&hellip;</td><td>&hellip;</td><td>&hellip;</td><td>&hellip;</td><td>&hellip;</td><td>&hellip;</td><td>&hellip;</td><td>&hellip;</td><td>&hellip;</td><td>&hellip;</td><td>&hellip;</td><td>&hellip;</td><td>&hellip;</td><td>&hellip;</td><td>&hellip;</td><td>&hellip;</td><td>&hellip;</td><td>&hellip;</td><td>&hellip;</td><td>&hellip;</td><td>&hellip;</td><td>&hellip;</td><td>&hellip;</td></tr><tr><td>2015</td><td>12</td><td>31</td><td>4</td><td>&quot;B6&quot;</td><td>688</td><td>&quot;N657JB&quot;</td><td>&quot;LAX&quot;</td><td>&quot;BOS&quot;</td><td>2359</td><td>2355</td><td>-4</td><td>22</td><td>17</td><td>320</td><td>298</td><td>272</td><td>2611</td><td>749</td><td>4</td><td>819</td><td>753</td><td>-26</td><td>0</td><td>0</td><td>null</td><td>null</td><td>null</td><td>null</td><td>null</td><td>null</td><td>&quot;los angeles&quot;</td><td>&quot;CA&quot;</td><td>2015-12-31</td></tr><tr><td>2015</td><td>12</td><td>31</td><td>4</td><td>&quot;B6&quot;</td><td>745</td><td>&quot;N828JB&quot;</td><td>&quot;JFK&quot;</td><td>&quot;PSE&quot;</td><td>2359</td><td>2355</td><td>-4</td><td>17</td><td>12</td><td>227</td><td>215</td><td>195</td><td>1617</td><td>427</td><td>3</td><td>446</td><td>430</td><td>-16</td><td>0</td><td>0</td><td>null</td><td>null</td><td>null</td><td>null</td><td>null</td><td>null</td><td>&quot;queens&quot;</td><td>&quot;NY&quot;</td><td>2015-12-31</td></tr><tr><td>2015</td><td>12</td><td>31</td><td>4</td><td>&quot;B6&quot;</td><td>1503</td><td>&quot;N913JB&quot;</td><td>&quot;JFK&quot;</td><td>&quot;SJU&quot;</td><td>2359</td><td>2350</td><td>-9</td><td>17</td><td>7</td><td>221</td><td>222</td><td>197</td><td>1598</td><td>424</td><td>8</td><td>440</td><td>432</td><td>-8</td><td>0</td><td>0</td><td>null</td><td>null</td><td>null</td><td>null</td><td>null</td><td>null</td><td>&quot;queens&quot;</td><td>&quot;NY&quot;</td><td>2015-12-31</td></tr><tr><td>2015</td><td>12</td><td>31</td><td>4</td><td>&quot;B6&quot;</td><td>333</td><td>&quot;N527JB&quot;</td><td>&quot;MCO&quot;</td><td>&quot;SJU&quot;</td><td>2359</td><td>2353</td><td>-6</td><td>10</td><td>3</td><td>161</td><td>157</td><td>144</td><td>1189</td><td>327</td><td>3</td><td>340</td><td>330</td><td>-10</td><td>0</td><td>0</td><td>null</td><td>null</td><td>null</td><td>null</td><td>null</td><td>null</td><td>&quot;orange&quot;</td><td>&quot;FL&quot;</td><td>2015-12-31</td></tr><tr><td>2015</td><td>12</td><td>31</td><td>4</td><td>&quot;B6&quot;</td><td>839</td><td>&quot;N534JB&quot;</td><td>&quot;JFK&quot;</td><td>&quot;BQN&quot;</td><td>2359</td><td>14</td><td>15</td><td>14</td><td>28</td><td>221</td><td>208</td><td>189</td><td>1576</td><td>437</td><td>5</td><td>440</td><td>442</td><td>2</td><td>0</td><td>0</td><td>null</td><td>null</td><td>null</td><td>null</td><td>null</td><td>null</td><td>&quot;queens&quot;</td><td>&quot;NY&quot;</td><td>2015-12-31</td></tr></tbody></table></div>"
            ]
          },
          "metadata": {},
          "execution_count": 9
        }
      ],
      "source": [
        "flights_df = flights_df.with_columns(\n",
        "    pl.col(\"COUNTY_NAME\").str.to_lowercase().alias(\"COUNTY_NAME\")\n",
        ")\n",
        "\n",
        "result_df = flights_df.join(\n",
        "    weather_df,\n",
        "    left_on=[\"COUNTY_NAME\", \"date\", \"STATE_CODE\"],\n",
        "    right_on=[\"county_name\", \"date\", \"st_abb\"],\n",
        "    how=\"left\"\n",
        ")\n",
        "\n",
        "flights_df"
      ]
    },
    {
      "cell_type": "code",
      "execution_count": null,
      "metadata": {
        "id": "-aaaXM_Ke-lM"
      },
      "outputs": [],
      "source": [
        "'''\n",
        "result_df2 = flights_df.join(\n",
        "    weather_df,\n",
        "    left_on=[\"COUNTY_NAME\", \"date\"],\n",
        "    right_on=[\"county_name\", \"date\"],\n",
        "    how=\"inner\"\n",
        ")\n",
        "\n",
        "result_df2\n",
        "'''"
      ]
    },
    {
      "cell_type": "code",
      "execution_count": null,
      "metadata": {
        "id": "9BVTT_Ate-lN",
        "outputId": "52a27b8d-1378-4824-9c82-11d11d17b414",
        "colab": {
          "base_uri": "https://localhost:8080/",
          "height": 617
        }
      },
      "outputs": [
        {
          "output_type": "execute_result",
          "data": {
            "text/plain": [
              "shape: (330_756, 43)\n",
              "┌──────┬───────┬─────┬─────────────┬───┬────────┬───────┬──────────┬───────────┐\n",
              "│ YEAR ┆ MONTH ┆ DAY ┆ DAY_OF_WEEK ┆ … ┆ tavg   ┆ ppt   ┆ dday_a5C ┆ dday_b15C │\n",
              "│ ---  ┆ ---   ┆ --- ┆ ---         ┆   ┆ ---    ┆ ---   ┆ ---      ┆ ---       │\n",
              "│ i64  ┆ i64   ┆ i64 ┆ i64         ┆   ┆ f64    ┆ f64   ┆ f64      ┆ f64       │\n",
              "╞══════╪═══════╪═════╪═════════════╪═══╪════════╪═══════╪══════════╪═══════════╡\n",
              "│ 2015 ┆ 1     ┆ 1   ┆ 4           ┆ … ┆ 2.774  ┆ 0.009 ┆ 0.621    ┆ 12.226    │\n",
              "│ 2015 ┆ 1     ┆ 1   ┆ 4           ┆ … ┆ 7.654  ┆ 0.0   ┆ 3.173    ┆ 7.346     │\n",
              "│ 2015 ┆ 1     ┆ 1   ┆ 4           ┆ … ┆ 2.774  ┆ 0.009 ┆ 0.621    ┆ 12.226    │\n",
              "│ 2015 ┆ 1     ┆ 1   ┆ 4           ┆ … ┆ 7.654  ┆ 0.0   ┆ 3.173    ┆ 7.346     │\n",
              "│ 2015 ┆ 1     ┆ 1   ┆ 4           ┆ … ┆ -0.854 ┆ 0.068 ┆ 0.0      ┆ 15.854    │\n",
              "│ …    ┆ …     ┆ …   ┆ …           ┆ … ┆ …      ┆ …     ┆ …        ┆ …         │\n",
              "│ 2015 ┆ 1     ┆ 31  ┆ 6           ┆ … ┆ 13.32  ┆ 9.89  ┆ 8.32     ┆ 1.68      │\n",
              "│ 2015 ┆ 1     ┆ 31  ┆ 6           ┆ … ┆ -3.451 ┆ 0.228 ┆ 0.0      ┆ 18.451    │\n",
              "│ 2015 ┆ 1     ┆ 31  ┆ 6           ┆ … ┆ -3.451 ┆ 0.228 ┆ 0.0      ┆ 18.451    │\n",
              "│ 2015 ┆ 1     ┆ 31  ┆ 6           ┆ … ┆ 4.094  ┆ 0.0   ┆ 1.04     ┆ 10.906    │\n",
              "│ 2015 ┆ 1     ┆ 31  ┆ 6           ┆ … ┆ 4.094  ┆ 0.0   ┆ 1.04     ┆ 10.906    │\n",
              "└──────┴───────┴─────┴─────────────┴───┴────────┴───────┴──────────┴───────────┘"
            ],
            "text/html": [
              "<div><style>\n",
              ".dataframe > thead > tr,\n",
              ".dataframe > tbody > tr {\n",
              "  text-align: right;\n",
              "  white-space: pre-wrap;\n",
              "}\n",
              "</style>\n",
              "<small>shape: (330_756, 43)</small><table border=\"1\" class=\"dataframe\"><thead><tr><th>YEAR</th><th>MONTH</th><th>DAY</th><th>DAY_OF_WEEK</th><th>AIRLINE</th><th>FLIGHT_NUMBER</th><th>TAIL_NUMBER</th><th>ORIGIN_AIRPORT</th><th>DESTINATION_AIRPORT</th><th>SCHEDULED_DEPARTURE</th><th>DEPARTURE_TIME</th><th>DEPARTURE_DELAY</th><th>TAXI_OUT</th><th>WHEELS_OFF</th><th>SCHEDULED_TIME</th><th>ELAPSED_TIME</th><th>AIR_TIME</th><th>DISTANCE</th><th>WHEELS_ON</th><th>TAXI_IN</th><th>SCHEDULED_ARRIVAL</th><th>ARRIVAL_TIME</th><th>ARRIVAL_DELAY</th><th>DIVERTED</th><th>CANCELLED</th><th>CANCELLATION_REASON</th><th>AIR_SYSTEM_DELAY</th><th>SECURITY_DELAY</th><th>AIRLINE_DELAY</th><th>LATE_AIRCRAFT_DELAY</th><th>WEATHER_DELAY</th><th>COUNTY_NAME</th><th>STATE_CODE</th><th>date</th><th>st_code</th><th>fips</th><th>stability</th><th>tmin</th><th>tmax</th><th>tavg</th><th>ppt</th><th>dday_a5C</th><th>dday_b15C</th></tr><tr><td>i64</td><td>i64</td><td>i64</td><td>i64</td><td>str</td><td>i64</td><td>str</td><td>str</td><td>str</td><td>i64</td><td>i64</td><td>i64</td><td>i64</td><td>i64</td><td>i64</td><td>i64</td><td>i64</td><td>i64</td><td>i64</td><td>i64</td><td>i64</td><td>i64</td><td>i64</td><td>i64</td><td>i64</td><td>str</td><td>i64</td><td>i64</td><td>i64</td><td>i64</td><td>i64</td><td>str</td><td>str</td><td>date</td><td>i64</td><td>i64</td><td>str</td><td>f64</td><td>f64</td><td>f64</td><td>f64</td><td>f64</td><td>f64</td></tr></thead><tbody><tr><td>2015</td><td>1</td><td>1</td><td>4</td><td>&quot;AA&quot;</td><td>2336</td><td>&quot;N3KUAA&quot;</td><td>&quot;LAX&quot;</td><td>&quot;PBI&quot;</td><td>10</td><td>2</td><td>-8</td><td>12</td><td>14</td><td>280</td><td>279</td><td>263</td><td>2330</td><td>737</td><td>4</td><td>750</td><td>741</td><td>-9</td><td>0</td><td>0</td><td>null</td><td>null</td><td>null</td><td>null</td><td>null</td><td>null</td><td>&quot;los angeles&quot;</td><td>&quot;CA&quot;</td><td>2015-01-01</td><td>6</td><td>6037</td><td>&quot;stable&quot;</td><td>-2.162</td><td>7.71</td><td>2.774</td><td>0.009</td><td>0.621</td><td>12.226</td></tr><tr><td>2015</td><td>1</td><td>1</td><td>4</td><td>&quot;US&quot;</td><td>840</td><td>&quot;N171US&quot;</td><td>&quot;SFO&quot;</td><td>&quot;CLT&quot;</td><td>20</td><td>18</td><td>-2</td><td>16</td><td>34</td><td>286</td><td>293</td><td>266</td><td>2296</td><td>800</td><td>11</td><td>806</td><td>811</td><td>5</td><td>0</td><td>0</td><td>null</td><td>null</td><td>null</td><td>null</td><td>null</td><td>null</td><td>&quot;san mateo&quot;</td><td>&quot;CA&quot;</td><td>2015-01-01</td><td>6</td><td>6081</td><td>&quot;stable&quot;</td><td>2.561</td><td>12.746</td><td>7.654</td><td>0.0</td><td>3.173</td><td>7.346</td></tr><tr><td>2015</td><td>1</td><td>1</td><td>4</td><td>&quot;AA&quot;</td><td>258</td><td>&quot;N3HYAA&quot;</td><td>&quot;LAX&quot;</td><td>&quot;MIA&quot;</td><td>20</td><td>15</td><td>-5</td><td>15</td><td>30</td><td>285</td><td>281</td><td>258</td><td>2342</td><td>748</td><td>8</td><td>805</td><td>756</td><td>-9</td><td>0</td><td>0</td><td>null</td><td>null</td><td>null</td><td>null</td><td>null</td><td>null</td><td>&quot;los angeles&quot;</td><td>&quot;CA&quot;</td><td>2015-01-01</td><td>6</td><td>6037</td><td>&quot;stable&quot;</td><td>-2.162</td><td>7.71</td><td>2.774</td><td>0.009</td><td>0.621</td><td>12.226</td></tr><tr><td>2015</td><td>1</td><td>1</td><td>4</td><td>&quot;DL&quot;</td><td>806</td><td>&quot;N3730B&quot;</td><td>&quot;SFO&quot;</td><td>&quot;MSP&quot;</td><td>25</td><td>20</td><td>-5</td><td>18</td><td>38</td><td>217</td><td>230</td><td>206</td><td>1589</td><td>604</td><td>6</td><td>602</td><td>610</td><td>8</td><td>0</td><td>0</td><td>null</td><td>null</td><td>null</td><td>null</td><td>null</td><td>null</td><td>&quot;san mateo&quot;</td><td>&quot;CA&quot;</td><td>2015-01-01</td><td>6</td><td>6081</td><td>&quot;stable&quot;</td><td>2.561</td><td>12.746</td><td>7.654</td><td>0.0</td><td>3.173</td><td>7.346</td></tr><tr><td>2015</td><td>1</td><td>1</td><td>4</td><td>&quot;NK&quot;</td><td>612</td><td>&quot;N635NK&quot;</td><td>&quot;LAS&quot;</td><td>&quot;MSP&quot;</td><td>25</td><td>19</td><td>-6</td><td>11</td><td>30</td><td>181</td><td>170</td><td>154</td><td>1299</td><td>504</td><td>5</td><td>526</td><td>509</td><td>-17</td><td>0</td><td>0</td><td>null</td><td>null</td><td>null</td><td>null</td><td>null</td><td>null</td><td>&quot;clark&quot;</td><td>&quot;NV&quot;</td><td>2015-01-01</td><td>32</td><td>32003</td><td>&quot;stable&quot;</td><td>-3.51</td><td>1.801</td><td>-0.854</td><td>0.068</td><td>0.0</td><td>15.854</td></tr><tr><td>&hellip;</td><td>&hellip;</td><td>&hellip;</td><td>&hellip;</td><td>&hellip;</td><td>&hellip;</td><td>&hellip;</td><td>&hellip;</td><td>&hellip;</td><td>&hellip;</td><td>&hellip;</td><td>&hellip;</td><td>&hellip;</td><td>&hellip;</td><td>&hellip;</td><td>&hellip;</td><td>&hellip;</td><td>&hellip;</td><td>&hellip;</td><td>&hellip;</td><td>&hellip;</td><td>&hellip;</td><td>&hellip;</td><td>&hellip;</td><td>&hellip;</td><td>&hellip;</td><td>&hellip;</td><td>&hellip;</td><td>&hellip;</td><td>&hellip;</td><td>&hellip;</td><td>&hellip;</td><td>&hellip;</td><td>&hellip;</td><td>&hellip;</td><td>&hellip;</td><td>&hellip;</td><td>&hellip;</td><td>&hellip;</td><td>&hellip;</td><td>&hellip;</td><td>&hellip;</td><td>&hellip;</td></tr><tr><td>2015</td><td>1</td><td>31</td><td>6</td><td>&quot;US&quot;</td><td>889</td><td>&quot;N656AW&quot;</td><td>&quot;PHX&quot;</td><td>&quot;MSP&quot;</td><td>2359</td><td>2352</td><td>-7</td><td>9</td><td>1</td><td>180</td><td>176</td><td>159</td><td>1276</td><td>340</td><td>8</td><td>359</td><td>348</td><td>-11</td><td>0</td><td>0</td><td>null</td><td>null</td><td>null</td><td>null</td><td>null</td><td>null</td><td>&quot;maricopa&quot;</td><td>&quot;AZ&quot;</td><td>2015-01-31</td><td>4</td><td>4013</td><td>&quot;stable&quot;</td><td>11.649</td><td>14.992</td><td>13.32</td><td>9.89</td><td>8.32</td><td>1.68</td></tr><tr><td>2015</td><td>1</td><td>31</td><td>6</td><td>&quot;B6&quot;</td><td>745</td><td>&quot;N627JB&quot;</td><td>&quot;JFK&quot;</td><td>&quot;PSE&quot;</td><td>2359</td><td>2353</td><td>-6</td><td>19</td><td>12</td><td>227</td><td>205</td><td>182</td><td>1617</td><td>414</td><td>4</td><td>446</td><td>418</td><td>-28</td><td>0</td><td>0</td><td>null</td><td>null</td><td>null</td><td>null</td><td>null</td><td>null</td><td>&quot;queens&quot;</td><td>&quot;NY&quot;</td><td>2015-01-31</td><td>36</td><td>36081</td><td>&quot;stable&quot;</td><td>-9.897</td><td>2.994</td><td>-3.451</td><td>0.228</td><td>0.0</td><td>18.451</td></tr><tr><td>2015</td><td>1</td><td>31</td><td>6</td><td>&quot;B6&quot;</td><td>839</td><td>&quot;N658JB&quot;</td><td>&quot;JFK&quot;</td><td>&quot;BQN&quot;</td><td>2359</td><td>2359</td><td>0</td><td>18</td><td>17</td><td>221</td><td>200</td><td>179</td><td>1576</td><td>416</td><td>3</td><td>440</td><td>419</td><td>-21</td><td>0</td><td>0</td><td>null</td><td>null</td><td>null</td><td>null</td><td>null</td><td>null</td><td>&quot;queens&quot;</td><td>&quot;NY&quot;</td><td>2015-01-31</td><td>36</td><td>36081</td><td>&quot;stable&quot;</td><td>-9.897</td><td>2.994</td><td>-3.451</td><td>0.228</td><td>0.0</td><td>18.451</td></tr><tr><td>2015</td><td>1</td><td>31</td><td>6</td><td>&quot;F9&quot;</td><td>300</td><td>&quot;N218FR&quot;</td><td>&quot;DEN&quot;</td><td>&quot;TPA&quot;</td><td>2359</td><td>2</td><td>3</td><td>35</td><td>37</td><td>192</td><td>212</td><td>168</td><td>1506</td><td>525</td><td>9</td><td>511</td><td>534</td><td>23</td><td>0</td><td>0</td><td>null</td><td>21</td><td>0</td><td>2</td><td>0</td><td>0</td><td>&quot;denver&quot;</td><td>&quot;CO&quot;</td><td>2015-01-31</td><td>8</td><td>8031</td><td>&quot;stable&quot;</td><td>-0.508</td><td>8.696</td><td>4.094</td><td>0.0</td><td>1.04</td><td>10.906</td></tr><tr><td>2015</td><td>1</td><td>31</td><td>6</td><td>&quot;F9&quot;</td><td>422</td><td>&quot;N954FR&quot;</td><td>&quot;DEN&quot;</td><td>&quot;ATL&quot;</td><td>2359</td><td>2359</td><td>0</td><td>40</td><td>39</td><td>162</td><td>191</td><td>141</td><td>1199</td><td>500</td><td>10</td><td>441</td><td>510</td><td>29</td><td>0</td><td>0</td><td>null</td><td>29</td><td>0</td><td>0</td><td>0</td><td>0</td><td>&quot;denver&quot;</td><td>&quot;CO&quot;</td><td>2015-01-31</td><td>8</td><td>8031</td><td>&quot;stable&quot;</td><td>-0.508</td><td>8.696</td><td>4.094</td><td>0.0</td><td>1.04</td><td>10.906</td></tr></tbody></table></div>"
            ]
          },
          "metadata": {},
          "execution_count": 10
        }
      ],
      "source": [
        "result_important_df = result_df.filter(pl.col('tavg').is_not_null())\n",
        "result_important_df"
      ]
    },
    {
      "cell_type": "markdown",
      "metadata": {
        "id": "w_mNw4VJe-lN"
      },
      "source": [
        "We will now split in to test and train sets and proceed with EDA on the train set"
      ]
    },
    {
      "cell_type": "code",
      "execution_count": null,
      "metadata": {
        "id": "kubrs1pGe-lN",
        "outputId": "b3dd81a4-44d4-4f61-e75b-19c7fd97616d",
        "colab": {
          "base_uri": "https://localhost:8080/",
          "height": 491
        }
      },
      "outputs": [
        {
          "output_type": "error",
          "ename": "ColumnNotFoundError",
          "evalue": "\"\" not found\n\nResolved plan until failure:\n\n\t---> FAILED HERE RESOLVING THIS_NODE <---\nDF [\"YEAR\", \"MONTH\", \"DAY\", \"DAY_OF_WEEK\"]; PROJECT */43 COLUMNS; SELECTION: None",
          "traceback": [
            "\u001b[0;31m---------------------------------------------------------------------------\u001b[0m",
            "\u001b[0;31mColumnNotFoundError\u001b[0m                       Traceback (most recent call last)",
            "\u001b[0;32m<ipython-input-11-f840987f31fd>\u001b[0m in \u001b[0;36m<cell line: 5>\u001b[0;34m()\u001b[0m\n\u001b[1;32m      3\u001b[0m \u001b[0mtarget\u001b[0m \u001b[0;34m=\u001b[0m \u001b[0;34m[\u001b[0m\u001b[0;34m'DEPARTURE_DELAY'\u001b[0m\u001b[0;34m]\u001b[0m\u001b[0;34m\u001b[0m\u001b[0;34m\u001b[0m\u001b[0m\n\u001b[1;32m      4\u001b[0m \u001b[0;34m\u001b[0m\u001b[0m\n\u001b[0;32m----> 5\u001b[0;31m \u001b[0mX\u001b[0m \u001b[0;34m=\u001b[0m \u001b[0mresult_important_df\u001b[0m\u001b[0;34m.\u001b[0m\u001b[0mdrop\u001b[0m\u001b[0;34m(\u001b[0m\u001b[0;34m\"\"\u001b[0m\u001b[0;34m)\u001b[0m\u001b[0;34m\u001b[0m\u001b[0;34m\u001b[0m\u001b[0m\n\u001b[0m\u001b[1;32m      6\u001b[0m \u001b[0;34m\u001b[0m\u001b[0m\n\u001b[1;32m      7\u001b[0m \u001b[0mX_train\u001b[0m\u001b[0;34m,\u001b[0m \u001b[0mX_test\u001b[0m\u001b[0;34m,\u001b[0m \u001b[0my_train\u001b[0m\u001b[0;34m,\u001b[0m \u001b[0my_test\u001b[0m \u001b[0;34m=\u001b[0m \u001b[0mtrain_test_split\u001b[0m\u001b[0;34m(\u001b[0m\u001b[0mresult_important_df\u001b[0m\u001b[0;34m,\u001b[0m \u001b[0mtest_size\u001b[0m\u001b[0;34m=\u001b[0m\u001b[0;36m0.2\u001b[0m\u001b[0;34m,\u001b[0m \u001b[0mrandom_state\u001b[0m\u001b[0;34m=\u001b[0m\u001b[0;36m0\u001b[0m\u001b[0;34m)\u001b[0m\u001b[0;34m\u001b[0m\u001b[0;34m\u001b[0m\u001b[0m\n",
            "\u001b[0;32m/usr/local/lib/python3.10/dist-packages/polars/dataframe/frame.py\u001b[0m in \u001b[0;36mdrop\u001b[0;34m(self, strict, *columns)\u001b[0m\n\u001b[1;32m   7569\u001b[0m         \u001b[0;31m└\u001b[0m\u001b[0;31m─\u001b[0m\u001b[0;31m─\u001b[0m\u001b[0;31m─\u001b[0m\u001b[0;31m─\u001b[0m\u001b[0;31m─\u001b[0m\u001b[0;31m┘\u001b[0m\u001b[0;34m\u001b[0m\u001b[0;34m\u001b[0m\u001b[0m\n\u001b[1;32m   7570\u001b[0m         \"\"\"\n\u001b[0;32m-> 7571\u001b[0;31m         \u001b[0;32mreturn\u001b[0m \u001b[0mself\u001b[0m\u001b[0;34m.\u001b[0m\u001b[0mlazy\u001b[0m\u001b[0;34m(\u001b[0m\u001b[0;34m)\u001b[0m\u001b[0;34m.\u001b[0m\u001b[0mdrop\u001b[0m\u001b[0;34m(\u001b[0m\u001b[0;34m*\u001b[0m\u001b[0mcolumns\u001b[0m\u001b[0;34m,\u001b[0m \u001b[0mstrict\u001b[0m\u001b[0;34m=\u001b[0m\u001b[0mstrict\u001b[0m\u001b[0;34m)\u001b[0m\u001b[0;34m.\u001b[0m\u001b[0mcollect\u001b[0m\u001b[0;34m(\u001b[0m\u001b[0m_eager\u001b[0m\u001b[0;34m=\u001b[0m\u001b[0;32mTrue\u001b[0m\u001b[0;34m)\u001b[0m\u001b[0;34m\u001b[0m\u001b[0;34m\u001b[0m\u001b[0m\n\u001b[0m\u001b[1;32m   7572\u001b[0m \u001b[0;34m\u001b[0m\u001b[0m\n\u001b[1;32m   7573\u001b[0m     \u001b[0;32mdef\u001b[0m \u001b[0mdrop_in_place\u001b[0m\u001b[0;34m(\u001b[0m\u001b[0mself\u001b[0m\u001b[0;34m,\u001b[0m \u001b[0mname\u001b[0m\u001b[0;34m:\u001b[0m \u001b[0mstr\u001b[0m\u001b[0;34m)\u001b[0m \u001b[0;34m->\u001b[0m \u001b[0mSeries\u001b[0m\u001b[0;34m:\u001b[0m\u001b[0;34m\u001b[0m\u001b[0;34m\u001b[0m\u001b[0m\n",
            "\u001b[0;32m/usr/local/lib/python3.10/dist-packages/polars/lazyframe/frame.py\u001b[0m in \u001b[0;36mcollect\u001b[0;34m(self, type_coercion, predicate_pushdown, projection_pushdown, simplify_expression, slice_pushdown, comm_subplan_elim, comm_subexpr_elim, cluster_with_columns, collapse_joins, no_optimization, streaming, engine, background, _eager, **_kwargs)\u001b[0m\n\u001b[1;32m   2048\u001b[0m         \u001b[0;31m# Only for testing purposes\u001b[0m\u001b[0;34m\u001b[0m\u001b[0;34m\u001b[0m\u001b[0m\n\u001b[1;32m   2049\u001b[0m         \u001b[0mcallback\u001b[0m \u001b[0;34m=\u001b[0m \u001b[0m_kwargs\u001b[0m\u001b[0;34m.\u001b[0m\u001b[0mget\u001b[0m\u001b[0;34m(\u001b[0m\u001b[0;34m\"post_opt_callback\"\u001b[0m\u001b[0;34m,\u001b[0m \u001b[0mcallback\u001b[0m\u001b[0;34m)\u001b[0m\u001b[0;34m\u001b[0m\u001b[0;34m\u001b[0m\u001b[0m\n\u001b[0;32m-> 2050\u001b[0;31m         \u001b[0;32mreturn\u001b[0m \u001b[0mwrap_df\u001b[0m\u001b[0;34m(\u001b[0m\u001b[0mldf\u001b[0m\u001b[0;34m.\u001b[0m\u001b[0mcollect\u001b[0m\u001b[0;34m(\u001b[0m\u001b[0mcallback\u001b[0m\u001b[0;34m)\u001b[0m\u001b[0;34m)\u001b[0m\u001b[0;34m\u001b[0m\u001b[0;34m\u001b[0m\u001b[0m\n\u001b[0m\u001b[1;32m   2051\u001b[0m \u001b[0;34m\u001b[0m\u001b[0m\n\u001b[1;32m   2052\u001b[0m     \u001b[0;34m@\u001b[0m\u001b[0moverload\u001b[0m\u001b[0;34m\u001b[0m\u001b[0;34m\u001b[0m\u001b[0m\n",
            "\u001b[0;31mColumnNotFoundError\u001b[0m: \"\" not found\n\nResolved plan until failure:\n\n\t---> FAILED HERE RESOLVING THIS_NODE <---\nDF [\"YEAR\", \"MONTH\", \"DAY\", \"DAY_OF_WEEK\"]; PROJECT */43 COLUMNS; SELECTION: None"
          ]
        }
      ],
      "source": [
        "from sklearn.model_selection import train_test_split\n",
        "\n",
        "target = ['DEPARTURE_DELAY']\n",
        "\n",
        "X = result_important_df.drop(\"\")\n",
        "\n",
        "X_train, X_test, y_train, y_test = train_test_split(result_important_df, test_size=0.2, random_state=0)\n",
        "print(X_train.shape)\n",
        "print(X_test.shape)"
      ]
    },
    {
      "cell_type": "markdown",
      "metadata": {
        "id": "G28sNHwVe-lN"
      },
      "source": [
        "Let us now get some understanding of what our data looks like"
      ]
    },
    {
      "cell_type": "code",
      "execution_count": null,
      "metadata": {
        "id": "QyoK-l_Ae-lN"
      },
      "outputs": [],
      "source": [
        "basic_stats = X_train.describe()\n",
        "info = X_train.schema\n",
        "columns_of_interest = ['SCHEDULED_DEPARTURE', 'DEPARTURE_TIME', 'DEPARTURE_DELAY', 'TAXI_OUT', 'WHEELS_OFF', 'ELAPSED_TIME', 'AIR_TIME', 'WHEELS_ON', 'DISTANCE', 'ARRIVAL_DELAY', 'DIVERTED', 'CANCELLED', 'tmin', 'tmax', 'tavg', 'ppt', 'dday_a5C', 'dday_b15C']\n",
        "X_train_numerical = X_train.select(columns_of_interest)\n",
        "df = X_train_numerical.to_pandas()\n",
        "corr_matrix = df.corr()\n",
        "corr_matrix"
      ]
    },
    {
      "cell_type": "code",
      "execution_count": null,
      "metadata": {
        "id": "Zm7_g2f2e-lN"
      },
      "outputs": [],
      "source": [
        "'''\n",
        "VISUAL 1: Naturally as we are interested in DEPARTURE and ARRIVAL delay when choosing features, we should choose features that seem to be highly correlated with these delays\n",
        "We will use 2 metrics that I think do a good job of measuring correlation, 1 is the standard pearson correlation, then to compare categorical values we will use the CramerV correlation metric\n",
        "'''\n",
        "plt.figure(figsize=(12, 10))\n",
        "\n",
        "sns.heatmap(\n",
        "    corr_matrix,\n",
        "    annot=True,\n",
        "    fmt=\".2f\",\n",
        "    cmap='coolwarm',\n",
        "    square=True,\n",
        "    linewidths=.5,\n",
        "    cbar_kws={\"shrink\": .5}\n",
        ")\n",
        "\n",
        "plt.title('Correlation Matrix Heatmap', fontsize=16)\n",
        "plt.xticks(rotation=45, ha='right')\n",
        "plt.yticks(rotation=0)\n",
        "plt.tight_layout()\n",
        "plt.show()\n"
      ]
    },
    {
      "cell_type": "markdown",
      "metadata": {
        "id": "9YzhdkIve-lO"
      },
      "source": [
        "As we can see there are very weak correlations, but what if we filter for precipitation > 1?"
      ]
    },
    {
      "cell_type": "code",
      "execution_count": null,
      "metadata": {
        "id": "Ld0kIJx4e-lO"
      },
      "outputs": [],
      "source": [
        "df_ppt_filtered = df[df['ppt'] > 5]\n",
        "corr_matrix = df_ppt_filtered.corr()\n",
        "plt.figure(figsize=(12, 10))\n",
        "\n",
        "sns.heatmap(\n",
        "    corr_matrix,\n",
        "    annot=True,\n",
        "    fmt=\".2f\",\n",
        "    cmap='coolwarm',\n",
        "    square=True,\n",
        "    linewidths=.5,\n",
        "    cbar_kws={\"shrink\": .5}\n",
        ")\n",
        "\n",
        "plt.title('Correlation Matrix Heatmap', fontsize=16)\n",
        "plt.xticks(rotation=45, ha='right')\n",
        "plt.yticks(rotation=0)\n",
        "plt.tight_layout()\n",
        "plt.show()\n",
        "print(df_ppt_filtered.shape)"
      ]
    },
    {
      "cell_type": "code",
      "execution_count": null,
      "metadata": {
        "id": "cePql51se-lO"
      },
      "outputs": [],
      "source": [
        "origin_counts = result_important_df.group_by(\"ORIGIN_AIRPORT\").count()\n",
        "origin_counts_pd = origin_counts.to_pandas()\n",
        "origin_counts_pd = origin_counts_pd.sort_values(by=\"count\", ascending=False)\n",
        "top_30 = origin_counts_pd.head(30)\n",
        "\n",
        "# Plot the bar chart\n",
        "plt.figure(figsize=(12, 6))\n",
        "plt.bar(top_30[\"ORIGIN_AIRPORT\"], top_30[\"count\"], color=\"skyblue\")\n",
        "plt.xlabel(\"Origin Airport\", fontsize=14)\n",
        "plt.ylabel(\"Flight Count\", fontsize=14)\n",
        "plt.title(\"Flight Count by Origin Airport\", fontsize=16)\n",
        "plt.xticks(rotation=45, fontsize=12)\n",
        "plt.grid(axis=\"y\", linestyle=\"--\", alpha=0.7)\n",
        "plt.tight_layout()\n",
        "plt.show()"
      ]
    },
    {
      "cell_type": "code",
      "execution_count": null,
      "metadata": {
        "id": "55s0DaAde-lO"
      },
      "outputs": [],
      "source": [
        "airline_counts = result_important_df.group_by(\"AIRLINE\").count()\n",
        "airline_counts = airline_counts.to_pandas()\n",
        "airline_counts = airline_counts.sort_values(by=\"count\", ascending=False)\n",
        "\n",
        "# Plot the bar chart\n",
        "plt.figure(figsize=(12, 6))\n",
        "plt.bar(airline_counts[\"AIRLINE\"], airline_counts[\"count\"], color=\"skyblue\")\n",
        "plt.xlabel(\"Airlines Represented\", fontsize=14)\n",
        "plt.ylabel(\"Flight Count\", fontsize=14)\n",
        "plt.title(\"Airline Count\", fontsize=16)\n",
        "plt.xticks(rotation=45, fontsize=12)\n",
        "plt.grid(axis=\"y\", linestyle=\"--\", alpha=0.7)\n",
        "plt.tight_layout()\n",
        "plt.show()"
      ]
    },
    {
      "cell_type": "markdown",
      "metadata": {
        "id": "Q0MK0g9Ve-lO"
      },
      "source": [
        "Now we try and do some classification, predicting whether or not a flight will be delayed given some conditions. We first need to find a way to categorize if a plane is delayed."
      ]
    },
    {
      "cell_type": "code",
      "source": [
        "target = \"DEPARTURE_DELAY\"\n",
        "print(result_important_df.filter(result_important_df[target] > 0).shape)\n",
        "print(result_important_df.filter(result_important_df[target] <= 0).shape)"
      ],
      "metadata": {
        "colab": {
          "base_uri": "https://localhost:8080/"
        },
        "id": "Fqel0uLZH_ba",
        "outputId": "73a1c35b-b93a-4296-c749-86c7e0bc3d86"
      },
      "execution_count": null,
      "outputs": [
        {
          "output_type": "stream",
          "name": "stdout",
          "text": [
            "(125271, 43)\n",
            "(196783, 43)\n"
          ]
        }
      ]
    },
    {
      "cell_type": "code",
      "source": [
        "binary_results_df = result_important_df.with_columns(\n",
        "    pl.when(result_important_df[target] > 0)\n",
        "    .then(1)\n",
        "    .otherwise(0)\n",
        "    .alias(\"IS_DELAYED\")  # Replace the column with the modified values\n",
        ")"
      ],
      "metadata": {
        "id": "KwTB2TlRI1F-"
      },
      "execution_count": null,
      "outputs": []
    },
    {
      "cell_type": "code",
      "source": [
        "binary_results_df.head()"
      ],
      "metadata": {
        "collapsed": true,
        "colab": {
          "base_uri": "https://localhost:8080/",
          "height": 351
        },
        "id": "zAmx5ovdJHq4",
        "outputId": "1ac4e5b9-1f7a-44be-b9b1-83ce3aef705e"
      },
      "execution_count": null,
      "outputs": [
        {
          "output_type": "execute_result",
          "data": {
            "text/plain": [
              "shape: (5, 44)\n",
              "┌──────┬───────┬─────┬─────────────┬───┬───────┬──────────┬───────────┬────────────┐\n",
              "│ YEAR ┆ MONTH ┆ DAY ┆ DAY_OF_WEEK ┆ … ┆ ppt   ┆ dday_a5C ┆ dday_b15C ┆ IS_DELAYED │\n",
              "│ ---  ┆ ---   ┆ --- ┆ ---         ┆   ┆ ---   ┆ ---      ┆ ---       ┆ ---        │\n",
              "│ i64  ┆ i64   ┆ i64 ┆ i64         ┆   ┆ f64   ┆ f64      ┆ f64       ┆ i32        │\n",
              "╞══════╪═══════╪═════╪═════════════╪═══╪═══════╪══════════╪═══════════╪════════════╡\n",
              "│ 2015 ┆ 1     ┆ 1   ┆ 4           ┆ … ┆ 0.009 ┆ 0.621    ┆ 12.226    ┆ 0          │\n",
              "│ 2015 ┆ 1     ┆ 1   ┆ 4           ┆ … ┆ 0.0   ┆ 3.173    ┆ 7.346     ┆ 0          │\n",
              "│ 2015 ┆ 1     ┆ 1   ┆ 4           ┆ … ┆ 0.009 ┆ 0.621    ┆ 12.226    ┆ 0          │\n",
              "│ 2015 ┆ 1     ┆ 1   ┆ 4           ┆ … ┆ 0.0   ┆ 3.173    ┆ 7.346     ┆ 0          │\n",
              "│ 2015 ┆ 1     ┆ 1   ┆ 4           ┆ … ┆ 0.068 ┆ 0.0      ┆ 15.854    ┆ 0          │\n",
              "└──────┴───────┴─────┴─────────────┴───┴───────┴──────────┴───────────┴────────────┘"
            ],
            "text/html": [
              "<div><style>\n",
              ".dataframe > thead > tr,\n",
              ".dataframe > tbody > tr {\n",
              "  text-align: right;\n",
              "  white-space: pre-wrap;\n",
              "}\n",
              "</style>\n",
              "<small>shape: (5, 44)</small><table border=\"1\" class=\"dataframe\"><thead><tr><th>YEAR</th><th>MONTH</th><th>DAY</th><th>DAY_OF_WEEK</th><th>AIRLINE</th><th>FLIGHT_NUMBER</th><th>TAIL_NUMBER</th><th>ORIGIN_AIRPORT</th><th>DESTINATION_AIRPORT</th><th>SCHEDULED_DEPARTURE</th><th>DEPARTURE_TIME</th><th>DEPARTURE_DELAY</th><th>TAXI_OUT</th><th>WHEELS_OFF</th><th>SCHEDULED_TIME</th><th>ELAPSED_TIME</th><th>AIR_TIME</th><th>DISTANCE</th><th>WHEELS_ON</th><th>TAXI_IN</th><th>SCHEDULED_ARRIVAL</th><th>ARRIVAL_TIME</th><th>ARRIVAL_DELAY</th><th>DIVERTED</th><th>CANCELLED</th><th>CANCELLATION_REASON</th><th>AIR_SYSTEM_DELAY</th><th>SECURITY_DELAY</th><th>AIRLINE_DELAY</th><th>LATE_AIRCRAFT_DELAY</th><th>WEATHER_DELAY</th><th>COUNTY_NAME</th><th>STATE_CODE</th><th>date</th><th>st_code</th><th>fips</th><th>stability</th><th>tmin</th><th>tmax</th><th>tavg</th><th>ppt</th><th>dday_a5C</th><th>dday_b15C</th><th>IS_DELAYED</th></tr><tr><td>i64</td><td>i64</td><td>i64</td><td>i64</td><td>str</td><td>i64</td><td>str</td><td>str</td><td>str</td><td>i64</td><td>i64</td><td>i64</td><td>i64</td><td>i64</td><td>i64</td><td>i64</td><td>i64</td><td>i64</td><td>i64</td><td>i64</td><td>i64</td><td>i64</td><td>i64</td><td>i64</td><td>i64</td><td>str</td><td>i64</td><td>i64</td><td>i64</td><td>i64</td><td>i64</td><td>str</td><td>str</td><td>date</td><td>i64</td><td>i64</td><td>str</td><td>f64</td><td>f64</td><td>f64</td><td>f64</td><td>f64</td><td>f64</td><td>i32</td></tr></thead><tbody><tr><td>2015</td><td>1</td><td>1</td><td>4</td><td>&quot;AA&quot;</td><td>2336</td><td>&quot;N3KUAA&quot;</td><td>&quot;LAX&quot;</td><td>&quot;PBI&quot;</td><td>10</td><td>2</td><td>-8</td><td>12</td><td>14</td><td>280</td><td>279</td><td>263</td><td>2330</td><td>737</td><td>4</td><td>750</td><td>741</td><td>-9</td><td>0</td><td>0</td><td>null</td><td>null</td><td>null</td><td>null</td><td>null</td><td>null</td><td>&quot;los angeles&quot;</td><td>&quot;CA&quot;</td><td>2015-01-01</td><td>6</td><td>6037</td><td>&quot;stable&quot;</td><td>-2.162</td><td>7.71</td><td>2.774</td><td>0.009</td><td>0.621</td><td>12.226</td><td>0</td></tr><tr><td>2015</td><td>1</td><td>1</td><td>4</td><td>&quot;US&quot;</td><td>840</td><td>&quot;N171US&quot;</td><td>&quot;SFO&quot;</td><td>&quot;CLT&quot;</td><td>20</td><td>18</td><td>-2</td><td>16</td><td>34</td><td>286</td><td>293</td><td>266</td><td>2296</td><td>800</td><td>11</td><td>806</td><td>811</td><td>5</td><td>0</td><td>0</td><td>null</td><td>null</td><td>null</td><td>null</td><td>null</td><td>null</td><td>&quot;san mateo&quot;</td><td>&quot;CA&quot;</td><td>2015-01-01</td><td>6</td><td>6081</td><td>&quot;stable&quot;</td><td>2.561</td><td>12.746</td><td>7.654</td><td>0.0</td><td>3.173</td><td>7.346</td><td>0</td></tr><tr><td>2015</td><td>1</td><td>1</td><td>4</td><td>&quot;AA&quot;</td><td>258</td><td>&quot;N3HYAA&quot;</td><td>&quot;LAX&quot;</td><td>&quot;MIA&quot;</td><td>20</td><td>15</td><td>-5</td><td>15</td><td>30</td><td>285</td><td>281</td><td>258</td><td>2342</td><td>748</td><td>8</td><td>805</td><td>756</td><td>-9</td><td>0</td><td>0</td><td>null</td><td>null</td><td>null</td><td>null</td><td>null</td><td>null</td><td>&quot;los angeles&quot;</td><td>&quot;CA&quot;</td><td>2015-01-01</td><td>6</td><td>6037</td><td>&quot;stable&quot;</td><td>-2.162</td><td>7.71</td><td>2.774</td><td>0.009</td><td>0.621</td><td>12.226</td><td>0</td></tr><tr><td>2015</td><td>1</td><td>1</td><td>4</td><td>&quot;DL&quot;</td><td>806</td><td>&quot;N3730B&quot;</td><td>&quot;SFO&quot;</td><td>&quot;MSP&quot;</td><td>25</td><td>20</td><td>-5</td><td>18</td><td>38</td><td>217</td><td>230</td><td>206</td><td>1589</td><td>604</td><td>6</td><td>602</td><td>610</td><td>8</td><td>0</td><td>0</td><td>null</td><td>null</td><td>null</td><td>null</td><td>null</td><td>null</td><td>&quot;san mateo&quot;</td><td>&quot;CA&quot;</td><td>2015-01-01</td><td>6</td><td>6081</td><td>&quot;stable&quot;</td><td>2.561</td><td>12.746</td><td>7.654</td><td>0.0</td><td>3.173</td><td>7.346</td><td>0</td></tr><tr><td>2015</td><td>1</td><td>1</td><td>4</td><td>&quot;NK&quot;</td><td>612</td><td>&quot;N635NK&quot;</td><td>&quot;LAS&quot;</td><td>&quot;MSP&quot;</td><td>25</td><td>19</td><td>-6</td><td>11</td><td>30</td><td>181</td><td>170</td><td>154</td><td>1299</td><td>504</td><td>5</td><td>526</td><td>509</td><td>-17</td><td>0</td><td>0</td><td>null</td><td>null</td><td>null</td><td>null</td><td>null</td><td>null</td><td>&quot;clark&quot;</td><td>&quot;NV&quot;</td><td>2015-01-01</td><td>32</td><td>32003</td><td>&quot;stable&quot;</td><td>-3.51</td><td>1.801</td><td>-0.854</td><td>0.068</td><td>0.0</td><td>15.854</td><td>0</td></tr></tbody></table></div>"
            ]
          },
          "metadata": {},
          "execution_count": 41
        }
      ]
    },
    {
      "cell_type": "markdown",
      "source": [
        "For now we train on features that are just numeric, not any of the categorical features."
      ],
      "metadata": {
        "id": "-FuMYuXCOeY1"
      }
    },
    {
      "cell_type": "code",
      "execution_count": null,
      "metadata": {
        "id": "dJUcGfnxe-lO",
        "colab": {
          "base_uri": "https://localhost:8080/"
        },
        "outputId": "c1a3ab1d-d49c-49ed-8a41-ed9701405655"
      },
      "outputs": [
        {
          "output_type": "stream",
          "name": "stdout",
          "text": [
            "(264604, 13)\n",
            "(66152, 13)\n"
          ]
        }
      ],
      "source": [
        "from sklearn.model_selection import train_test_split\n",
        "\n",
        "binary_results_df = binary_results_df.to_pandas()\n",
        "\n",
        "numeric_features = [\"SCHEDULED_DEPARTURE\", \"SCHEDULED_TIME\",\"YEAR\",\"MONTH\",\"DAY\",\"DAY_OF_WEEK\",\"DISTANCE\",\"tmin\",\"tmax\",\"tavg\",\"ppt\",\"dday_a5C\",\"dday_b15C\"]\n",
        "\n",
        "X = binary_results_df[numeric_features]\n",
        "y = binary_results_df['IS_DELAYED']\n",
        "\n",
        "X_train, X_test, y_train, y_test = train_test_split(X,y, test_size=0.2, random_state=42)\n",
        "print(X_train.shape)\n",
        "print(X_test.shape)"
      ]
    },
    {
      "cell_type": "markdown",
      "source": [
        "Train a Random Forest Classifier to see if flight is delayed."
      ],
      "metadata": {
        "id": "qTIp8drXJXlZ"
      }
    },
    {
      "cell_type": "code",
      "source": [
        "X_train.info()"
      ],
      "metadata": {
        "colab": {
          "base_uri": "https://localhost:8080/"
        },
        "collapsed": true,
        "id": "BdRoFYHfM1LO",
        "outputId": "e47c7455-febb-4b0b-8d42-600f91d3056e"
      },
      "execution_count": null,
      "outputs": [
        {
          "output_type": "stream",
          "name": "stdout",
          "text": [
            "<class 'pandas.core.frame.DataFrame'>\n",
            "Index: 26460 entries, 194526 to 257364\n",
            "Data columns (total 43 columns):\n",
            " #   Column               Non-Null Count  Dtype         \n",
            "---  ------               --------------  -----         \n",
            " 0   YEAR                 26460 non-null  int64         \n",
            " 1   MONTH                26460 non-null  int64         \n",
            " 2   DAY                  26460 non-null  int64         \n",
            " 3   DAY_OF_WEEK          26460 non-null  int64         \n",
            " 4   AIRLINE              26460 non-null  object        \n",
            " 5   FLIGHT_NUMBER        26460 non-null  int64         \n",
            " 6   TAIL_NUMBER          26306 non-null  object        \n",
            " 7   ORIGIN_AIRPORT       26460 non-null  object        \n",
            " 8   DESTINATION_AIRPORT  26460 non-null  object        \n",
            " 9   SCHEDULED_DEPARTURE  26460 non-null  int64         \n",
            " 10  DEPARTURE_TIME       25764 non-null  float64       \n",
            " 11  DEPARTURE_DELAY      25764 non-null  float64       \n",
            " 12  TAXI_OUT             25754 non-null  float64       \n",
            " 13  WHEELS_OFF           25754 non-null  float64       \n",
            " 14  SCHEDULED_TIME       26460 non-null  int64         \n",
            " 15  ELAPSED_TIME         25694 non-null  float64       \n",
            " 16  AIR_TIME             25694 non-null  float64       \n",
            " 17  DISTANCE             26460 non-null  int64         \n",
            " 18  WHEELS_ON            25732 non-null  float64       \n",
            " 19  TAXI_IN              25732 non-null  float64       \n",
            " 20  SCHEDULED_ARRIVAL    26460 non-null  int64         \n",
            " 21  ARRIVAL_TIME         25732 non-null  float64       \n",
            " 22  ARRIVAL_DELAY        25694 non-null  float64       \n",
            " 23  DIVERTED             26460 non-null  int64         \n",
            " 24  CANCELLED            26460 non-null  int64         \n",
            " 25  CANCELLATION_REASON  714 non-null    object        \n",
            " 26  AIR_SYSTEM_DELAY     5509 non-null   float64       \n",
            " 27  SECURITY_DELAY       5509 non-null   float64       \n",
            " 28  AIRLINE_DELAY        5509 non-null   float64       \n",
            " 29  LATE_AIRCRAFT_DELAY  5509 non-null   float64       \n",
            " 30  WEATHER_DELAY        5509 non-null   float64       \n",
            " 31  COUNTY_NAME          26460 non-null  object        \n",
            " 32  STATE_CODE           26460 non-null  object        \n",
            " 33  date                 26460 non-null  datetime64[ms]\n",
            " 34  st_code              26460 non-null  int64         \n",
            " 35  fips                 26460 non-null  int64         \n",
            " 36  stability            26460 non-null  object        \n",
            " 37  tmin                 26460 non-null  float64       \n",
            " 38  tmax                 26460 non-null  float64       \n",
            " 39  tavg                 26460 non-null  float64       \n",
            " 40  ppt                  26460 non-null  float64       \n",
            " 41  dday_a5C             26460 non-null  float64       \n",
            " 42  dday_b15C            26460 non-null  float64       \n",
            "dtypes: datetime64[ms](1), float64(21), int64(13), object(8)\n",
            "memory usage: 8.9+ MB\n"
          ]
        }
      ]
    },
    {
      "cell_type": "code",
      "source": [
        "from sklearn.ensemble import RandomForestClassifier\n",
        "from sklearn.model_selection import train_test_split\n",
        "from sklearn.metrics import accuracy_score\n",
        "\n",
        "clf = RandomForestClassifier(n_estimators=100, random_state=42)\n",
        "clf.fit(X_train, y_train)\n",
        "\n",
        "y_pred = clf.predict(X_test)\n",
        "\n",
        "print(clf.score(X_test,y_test))"
      ],
      "metadata": {
        "colab": {
          "base_uri": "https://localhost:8080/"
        },
        "collapsed": true,
        "id": "WwSYLx8wHeTm",
        "outputId": "06cb03ef-b345-404d-e7f1-9dbdec83196e"
      },
      "execution_count": null,
      "outputs": [
        {
          "output_type": "stream",
          "name": "stdout",
          "text": [
            "0.6744769621477809\n"
          ]
        }
      ]
    },
    {
      "cell_type": "code",
      "source": [
        "feature_importances = clf.feature_importances_\n",
        "for feature, importance in zip(X.columns, feature_importances):\n",
        "    print(f\"Feature: {feature}, Importance: {importance:.4f}\")"
      ],
      "metadata": {
        "colab": {
          "base_uri": "https://localhost:8080/"
        },
        "id": "727oDoZKPW8m",
        "outputId": "42a6c837-50d0-4dde-8217-9619f039332d"
      },
      "execution_count": null,
      "outputs": [
        {
          "output_type": "stream",
          "name": "stdout",
          "text": [
            "Feature: SCHEDULED_DEPARTURE, Importance: 0.2982\n",
            "Feature: SCHEDULED_TIME, Importance: 0.2131\n",
            "Feature: YEAR, Importance: 0.0000\n",
            "Feature: MONTH, Importance: 0.0000\n",
            "Feature: DAY, Importance: 0.0603\n",
            "Feature: DAY_OF_WEEK, Importance: 0.0187\n",
            "Feature: DISTANCE, Importance: 0.1951\n",
            "Feature: tmin, Importance: 0.0439\n",
            "Feature: tmax, Importance: 0.0421\n",
            "Feature: tavg, Importance: 0.0400\n",
            "Feature: ppt, Importance: 0.0270\n",
            "Feature: dday_a5C, Importance: 0.0226\n",
            "Feature: dday_b15C, Importance: 0.0388\n"
          ]
        }
      ]
    },
    {
      "cell_type": "markdown",
      "source": [
        "Now, we try and predict which airline a flight belongs to given that it was delayed. We need to"
      ],
      "metadata": {
        "id": "Ha-_PSoEUJYa"
      }
    },
    {
      "cell_type": "code",
      "source": [
        "numeric_features = [\"SCHEDULED_DEPARTURE\", \"SCHEDULED_TIME\",\"YEAR\",\"MONTH\",\"DAY\",\"DAY_OF_WEEK\",\"DISTANCE\",\"tmin\",\"tmax\",\"tavg\",\"ppt\",\"dday_a5C\",\"dday_b15C\"]\n",
        "\n",
        "X = binary_results_df[numeric_features]\n",
        "y = binary_results_df['IS_DELAYED']\n",
        "\n",
        "X_train, X_test, y_train, y_test = train_test_split(X,y, test_size=0.2, random_state=42)\n",
        "print(X_train.shape)\n",
        "print(X_test.shape)"
      ],
      "metadata": {
        "id": "E7ObMYIFUpZu"
      },
      "execution_count": null,
      "outputs": []
    },
    {
      "cell_type": "code",
      "source": [
        "binary_results_df.head()"
      ],
      "metadata": {
        "colab": {
          "base_uri": "https://localhost:8080/",
          "height": 250
        },
        "id": "i0zGDi3VWdya",
        "outputId": "2d1a3b94-a5da-4adc-fd82-b8797d332536"
      },
      "execution_count": 45,
      "outputs": [
        {
          "output_type": "execute_result",
          "data": {
            "text/plain": [
              "   YEAR  MONTH  DAY  DAY_OF_WEEK AIRLINE  FLIGHT_NUMBER TAIL_NUMBER  \\\n",
              "0  2015      1    1            4      AA           2336      N3KUAA   \n",
              "1  2015      1    1            4      US            840      N171US   \n",
              "2  2015      1    1            4      AA            258      N3HYAA   \n",
              "3  2015      1    1            4      DL            806      N3730B   \n",
              "4  2015      1    1            4      NK            612      N635NK   \n",
              "\n",
              "  ORIGIN_AIRPORT DESTINATION_AIRPORT  SCHEDULED_DEPARTURE  ...  st_code  \\\n",
              "0            LAX                 PBI                   10  ...        6   \n",
              "1            SFO                 CLT                   20  ...        6   \n",
              "2            LAX                 MIA                   20  ...        6   \n",
              "3            SFO                 MSP                   25  ...        6   \n",
              "4            LAS                 MSP                   25  ...       32   \n",
              "\n",
              "    fips  stability   tmin    tmax   tavg    ppt  dday_a5C  dday_b15C  \\\n",
              "0   6037     stable -2.162   7.710  2.774  0.009     0.621     12.226   \n",
              "1   6081     stable  2.561  12.746  7.654  0.000     3.173      7.346   \n",
              "2   6037     stable -2.162   7.710  2.774  0.009     0.621     12.226   \n",
              "3   6081     stable  2.561  12.746  7.654  0.000     3.173      7.346   \n",
              "4  32003     stable -3.510   1.801 -0.854  0.068     0.000     15.854   \n",
              "\n",
              "   IS_DELAYED  \n",
              "0           0  \n",
              "1           0  \n",
              "2           0  \n",
              "3           0  \n",
              "4           0  \n",
              "\n",
              "[5 rows x 44 columns]"
            ],
            "text/html": [
              "\n",
              "  <div id=\"df-5abcca0e-4932-43f2-8aea-85f351df8fca\" class=\"colab-df-container\">\n",
              "    <div>\n",
              "<style scoped>\n",
              "    .dataframe tbody tr th:only-of-type {\n",
              "        vertical-align: middle;\n",
              "    }\n",
              "\n",
              "    .dataframe tbody tr th {\n",
              "        vertical-align: top;\n",
              "    }\n",
              "\n",
              "    .dataframe thead th {\n",
              "        text-align: right;\n",
              "    }\n",
              "</style>\n",
              "<table border=\"1\" class=\"dataframe\">\n",
              "  <thead>\n",
              "    <tr style=\"text-align: right;\">\n",
              "      <th></th>\n",
              "      <th>YEAR</th>\n",
              "      <th>MONTH</th>\n",
              "      <th>DAY</th>\n",
              "      <th>DAY_OF_WEEK</th>\n",
              "      <th>AIRLINE</th>\n",
              "      <th>FLIGHT_NUMBER</th>\n",
              "      <th>TAIL_NUMBER</th>\n",
              "      <th>ORIGIN_AIRPORT</th>\n",
              "      <th>DESTINATION_AIRPORT</th>\n",
              "      <th>SCHEDULED_DEPARTURE</th>\n",
              "      <th>...</th>\n",
              "      <th>st_code</th>\n",
              "      <th>fips</th>\n",
              "      <th>stability</th>\n",
              "      <th>tmin</th>\n",
              "      <th>tmax</th>\n",
              "      <th>tavg</th>\n",
              "      <th>ppt</th>\n",
              "      <th>dday_a5C</th>\n",
              "      <th>dday_b15C</th>\n",
              "      <th>IS_DELAYED</th>\n",
              "    </tr>\n",
              "  </thead>\n",
              "  <tbody>\n",
              "    <tr>\n",
              "      <th>0</th>\n",
              "      <td>2015</td>\n",
              "      <td>1</td>\n",
              "      <td>1</td>\n",
              "      <td>4</td>\n",
              "      <td>AA</td>\n",
              "      <td>2336</td>\n",
              "      <td>N3KUAA</td>\n",
              "      <td>LAX</td>\n",
              "      <td>PBI</td>\n",
              "      <td>10</td>\n",
              "      <td>...</td>\n",
              "      <td>6</td>\n",
              "      <td>6037</td>\n",
              "      <td>stable</td>\n",
              "      <td>-2.162</td>\n",
              "      <td>7.710</td>\n",
              "      <td>2.774</td>\n",
              "      <td>0.009</td>\n",
              "      <td>0.621</td>\n",
              "      <td>12.226</td>\n",
              "      <td>0</td>\n",
              "    </tr>\n",
              "    <tr>\n",
              "      <th>1</th>\n",
              "      <td>2015</td>\n",
              "      <td>1</td>\n",
              "      <td>1</td>\n",
              "      <td>4</td>\n",
              "      <td>US</td>\n",
              "      <td>840</td>\n",
              "      <td>N171US</td>\n",
              "      <td>SFO</td>\n",
              "      <td>CLT</td>\n",
              "      <td>20</td>\n",
              "      <td>...</td>\n",
              "      <td>6</td>\n",
              "      <td>6081</td>\n",
              "      <td>stable</td>\n",
              "      <td>2.561</td>\n",
              "      <td>12.746</td>\n",
              "      <td>7.654</td>\n",
              "      <td>0.000</td>\n",
              "      <td>3.173</td>\n",
              "      <td>7.346</td>\n",
              "      <td>0</td>\n",
              "    </tr>\n",
              "    <tr>\n",
              "      <th>2</th>\n",
              "      <td>2015</td>\n",
              "      <td>1</td>\n",
              "      <td>1</td>\n",
              "      <td>4</td>\n",
              "      <td>AA</td>\n",
              "      <td>258</td>\n",
              "      <td>N3HYAA</td>\n",
              "      <td>LAX</td>\n",
              "      <td>MIA</td>\n",
              "      <td>20</td>\n",
              "      <td>...</td>\n",
              "      <td>6</td>\n",
              "      <td>6037</td>\n",
              "      <td>stable</td>\n",
              "      <td>-2.162</td>\n",
              "      <td>7.710</td>\n",
              "      <td>2.774</td>\n",
              "      <td>0.009</td>\n",
              "      <td>0.621</td>\n",
              "      <td>12.226</td>\n",
              "      <td>0</td>\n",
              "    </tr>\n",
              "    <tr>\n",
              "      <th>3</th>\n",
              "      <td>2015</td>\n",
              "      <td>1</td>\n",
              "      <td>1</td>\n",
              "      <td>4</td>\n",
              "      <td>DL</td>\n",
              "      <td>806</td>\n",
              "      <td>N3730B</td>\n",
              "      <td>SFO</td>\n",
              "      <td>MSP</td>\n",
              "      <td>25</td>\n",
              "      <td>...</td>\n",
              "      <td>6</td>\n",
              "      <td>6081</td>\n",
              "      <td>stable</td>\n",
              "      <td>2.561</td>\n",
              "      <td>12.746</td>\n",
              "      <td>7.654</td>\n",
              "      <td>0.000</td>\n",
              "      <td>3.173</td>\n",
              "      <td>7.346</td>\n",
              "      <td>0</td>\n",
              "    </tr>\n",
              "    <tr>\n",
              "      <th>4</th>\n",
              "      <td>2015</td>\n",
              "      <td>1</td>\n",
              "      <td>1</td>\n",
              "      <td>4</td>\n",
              "      <td>NK</td>\n",
              "      <td>612</td>\n",
              "      <td>N635NK</td>\n",
              "      <td>LAS</td>\n",
              "      <td>MSP</td>\n",
              "      <td>25</td>\n",
              "      <td>...</td>\n",
              "      <td>32</td>\n",
              "      <td>32003</td>\n",
              "      <td>stable</td>\n",
              "      <td>-3.510</td>\n",
              "      <td>1.801</td>\n",
              "      <td>-0.854</td>\n",
              "      <td>0.068</td>\n",
              "      <td>0.000</td>\n",
              "      <td>15.854</td>\n",
              "      <td>0</td>\n",
              "    </tr>\n",
              "  </tbody>\n",
              "</table>\n",
              "<p>5 rows × 44 columns</p>\n",
              "</div>\n",
              "    <div class=\"colab-df-buttons\">\n",
              "\n",
              "  <div class=\"colab-df-container\">\n",
              "    <button class=\"colab-df-convert\" onclick=\"convertToInteractive('df-5abcca0e-4932-43f2-8aea-85f351df8fca')\"\n",
              "            title=\"Convert this dataframe to an interactive table.\"\n",
              "            style=\"display:none;\">\n",
              "\n",
              "  <svg xmlns=\"http://www.w3.org/2000/svg\" height=\"24px\" viewBox=\"0 -960 960 960\">\n",
              "    <path d=\"M120-120v-720h720v720H120Zm60-500h600v-160H180v160Zm220 220h160v-160H400v160Zm0 220h160v-160H400v160ZM180-400h160v-160H180v160Zm440 0h160v-160H620v160ZM180-180h160v-160H180v160Zm440 0h160v-160H620v160Z\"/>\n",
              "  </svg>\n",
              "    </button>\n",
              "\n",
              "  <style>\n",
              "    .colab-df-container {\n",
              "      display:flex;\n",
              "      gap: 12px;\n",
              "    }\n",
              "\n",
              "    .colab-df-convert {\n",
              "      background-color: #E8F0FE;\n",
              "      border: none;\n",
              "      border-radius: 50%;\n",
              "      cursor: pointer;\n",
              "      display: none;\n",
              "      fill: #1967D2;\n",
              "      height: 32px;\n",
              "      padding: 0 0 0 0;\n",
              "      width: 32px;\n",
              "    }\n",
              "\n",
              "    .colab-df-convert:hover {\n",
              "      background-color: #E2EBFA;\n",
              "      box-shadow: 0px 1px 2px rgba(60, 64, 67, 0.3), 0px 1px 3px 1px rgba(60, 64, 67, 0.15);\n",
              "      fill: #174EA6;\n",
              "    }\n",
              "\n",
              "    .colab-df-buttons div {\n",
              "      margin-bottom: 4px;\n",
              "    }\n",
              "\n",
              "    [theme=dark] .colab-df-convert {\n",
              "      background-color: #3B4455;\n",
              "      fill: #D2E3FC;\n",
              "    }\n",
              "\n",
              "    [theme=dark] .colab-df-convert:hover {\n",
              "      background-color: #434B5C;\n",
              "      box-shadow: 0px 1px 3px 1px rgba(0, 0, 0, 0.15);\n",
              "      filter: drop-shadow(0px 1px 2px rgba(0, 0, 0, 0.3));\n",
              "      fill: #FFFFFF;\n",
              "    }\n",
              "  </style>\n",
              "\n",
              "    <script>\n",
              "      const buttonEl =\n",
              "        document.querySelector('#df-5abcca0e-4932-43f2-8aea-85f351df8fca button.colab-df-convert');\n",
              "      buttonEl.style.display =\n",
              "        google.colab.kernel.accessAllowed ? 'block' : 'none';\n",
              "\n",
              "      async function convertToInteractive(key) {\n",
              "        const element = document.querySelector('#df-5abcca0e-4932-43f2-8aea-85f351df8fca');\n",
              "        const dataTable =\n",
              "          await google.colab.kernel.invokeFunction('convertToInteractive',\n",
              "                                                    [key], {});\n",
              "        if (!dataTable) return;\n",
              "\n",
              "        const docLinkHtml = 'Like what you see? Visit the ' +\n",
              "          '<a target=\"_blank\" href=https://colab.research.google.com/notebooks/data_table.ipynb>data table notebook</a>'\n",
              "          + ' to learn more about interactive tables.';\n",
              "        element.innerHTML = '';\n",
              "        dataTable['output_type'] = 'display_data';\n",
              "        await google.colab.output.renderOutput(dataTable, element);\n",
              "        const docLink = document.createElement('div');\n",
              "        docLink.innerHTML = docLinkHtml;\n",
              "        element.appendChild(docLink);\n",
              "      }\n",
              "    </script>\n",
              "  </div>\n",
              "\n",
              "\n",
              "<div id=\"df-4e54b1a9-c5d2-4fcf-9d6b-edcd315fe362\">\n",
              "  <button class=\"colab-df-quickchart\" onclick=\"quickchart('df-4e54b1a9-c5d2-4fcf-9d6b-edcd315fe362')\"\n",
              "            title=\"Suggest charts\"\n",
              "            style=\"display:none;\">\n",
              "\n",
              "<svg xmlns=\"http://www.w3.org/2000/svg\" height=\"24px\"viewBox=\"0 0 24 24\"\n",
              "     width=\"24px\">\n",
              "    <g>\n",
              "        <path d=\"M19 3H5c-1.1 0-2 .9-2 2v14c0 1.1.9 2 2 2h14c1.1 0 2-.9 2-2V5c0-1.1-.9-2-2-2zM9 17H7v-7h2v7zm4 0h-2V7h2v10zm4 0h-2v-4h2v4z\"/>\n",
              "    </g>\n",
              "</svg>\n",
              "  </button>\n",
              "\n",
              "<style>\n",
              "  .colab-df-quickchart {\n",
              "      --bg-color: #E8F0FE;\n",
              "      --fill-color: #1967D2;\n",
              "      --hover-bg-color: #E2EBFA;\n",
              "      --hover-fill-color: #174EA6;\n",
              "      --disabled-fill-color: #AAA;\n",
              "      --disabled-bg-color: #DDD;\n",
              "  }\n",
              "\n",
              "  [theme=dark] .colab-df-quickchart {\n",
              "      --bg-color: #3B4455;\n",
              "      --fill-color: #D2E3FC;\n",
              "      --hover-bg-color: #434B5C;\n",
              "      --hover-fill-color: #FFFFFF;\n",
              "      --disabled-bg-color: #3B4455;\n",
              "      --disabled-fill-color: #666;\n",
              "  }\n",
              "\n",
              "  .colab-df-quickchart {\n",
              "    background-color: var(--bg-color);\n",
              "    border: none;\n",
              "    border-radius: 50%;\n",
              "    cursor: pointer;\n",
              "    display: none;\n",
              "    fill: var(--fill-color);\n",
              "    height: 32px;\n",
              "    padding: 0;\n",
              "    width: 32px;\n",
              "  }\n",
              "\n",
              "  .colab-df-quickchart:hover {\n",
              "    background-color: var(--hover-bg-color);\n",
              "    box-shadow: 0 1px 2px rgba(60, 64, 67, 0.3), 0 1px 3px 1px rgba(60, 64, 67, 0.15);\n",
              "    fill: var(--button-hover-fill-color);\n",
              "  }\n",
              "\n",
              "  .colab-df-quickchart-complete:disabled,\n",
              "  .colab-df-quickchart-complete:disabled:hover {\n",
              "    background-color: var(--disabled-bg-color);\n",
              "    fill: var(--disabled-fill-color);\n",
              "    box-shadow: none;\n",
              "  }\n",
              "\n",
              "  .colab-df-spinner {\n",
              "    border: 2px solid var(--fill-color);\n",
              "    border-color: transparent;\n",
              "    border-bottom-color: var(--fill-color);\n",
              "    animation:\n",
              "      spin 1s steps(1) infinite;\n",
              "  }\n",
              "\n",
              "  @keyframes spin {\n",
              "    0% {\n",
              "      border-color: transparent;\n",
              "      border-bottom-color: var(--fill-color);\n",
              "      border-left-color: var(--fill-color);\n",
              "    }\n",
              "    20% {\n",
              "      border-color: transparent;\n",
              "      border-left-color: var(--fill-color);\n",
              "      border-top-color: var(--fill-color);\n",
              "    }\n",
              "    30% {\n",
              "      border-color: transparent;\n",
              "      border-left-color: var(--fill-color);\n",
              "      border-top-color: var(--fill-color);\n",
              "      border-right-color: var(--fill-color);\n",
              "    }\n",
              "    40% {\n",
              "      border-color: transparent;\n",
              "      border-right-color: var(--fill-color);\n",
              "      border-top-color: var(--fill-color);\n",
              "    }\n",
              "    60% {\n",
              "      border-color: transparent;\n",
              "      border-right-color: var(--fill-color);\n",
              "    }\n",
              "    80% {\n",
              "      border-color: transparent;\n",
              "      border-right-color: var(--fill-color);\n",
              "      border-bottom-color: var(--fill-color);\n",
              "    }\n",
              "    90% {\n",
              "      border-color: transparent;\n",
              "      border-bottom-color: var(--fill-color);\n",
              "    }\n",
              "  }\n",
              "</style>\n",
              "\n",
              "  <script>\n",
              "    async function quickchart(key) {\n",
              "      const quickchartButtonEl =\n",
              "        document.querySelector('#' + key + ' button');\n",
              "      quickchartButtonEl.disabled = true;  // To prevent multiple clicks.\n",
              "      quickchartButtonEl.classList.add('colab-df-spinner');\n",
              "      try {\n",
              "        const charts = await google.colab.kernel.invokeFunction(\n",
              "            'suggestCharts', [key], {});\n",
              "      } catch (error) {\n",
              "        console.error('Error during call to suggestCharts:', error);\n",
              "      }\n",
              "      quickchartButtonEl.classList.remove('colab-df-spinner');\n",
              "      quickchartButtonEl.classList.add('colab-df-quickchart-complete');\n",
              "    }\n",
              "    (() => {\n",
              "      let quickchartButtonEl =\n",
              "        document.querySelector('#df-4e54b1a9-c5d2-4fcf-9d6b-edcd315fe362 button');\n",
              "      quickchartButtonEl.style.display =\n",
              "        google.colab.kernel.accessAllowed ? 'block' : 'none';\n",
              "    })();\n",
              "  </script>\n",
              "</div>\n",
              "\n",
              "    </div>\n",
              "  </div>\n"
            ],
            "application/vnd.google.colaboratory.intrinsic+json": {
              "type": "dataframe",
              "variable_name": "binary_results_df"
            }
          },
          "metadata": {},
          "execution_count": 45
        }
      ]
    }
  ],
  "metadata": {
    "kernelspec": {
      "display_name": "Python 3",
      "name": "python3"
    },
    "language_info": {
      "codemirror_mode": {
        "name": "ipython",
        "version": 3
      },
      "file_extension": ".py",
      "mimetype": "text/x-python",
      "name": "python",
      "nbconvert_exporter": "python",
      "pygments_lexer": "ipython3",
      "version": "3.11.8"
    },
    "colab": {
      "provenance": [],
      "gpuType": "T4"
    },
    "accelerator": "GPU"
  },
  "nbformat": 4,
  "nbformat_minor": 0
}