{
 "cells": [
  {
   "cell_type": "markdown",
   "metadata": {},
   "source": [
    "A full documentation of the data we used, relavent links and relavent schema\n",
    "\n",
    "Flights were sourced from here: https://www.kaggle.com/datasets/usdot/flight-delays?select=flights.csv\n",
    "\n",
    "Weather was sourced from here: https://asmith.ucdavis.edu/data/prism-weather\n",
    "\n",
    "AirportLocations.csv was sourced from: https://geodata.bts.gov/datasets/usdot::aviation-facilities/about\n",
    "\n",
    "For weather use the settings: Temporal unit should be daily, use county as spatial unit, start and end year are both 2015, months go from 1 to 12, states are all states, choose variables are tmin, tmax, tavg, ppt, dday_a5C, dday_b15C\n",
    "\n"
   ]
  },
  {
   "cell_type": "code",
   "execution_count": 18,
   "metadata": {},
   "outputs": [],
   "source": [
    "import numpy as np\n",
    "import matplotlib.pyplot as plt\n",
    "import pandas as pd\n",
    "import polars as pl\n",
    "import kagglehub"
   ]
  },
  {
   "cell_type": "code",
   "execution_count": 19,
   "metadata": {},
   "outputs": [],
   "source": [
    "flights_df = pl.read_csv('flights.csv')\n",
    "airport_loc_df = pl.read_csv('AirportLocations.csv')\n",
    "airlines_df = pl.read_csv('airlines.csv')\n",
    "weather_df = pl.read_csv('weather.csv')"
   ]
  },
  {
   "cell_type": "code",
   "execution_count": 20,
   "metadata": {},
   "outputs": [],
   "source": [
    "delays_df = flights_df.filter(pl.col(\"DEPARTURE_DELAY\") > 0)\n",
    "ontime_df = flights_df.filter(pl.col(\"DEPARTURE_DELAY\") <= 0)"
   ]
  },
  {
   "cell_type": "markdown",
   "metadata": {},
   "source": [
    "Joining the County information so that we can compare weather"
   ]
  },
  {
   "cell_type": "code",
   "execution_count": 21,
   "metadata": {},
   "outputs": [
    {
     "data": {
      "text/html": [
       "<div><style>\n",
       ".dataframe > thead > tr,\n",
       ".dataframe > tbody > tr {\n",
       "  text-align: right;\n",
       "  white-space: pre-wrap;\n",
       "}\n",
       "</style>\n",
       "<small>shape: (5_819_079, 34)</small><table border=\"1\" class=\"dataframe\"><thead><tr><th>YEAR</th><th>MONTH</th><th>DAY</th><th>DAY_OF_WEEK</th><th>AIRLINE</th><th>FLIGHT_NUMBER</th><th>TAIL_NUMBER</th><th>ORIGIN_AIRPORT</th><th>DESTINATION_AIRPORT</th><th>SCHEDULED_DEPARTURE</th><th>DEPARTURE_TIME</th><th>DEPARTURE_DELAY</th><th>TAXI_OUT</th><th>WHEELS_OFF</th><th>SCHEDULED_TIME</th><th>ELAPSED_TIME</th><th>AIR_TIME</th><th>DISTANCE</th><th>WHEELS_ON</th><th>TAXI_IN</th><th>SCHEDULED_ARRIVAL</th><th>ARRIVAL_TIME</th><th>ARRIVAL_DELAY</th><th>DIVERTED</th><th>CANCELLED</th><th>CANCELLATION_REASON</th><th>AIR_SYSTEM_DELAY</th><th>SECURITY_DELAY</th><th>AIRLINE_DELAY</th><th>LATE_AIRCRAFT_DELAY</th><th>WEATHER_DELAY</th><th>COUNTY_NAME</th><th>STATE_CODE</th><th>date</th></tr><tr><td>i64</td><td>i64</td><td>i64</td><td>i64</td><td>str</td><td>i64</td><td>str</td><td>str</td><td>str</td><td>i64</td><td>i64</td><td>i64</td><td>i64</td><td>i64</td><td>i64</td><td>i64</td><td>i64</td><td>i64</td><td>i64</td><td>i64</td><td>i64</td><td>i64</td><td>i64</td><td>i64</td><td>i64</td><td>str</td><td>i64</td><td>i64</td><td>i64</td><td>i64</td><td>i64</td><td>str</td><td>str</td><td>date</td></tr></thead><tbody><tr><td>2015</td><td>1</td><td>1</td><td>4</td><td>&quot;AS&quot;</td><td>98</td><td>&quot;N407AS&quot;</td><td>&quot;ANC&quot;</td><td>&quot;SEA&quot;</td><td>5</td><td>2354</td><td>-11</td><td>21</td><td>15</td><td>205</td><td>194</td><td>169</td><td>1448</td><td>404</td><td>4</td><td>430</td><td>408</td><td>-22</td><td>0</td><td>0</td><td>null</td><td>null</td><td>null</td><td>null</td><td>null</td><td>null</td><td>&quot;ANCHORAGE&quot;</td><td>&quot;AK&quot;</td><td>2015-01-01</td></tr><tr><td>2015</td><td>1</td><td>1</td><td>4</td><td>&quot;AA&quot;</td><td>2336</td><td>&quot;N3KUAA&quot;</td><td>&quot;LAX&quot;</td><td>&quot;PBI&quot;</td><td>10</td><td>2</td><td>-8</td><td>12</td><td>14</td><td>280</td><td>279</td><td>263</td><td>2330</td><td>737</td><td>4</td><td>750</td><td>741</td><td>-9</td><td>0</td><td>0</td><td>null</td><td>null</td><td>null</td><td>null</td><td>null</td><td>null</td><td>&quot;LOS&nbsp;ANGELES&quot;</td><td>&quot;CA&quot;</td><td>2015-01-01</td></tr><tr><td>2015</td><td>1</td><td>1</td><td>4</td><td>&quot;US&quot;</td><td>840</td><td>&quot;N171US&quot;</td><td>&quot;SFO&quot;</td><td>&quot;CLT&quot;</td><td>20</td><td>18</td><td>-2</td><td>16</td><td>34</td><td>286</td><td>293</td><td>266</td><td>2296</td><td>800</td><td>11</td><td>806</td><td>811</td><td>5</td><td>0</td><td>0</td><td>null</td><td>null</td><td>null</td><td>null</td><td>null</td><td>null</td><td>&quot;SAN&nbsp;MATEO&quot;</td><td>&quot;CA&quot;</td><td>2015-01-01</td></tr><tr><td>2015</td><td>1</td><td>1</td><td>4</td><td>&quot;AA&quot;</td><td>258</td><td>&quot;N3HYAA&quot;</td><td>&quot;LAX&quot;</td><td>&quot;MIA&quot;</td><td>20</td><td>15</td><td>-5</td><td>15</td><td>30</td><td>285</td><td>281</td><td>258</td><td>2342</td><td>748</td><td>8</td><td>805</td><td>756</td><td>-9</td><td>0</td><td>0</td><td>null</td><td>null</td><td>null</td><td>null</td><td>null</td><td>null</td><td>&quot;LOS&nbsp;ANGELES&quot;</td><td>&quot;CA&quot;</td><td>2015-01-01</td></tr><tr><td>2015</td><td>1</td><td>1</td><td>4</td><td>&quot;AS&quot;</td><td>135</td><td>&quot;N527AS&quot;</td><td>&quot;SEA&quot;</td><td>&quot;ANC&quot;</td><td>25</td><td>24</td><td>-1</td><td>11</td><td>35</td><td>235</td><td>215</td><td>199</td><td>1448</td><td>254</td><td>5</td><td>320</td><td>259</td><td>-21</td><td>0</td><td>0</td><td>null</td><td>null</td><td>null</td><td>null</td><td>null</td><td>null</td><td>&quot;KING&quot;</td><td>&quot;WA&quot;</td><td>2015-01-01</td></tr><tr><td>&hellip;</td><td>&hellip;</td><td>&hellip;</td><td>&hellip;</td><td>&hellip;</td><td>&hellip;</td><td>&hellip;</td><td>&hellip;</td><td>&hellip;</td><td>&hellip;</td><td>&hellip;</td><td>&hellip;</td><td>&hellip;</td><td>&hellip;</td><td>&hellip;</td><td>&hellip;</td><td>&hellip;</td><td>&hellip;</td><td>&hellip;</td><td>&hellip;</td><td>&hellip;</td><td>&hellip;</td><td>&hellip;</td><td>&hellip;</td><td>&hellip;</td><td>&hellip;</td><td>&hellip;</td><td>&hellip;</td><td>&hellip;</td><td>&hellip;</td><td>&hellip;</td><td>&hellip;</td><td>&hellip;</td><td>&hellip;</td></tr><tr><td>2015</td><td>12</td><td>31</td><td>4</td><td>&quot;B6&quot;</td><td>688</td><td>&quot;N657JB&quot;</td><td>&quot;LAX&quot;</td><td>&quot;BOS&quot;</td><td>2359</td><td>2355</td><td>-4</td><td>22</td><td>17</td><td>320</td><td>298</td><td>272</td><td>2611</td><td>749</td><td>4</td><td>819</td><td>753</td><td>-26</td><td>0</td><td>0</td><td>null</td><td>null</td><td>null</td><td>null</td><td>null</td><td>null</td><td>&quot;LOS&nbsp;ANGELES&quot;</td><td>&quot;CA&quot;</td><td>2015-12-31</td></tr><tr><td>2015</td><td>12</td><td>31</td><td>4</td><td>&quot;B6&quot;</td><td>745</td><td>&quot;N828JB&quot;</td><td>&quot;JFK&quot;</td><td>&quot;PSE&quot;</td><td>2359</td><td>2355</td><td>-4</td><td>17</td><td>12</td><td>227</td><td>215</td><td>195</td><td>1617</td><td>427</td><td>3</td><td>446</td><td>430</td><td>-16</td><td>0</td><td>0</td><td>null</td><td>null</td><td>null</td><td>null</td><td>null</td><td>null</td><td>&quot;QUEENS&quot;</td><td>&quot;NY&quot;</td><td>2015-12-31</td></tr><tr><td>2015</td><td>12</td><td>31</td><td>4</td><td>&quot;B6&quot;</td><td>1503</td><td>&quot;N913JB&quot;</td><td>&quot;JFK&quot;</td><td>&quot;SJU&quot;</td><td>2359</td><td>2350</td><td>-9</td><td>17</td><td>7</td><td>221</td><td>222</td><td>197</td><td>1598</td><td>424</td><td>8</td><td>440</td><td>432</td><td>-8</td><td>0</td><td>0</td><td>null</td><td>null</td><td>null</td><td>null</td><td>null</td><td>null</td><td>&quot;QUEENS&quot;</td><td>&quot;NY&quot;</td><td>2015-12-31</td></tr><tr><td>2015</td><td>12</td><td>31</td><td>4</td><td>&quot;B6&quot;</td><td>333</td><td>&quot;N527JB&quot;</td><td>&quot;MCO&quot;</td><td>&quot;SJU&quot;</td><td>2359</td><td>2353</td><td>-6</td><td>10</td><td>3</td><td>161</td><td>157</td><td>144</td><td>1189</td><td>327</td><td>3</td><td>340</td><td>330</td><td>-10</td><td>0</td><td>0</td><td>null</td><td>null</td><td>null</td><td>null</td><td>null</td><td>null</td><td>&quot;ORANGE&quot;</td><td>&quot;FL&quot;</td><td>2015-12-31</td></tr><tr><td>2015</td><td>12</td><td>31</td><td>4</td><td>&quot;B6&quot;</td><td>839</td><td>&quot;N534JB&quot;</td><td>&quot;JFK&quot;</td><td>&quot;BQN&quot;</td><td>2359</td><td>14</td><td>15</td><td>14</td><td>28</td><td>221</td><td>208</td><td>189</td><td>1576</td><td>437</td><td>5</td><td>440</td><td>442</td><td>2</td><td>0</td><td>0</td><td>null</td><td>null</td><td>null</td><td>null</td><td>null</td><td>null</td><td>&quot;QUEENS&quot;</td><td>&quot;NY&quot;</td><td>2015-12-31</td></tr></tbody></table></div>"
      ],
      "text/plain": [
       "shape: (5_819_079, 34)\n",
       "┌──────┬───────┬─────┬─────────────┬───┬───────────────┬─────────────┬────────────┬────────────┐\n",
       "│ YEAR ┆ MONTH ┆ DAY ┆ DAY_OF_WEEK ┆ … ┆ WEATHER_DELAY ┆ COUNTY_NAME ┆ STATE_CODE ┆ date       │\n",
       "│ ---  ┆ ---   ┆ --- ┆ ---         ┆   ┆ ---           ┆ ---         ┆ ---        ┆ ---        │\n",
       "│ i64  ┆ i64   ┆ i64 ┆ i64         ┆   ┆ i64           ┆ str         ┆ str        ┆ date       │\n",
       "╞══════╪═══════╪═════╪═════════════╪═══╪═══════════════╪═════════════╪════════════╪════════════╡\n",
       "│ 2015 ┆ 1     ┆ 1   ┆ 4           ┆ … ┆ null          ┆ ANCHORAGE   ┆ AK         ┆ 2015-01-01 │\n",
       "│ 2015 ┆ 1     ┆ 1   ┆ 4           ┆ … ┆ null          ┆ LOS ANGELES ┆ CA         ┆ 2015-01-01 │\n",
       "│ 2015 ┆ 1     ┆ 1   ┆ 4           ┆ … ┆ null          ┆ SAN MATEO   ┆ CA         ┆ 2015-01-01 │\n",
       "│ 2015 ┆ 1     ┆ 1   ┆ 4           ┆ … ┆ null          ┆ LOS ANGELES ┆ CA         ┆ 2015-01-01 │\n",
       "│ 2015 ┆ 1     ┆ 1   ┆ 4           ┆ … ┆ null          ┆ KING        ┆ WA         ┆ 2015-01-01 │\n",
       "│ …    ┆ …     ┆ …   ┆ …           ┆ … ┆ …             ┆ …           ┆ …          ┆ …          │\n",
       "│ 2015 ┆ 12    ┆ 31  ┆ 4           ┆ … ┆ null          ┆ LOS ANGELES ┆ CA         ┆ 2015-12-31 │\n",
       "│ 2015 ┆ 12    ┆ 31  ┆ 4           ┆ … ┆ null          ┆ QUEENS      ┆ NY         ┆ 2015-12-31 │\n",
       "│ 2015 ┆ 12    ┆ 31  ┆ 4           ┆ … ┆ null          ┆ QUEENS      ┆ NY         ┆ 2015-12-31 │\n",
       "│ 2015 ┆ 12    ┆ 31  ┆ 4           ┆ … ┆ null          ┆ ORANGE      ┆ FL         ┆ 2015-12-31 │\n",
       "│ 2015 ┆ 12    ┆ 31  ┆ 4           ┆ … ┆ null          ┆ QUEENS      ┆ NY         ┆ 2015-12-31 │\n",
       "└──────┴───────┴─────┴─────────────┴───┴───────────────┴─────────────┴────────────┴────────────┘"
      ]
     },
     "execution_count": 21,
     "metadata": {},
     "output_type": "execute_result"
    }
   ],
   "source": [
    "airport_loc_df = airport_loc_df.select([\"ARPT_ID\", \"COUNTY_NAME\", \"STATE_CODE\"])\n",
    "flights_df = flights_df.join(\n",
    "    airport_loc_df, \n",
    "    left_on=\"ORIGIN_AIRPORT\", \n",
    "    right_on=\"ARPT_ID\", \n",
    "    how=\"left\"\n",
    ")\n",
    "delays_df = flights_df.filter(pl.col(\"DEPARTURE_DELAY\") > 0)\n",
    "ontime_df = flights_df.filter(pl.col(\"DEPARTURE_DELAY\") <= 0)\n",
    "flights_df = flights_df.with_columns(\n",
    "    pl.datetime(\n",
    "        year=pl.col(\"YEAR\"), \n",
    "        month=pl.col(\"MONTH\"), \n",
    "        day=pl.col(\"DAY\")\n",
    "    ).cast(pl.Date).alias(\"date\")\n",
    ")\n",
    "flights_df"
   ]
  },
  {
   "cell_type": "markdown",
   "metadata": {},
   "source": [
    "Don't run the below cell more than once"
   ]
  },
  {
   "cell_type": "code",
   "execution_count": 22,
   "metadata": {},
   "outputs": [
    {
     "data": {
      "text/html": [
       "<div><style>\n",
       ".dataframe > thead > tr,\n",
       ".dataframe > tbody > tr {\n",
       "  text-align: right;\n",
       "  white-space: pre-wrap;\n",
       "}\n",
       "</style>\n",
       "<small>shape: (1_134_055, 12)</small><table border=\"1\" class=\"dataframe\"><thead><tr><th>st_abb</th><th>st_code</th><th>county_name</th><th>fips</th><th>date</th><th>stability</th><th>tmin</th><th>tmax</th><th>tavg</th><th>ppt</th><th>dday_a5C</th><th>dday_b15C</th></tr><tr><td>str</td><td>i64</td><td>str</td><td>i64</td><td>date</td><td>str</td><td>f64</td><td>f64</td><td>f64</td><td>f64</td><td>f64</td><td>f64</td></tr></thead><tbody><tr><td>&quot;AL&quot;</td><td>1</td><td>&quot;autauga&quot;</td><td>1001</td><td>2015-01-01</td><td>&quot;stable&quot;</td><td>-0.835</td><td>10.961</td><td>5.063</td><td>0.059</td><td>1.909</td><td>9.937</td></tr><tr><td>&quot;AL&quot;</td><td>1</td><td>&quot;autauga&quot;</td><td>1001</td><td>2015-01-02</td><td>&quot;stable&quot;</td><td>0.276</td><td>13.216</td><td>6.746</td><td>3.863</td><td>3.008</td><td>8.254</td></tr><tr><td>&quot;AL&quot;</td><td>1</td><td>&quot;autauga&quot;</td><td>1001</td><td>2015-01-03</td><td>&quot;stable&quot;</td><td>8.511</td><td>12.552</td><td>10.531</td><td>14.217</td><td>5.532</td><td>4.469</td></tr><tr><td>&quot;AL&quot;</td><td>1</td><td>&quot;autauga&quot;</td><td>1001</td><td>2015-01-04</td><td>&quot;stable&quot;</td><td>12.328</td><td>20.585</td><td>16.457</td><td>48.919</td><td>11.456</td><td>0.668</td></tr><tr><td>&quot;AL&quot;</td><td>1</td><td>&quot;autauga&quot;</td><td>1001</td><td>2015-01-05</td><td>&quot;stable&quot;</td><td>2.642</td><td>15.865</td><td>9.254</td><td>0.0</td><td>4.684</td><td>5.841</td></tr><tr><td>&hellip;</td><td>&hellip;</td><td>&hellip;</td><td>&hellip;</td><td>&hellip;</td><td>&hellip;</td><td>&hellip;</td><td>&hellip;</td><td>&hellip;</td><td>&hellip;</td><td>&hellip;</td><td>&hellip;</td></tr><tr><td>&quot;WY&quot;</td><td>56</td><td>&quot;weston&quot;</td><td>56045</td><td>2015-12-27</td><td>&quot;stable&quot;</td><td>-19.242</td><td>-6.704</td><td>-12.973</td><td>0.0</td><td>0.0</td><td>27.973</td></tr><tr><td>&quot;WY&quot;</td><td>56</td><td>&quot;weston&quot;</td><td>56045</td><td>2015-12-28</td><td>&quot;stable&quot;</td><td>-18.188</td><td>-2.366</td><td>-10.277</td><td>0.0</td><td>0.0</td><td>25.277</td></tr><tr><td>&quot;WY&quot;</td><td>56</td><td>&quot;weston&quot;</td><td>56045</td><td>2015-12-29</td><td>&quot;stable&quot;</td><td>-20.651</td><td>-3.123</td><td>-11.887</td><td>0.0</td><td>0.0</td><td>26.887</td></tr><tr><td>&quot;WY&quot;</td><td>56</td><td>&quot;weston&quot;</td><td>56045</td><td>2015-12-30</td><td>&quot;stable&quot;</td><td>-18.454</td><td>-8.474</td><td>-13.464</td><td>0.464</td><td>0.0</td><td>28.464</td></tr><tr><td>&quot;WY&quot;</td><td>56</td><td>&quot;weston&quot;</td><td>56045</td><td>2015-12-31</td><td>&quot;stable&quot;</td><td>-17.702</td><td>-6.298</td><td>-12.0</td><td>0.394</td><td>0.0</td><td>27.0</td></tr></tbody></table></div>"
      ],
      "text/plain": [
       "shape: (1_134_055, 12)\n",
       "┌────────┬─────────┬─────────────┬───────┬───┬─────────┬────────┬──────────┬───────────┐\n",
       "│ st_abb ┆ st_code ┆ county_name ┆ fips  ┆ … ┆ tavg    ┆ ppt    ┆ dday_a5C ┆ dday_b15C │\n",
       "│ ---    ┆ ---     ┆ ---         ┆ ---   ┆   ┆ ---     ┆ ---    ┆ ---      ┆ ---       │\n",
       "│ str    ┆ i64     ┆ str         ┆ i64   ┆   ┆ f64     ┆ f64    ┆ f64      ┆ f64       │\n",
       "╞════════╪═════════╪═════════════╪═══════╪═══╪═════════╪════════╪══════════╪═══════════╡\n",
       "│ AL     ┆ 1       ┆ autauga     ┆ 1001  ┆ … ┆ 5.063   ┆ 0.059  ┆ 1.909    ┆ 9.937     │\n",
       "│ AL     ┆ 1       ┆ autauga     ┆ 1001  ┆ … ┆ 6.746   ┆ 3.863  ┆ 3.008    ┆ 8.254     │\n",
       "│ AL     ┆ 1       ┆ autauga     ┆ 1001  ┆ … ┆ 10.531  ┆ 14.217 ┆ 5.532    ┆ 4.469     │\n",
       "│ AL     ┆ 1       ┆ autauga     ┆ 1001  ┆ … ┆ 16.457  ┆ 48.919 ┆ 11.456   ┆ 0.668     │\n",
       "│ AL     ┆ 1       ┆ autauga     ┆ 1001  ┆ … ┆ 9.254   ┆ 0.0    ┆ 4.684    ┆ 5.841     │\n",
       "│ …      ┆ …       ┆ …           ┆ …     ┆ … ┆ …       ┆ …      ┆ …        ┆ …         │\n",
       "│ WY     ┆ 56      ┆ weston      ┆ 56045 ┆ … ┆ -12.973 ┆ 0.0    ┆ 0.0      ┆ 27.973    │\n",
       "│ WY     ┆ 56      ┆ weston      ┆ 56045 ┆ … ┆ -10.277 ┆ 0.0    ┆ 0.0      ┆ 25.277    │\n",
       "│ WY     ┆ 56      ┆ weston      ┆ 56045 ┆ … ┆ -11.887 ┆ 0.0    ┆ 0.0      ┆ 26.887    │\n",
       "│ WY     ┆ 56      ┆ weston      ┆ 56045 ┆ … ┆ -13.464 ┆ 0.464  ┆ 0.0      ┆ 28.464    │\n",
       "│ WY     ┆ 56      ┆ weston      ┆ 56045 ┆ … ┆ -12.0   ┆ 0.394  ┆ 0.0      ┆ 27.0      │\n",
       "└────────┴─────────┴─────────────┴───────┴───┴─────────┴────────┴──────────┴───────────┘"
      ]
     },
     "execution_count": 22,
     "metadata": {},
     "output_type": "execute_result"
    }
   ],
   "source": [
    "weather_df = weather_df.with_columns(\n",
    "    pl.col(\"date\").cast(pl.Utf8).str.strptime(pl.Date, \"%Y%m%d\").alias(\"date\")\n",
    ")\n",
    "weather_df = weather_df.with_columns(\n",
    "    pl.col(\"county_name\").str.to_lowercase().alias(\"county_name\")\n",
    ")\n",
    "weather_df"
   ]
  },
  {
   "cell_type": "markdown",
   "metadata": {},
   "source": [
    "Cross Referenced Data from here in order to ensure that the temperatures were correctly aligned: https://www.timeanddate.com/weather/usa/new-york/historic?month=12&year=2015"
   ]
  },
  {
   "cell_type": "code",
   "execution_count": 23,
   "metadata": {},
   "outputs": [
    {
     "data": {
      "text/html": [
       "<div><style>\n",
       ".dataframe > thead > tr,\n",
       ".dataframe > tbody > tr {\n",
       "  text-align: right;\n",
       "  white-space: pre-wrap;\n",
       "}\n",
       "</style>\n",
       "<small>shape: (5_819_079, 34)</small><table border=\"1\" class=\"dataframe\"><thead><tr><th>YEAR</th><th>MONTH</th><th>DAY</th><th>DAY_OF_WEEK</th><th>AIRLINE</th><th>FLIGHT_NUMBER</th><th>TAIL_NUMBER</th><th>ORIGIN_AIRPORT</th><th>DESTINATION_AIRPORT</th><th>SCHEDULED_DEPARTURE</th><th>DEPARTURE_TIME</th><th>DEPARTURE_DELAY</th><th>TAXI_OUT</th><th>WHEELS_OFF</th><th>SCHEDULED_TIME</th><th>ELAPSED_TIME</th><th>AIR_TIME</th><th>DISTANCE</th><th>WHEELS_ON</th><th>TAXI_IN</th><th>SCHEDULED_ARRIVAL</th><th>ARRIVAL_TIME</th><th>ARRIVAL_DELAY</th><th>DIVERTED</th><th>CANCELLED</th><th>CANCELLATION_REASON</th><th>AIR_SYSTEM_DELAY</th><th>SECURITY_DELAY</th><th>AIRLINE_DELAY</th><th>LATE_AIRCRAFT_DELAY</th><th>WEATHER_DELAY</th><th>COUNTY_NAME</th><th>STATE_CODE</th><th>date</th></tr><tr><td>i64</td><td>i64</td><td>i64</td><td>i64</td><td>str</td><td>i64</td><td>str</td><td>str</td><td>str</td><td>i64</td><td>i64</td><td>i64</td><td>i64</td><td>i64</td><td>i64</td><td>i64</td><td>i64</td><td>i64</td><td>i64</td><td>i64</td><td>i64</td><td>i64</td><td>i64</td><td>i64</td><td>i64</td><td>str</td><td>i64</td><td>i64</td><td>i64</td><td>i64</td><td>i64</td><td>str</td><td>str</td><td>date</td></tr></thead><tbody><tr><td>2015</td><td>1</td><td>1</td><td>4</td><td>&quot;AS&quot;</td><td>98</td><td>&quot;N407AS&quot;</td><td>&quot;ANC&quot;</td><td>&quot;SEA&quot;</td><td>5</td><td>2354</td><td>-11</td><td>21</td><td>15</td><td>205</td><td>194</td><td>169</td><td>1448</td><td>404</td><td>4</td><td>430</td><td>408</td><td>-22</td><td>0</td><td>0</td><td>null</td><td>null</td><td>null</td><td>null</td><td>null</td><td>null</td><td>&quot;anchorage&quot;</td><td>&quot;AK&quot;</td><td>2015-01-01</td></tr><tr><td>2015</td><td>1</td><td>1</td><td>4</td><td>&quot;AA&quot;</td><td>2336</td><td>&quot;N3KUAA&quot;</td><td>&quot;LAX&quot;</td><td>&quot;PBI&quot;</td><td>10</td><td>2</td><td>-8</td><td>12</td><td>14</td><td>280</td><td>279</td><td>263</td><td>2330</td><td>737</td><td>4</td><td>750</td><td>741</td><td>-9</td><td>0</td><td>0</td><td>null</td><td>null</td><td>null</td><td>null</td><td>null</td><td>null</td><td>&quot;los&nbsp;angeles&quot;</td><td>&quot;CA&quot;</td><td>2015-01-01</td></tr><tr><td>2015</td><td>1</td><td>1</td><td>4</td><td>&quot;US&quot;</td><td>840</td><td>&quot;N171US&quot;</td><td>&quot;SFO&quot;</td><td>&quot;CLT&quot;</td><td>20</td><td>18</td><td>-2</td><td>16</td><td>34</td><td>286</td><td>293</td><td>266</td><td>2296</td><td>800</td><td>11</td><td>806</td><td>811</td><td>5</td><td>0</td><td>0</td><td>null</td><td>null</td><td>null</td><td>null</td><td>null</td><td>null</td><td>&quot;san&nbsp;mateo&quot;</td><td>&quot;CA&quot;</td><td>2015-01-01</td></tr><tr><td>2015</td><td>1</td><td>1</td><td>4</td><td>&quot;AA&quot;</td><td>258</td><td>&quot;N3HYAA&quot;</td><td>&quot;LAX&quot;</td><td>&quot;MIA&quot;</td><td>20</td><td>15</td><td>-5</td><td>15</td><td>30</td><td>285</td><td>281</td><td>258</td><td>2342</td><td>748</td><td>8</td><td>805</td><td>756</td><td>-9</td><td>0</td><td>0</td><td>null</td><td>null</td><td>null</td><td>null</td><td>null</td><td>null</td><td>&quot;los&nbsp;angeles&quot;</td><td>&quot;CA&quot;</td><td>2015-01-01</td></tr><tr><td>2015</td><td>1</td><td>1</td><td>4</td><td>&quot;AS&quot;</td><td>135</td><td>&quot;N527AS&quot;</td><td>&quot;SEA&quot;</td><td>&quot;ANC&quot;</td><td>25</td><td>24</td><td>-1</td><td>11</td><td>35</td><td>235</td><td>215</td><td>199</td><td>1448</td><td>254</td><td>5</td><td>320</td><td>259</td><td>-21</td><td>0</td><td>0</td><td>null</td><td>null</td><td>null</td><td>null</td><td>null</td><td>null</td><td>&quot;king&quot;</td><td>&quot;WA&quot;</td><td>2015-01-01</td></tr><tr><td>&hellip;</td><td>&hellip;</td><td>&hellip;</td><td>&hellip;</td><td>&hellip;</td><td>&hellip;</td><td>&hellip;</td><td>&hellip;</td><td>&hellip;</td><td>&hellip;</td><td>&hellip;</td><td>&hellip;</td><td>&hellip;</td><td>&hellip;</td><td>&hellip;</td><td>&hellip;</td><td>&hellip;</td><td>&hellip;</td><td>&hellip;</td><td>&hellip;</td><td>&hellip;</td><td>&hellip;</td><td>&hellip;</td><td>&hellip;</td><td>&hellip;</td><td>&hellip;</td><td>&hellip;</td><td>&hellip;</td><td>&hellip;</td><td>&hellip;</td><td>&hellip;</td><td>&hellip;</td><td>&hellip;</td><td>&hellip;</td></tr><tr><td>2015</td><td>12</td><td>31</td><td>4</td><td>&quot;B6&quot;</td><td>688</td><td>&quot;N657JB&quot;</td><td>&quot;LAX&quot;</td><td>&quot;BOS&quot;</td><td>2359</td><td>2355</td><td>-4</td><td>22</td><td>17</td><td>320</td><td>298</td><td>272</td><td>2611</td><td>749</td><td>4</td><td>819</td><td>753</td><td>-26</td><td>0</td><td>0</td><td>null</td><td>null</td><td>null</td><td>null</td><td>null</td><td>null</td><td>&quot;los&nbsp;angeles&quot;</td><td>&quot;CA&quot;</td><td>2015-12-31</td></tr><tr><td>2015</td><td>12</td><td>31</td><td>4</td><td>&quot;B6&quot;</td><td>745</td><td>&quot;N828JB&quot;</td><td>&quot;JFK&quot;</td><td>&quot;PSE&quot;</td><td>2359</td><td>2355</td><td>-4</td><td>17</td><td>12</td><td>227</td><td>215</td><td>195</td><td>1617</td><td>427</td><td>3</td><td>446</td><td>430</td><td>-16</td><td>0</td><td>0</td><td>null</td><td>null</td><td>null</td><td>null</td><td>null</td><td>null</td><td>&quot;queens&quot;</td><td>&quot;NY&quot;</td><td>2015-12-31</td></tr><tr><td>2015</td><td>12</td><td>31</td><td>4</td><td>&quot;B6&quot;</td><td>1503</td><td>&quot;N913JB&quot;</td><td>&quot;JFK&quot;</td><td>&quot;SJU&quot;</td><td>2359</td><td>2350</td><td>-9</td><td>17</td><td>7</td><td>221</td><td>222</td><td>197</td><td>1598</td><td>424</td><td>8</td><td>440</td><td>432</td><td>-8</td><td>0</td><td>0</td><td>null</td><td>null</td><td>null</td><td>null</td><td>null</td><td>null</td><td>&quot;queens&quot;</td><td>&quot;NY&quot;</td><td>2015-12-31</td></tr><tr><td>2015</td><td>12</td><td>31</td><td>4</td><td>&quot;B6&quot;</td><td>333</td><td>&quot;N527JB&quot;</td><td>&quot;MCO&quot;</td><td>&quot;SJU&quot;</td><td>2359</td><td>2353</td><td>-6</td><td>10</td><td>3</td><td>161</td><td>157</td><td>144</td><td>1189</td><td>327</td><td>3</td><td>340</td><td>330</td><td>-10</td><td>0</td><td>0</td><td>null</td><td>null</td><td>null</td><td>null</td><td>null</td><td>null</td><td>&quot;orange&quot;</td><td>&quot;FL&quot;</td><td>2015-12-31</td></tr><tr><td>2015</td><td>12</td><td>31</td><td>4</td><td>&quot;B6&quot;</td><td>839</td><td>&quot;N534JB&quot;</td><td>&quot;JFK&quot;</td><td>&quot;BQN&quot;</td><td>2359</td><td>14</td><td>15</td><td>14</td><td>28</td><td>221</td><td>208</td><td>189</td><td>1576</td><td>437</td><td>5</td><td>440</td><td>442</td><td>2</td><td>0</td><td>0</td><td>null</td><td>null</td><td>null</td><td>null</td><td>null</td><td>null</td><td>&quot;queens&quot;</td><td>&quot;NY&quot;</td><td>2015-12-31</td></tr></tbody></table></div>"
      ],
      "text/plain": [
       "shape: (5_819_079, 34)\n",
       "┌──────┬───────┬─────┬─────────────┬───┬───────────────┬─────────────┬────────────┬────────────┐\n",
       "│ YEAR ┆ MONTH ┆ DAY ┆ DAY_OF_WEEK ┆ … ┆ WEATHER_DELAY ┆ COUNTY_NAME ┆ STATE_CODE ┆ date       │\n",
       "│ ---  ┆ ---   ┆ --- ┆ ---         ┆   ┆ ---           ┆ ---         ┆ ---        ┆ ---        │\n",
       "│ i64  ┆ i64   ┆ i64 ┆ i64         ┆   ┆ i64           ┆ str         ┆ str        ┆ date       │\n",
       "╞══════╪═══════╪═════╪═════════════╪═══╪═══════════════╪═════════════╪════════════╪════════════╡\n",
       "│ 2015 ┆ 1     ┆ 1   ┆ 4           ┆ … ┆ null          ┆ anchorage   ┆ AK         ┆ 2015-01-01 │\n",
       "│ 2015 ┆ 1     ┆ 1   ┆ 4           ┆ … ┆ null          ┆ los angeles ┆ CA         ┆ 2015-01-01 │\n",
       "│ 2015 ┆ 1     ┆ 1   ┆ 4           ┆ … ┆ null          ┆ san mateo   ┆ CA         ┆ 2015-01-01 │\n",
       "│ 2015 ┆ 1     ┆ 1   ┆ 4           ┆ … ┆ null          ┆ los angeles ┆ CA         ┆ 2015-01-01 │\n",
       "│ 2015 ┆ 1     ┆ 1   ┆ 4           ┆ … ┆ null          ┆ king        ┆ WA         ┆ 2015-01-01 │\n",
       "│ …    ┆ …     ┆ …   ┆ …           ┆ … ┆ …             ┆ …           ┆ …          ┆ …          │\n",
       "│ 2015 ┆ 12    ┆ 31  ┆ 4           ┆ … ┆ null          ┆ los angeles ┆ CA         ┆ 2015-12-31 │\n",
       "│ 2015 ┆ 12    ┆ 31  ┆ 4           ┆ … ┆ null          ┆ queens      ┆ NY         ┆ 2015-12-31 │\n",
       "│ 2015 ┆ 12    ┆ 31  ┆ 4           ┆ … ┆ null          ┆ queens      ┆ NY         ┆ 2015-12-31 │\n",
       "│ 2015 ┆ 12    ┆ 31  ┆ 4           ┆ … ┆ null          ┆ orange      ┆ FL         ┆ 2015-12-31 │\n",
       "│ 2015 ┆ 12    ┆ 31  ┆ 4           ┆ … ┆ null          ┆ queens      ┆ NY         ┆ 2015-12-31 │\n",
       "└──────┴───────┴─────┴─────────────┴───┴───────────────┴─────────────┴────────────┴────────────┘"
      ]
     },
     "execution_count": 23,
     "metadata": {},
     "output_type": "execute_result"
    }
   ],
   "source": [
    "flights_df = flights_df.with_columns(\n",
    "    pl.col(\"COUNTY_NAME\").str.to_lowercase().alias(\"COUNTY_NAME\")\n",
    ")\n",
    "\n",
    "result_df = flights_df.join(\n",
    "    weather_df,\n",
    "    left_on=[\"COUNTY_NAME\", \"date\", \"STATE_CODE\"],\n",
    "    right_on=[\"county_name\", \"date\", \"st_abb\"],\n",
    "    how=\"left\"\n",
    ")\n",
    "\n",
    "flights_df"
   ]
  },
  {
   "cell_type": "code",
   "execution_count": 24,
   "metadata": {},
   "outputs": [
    {
     "data": {
      "text/plain": [
       "'\\nresult_df2 = flights_df.join(\\n    weather_df,\\n    left_on=[\"COUNTY_NAME\", \"date\"],\\n    right_on=[\"county_name\", \"date\"],\\n    how=\"inner\"\\n)\\n\\nresult_df2\\n'"
      ]
     },
     "execution_count": 24,
     "metadata": {},
     "output_type": "execute_result"
    }
   ],
   "source": [
    "'''\n",
    "result_df2 = flights_df.join(\n",
    "    weather_df,\n",
    "    left_on=[\"COUNTY_NAME\", \"date\"],\n",
    "    right_on=[\"county_name\", \"date\"],\n",
    "    how=\"inner\"\n",
    ")\n",
    "\n",
    "result_df2\n",
    "'''"
   ]
  },
  {
   "cell_type": "code",
   "execution_count": 26,
   "metadata": {},
   "outputs": [
    {
     "data": {
      "text/html": [
       "<div><style>\n",
       ".dataframe > thead > tr,\n",
       ".dataframe > tbody > tr {\n",
       "  text-align: right;\n",
       "  white-space: pre-wrap;\n",
       "}\n",
       "</style>\n",
       "<small>shape: (4_933_302, 43)</small><table border=\"1\" class=\"dataframe\"><thead><tr><th>YEAR</th><th>MONTH</th><th>DAY</th><th>DAY_OF_WEEK</th><th>AIRLINE</th><th>FLIGHT_NUMBER</th><th>TAIL_NUMBER</th><th>ORIGIN_AIRPORT</th><th>DESTINATION_AIRPORT</th><th>SCHEDULED_DEPARTURE</th><th>DEPARTURE_TIME</th><th>DEPARTURE_DELAY</th><th>TAXI_OUT</th><th>WHEELS_OFF</th><th>SCHEDULED_TIME</th><th>ELAPSED_TIME</th><th>AIR_TIME</th><th>DISTANCE</th><th>WHEELS_ON</th><th>TAXI_IN</th><th>SCHEDULED_ARRIVAL</th><th>ARRIVAL_TIME</th><th>ARRIVAL_DELAY</th><th>DIVERTED</th><th>CANCELLED</th><th>CANCELLATION_REASON</th><th>AIR_SYSTEM_DELAY</th><th>SECURITY_DELAY</th><th>AIRLINE_DELAY</th><th>LATE_AIRCRAFT_DELAY</th><th>WEATHER_DELAY</th><th>COUNTY_NAME</th><th>STATE_CODE</th><th>date</th><th>st_code</th><th>fips</th><th>stability</th><th>tmin</th><th>tmax</th><th>tavg</th><th>ppt</th><th>dday_a5C</th><th>dday_b15C</th></tr><tr><td>i64</td><td>i64</td><td>i64</td><td>i64</td><td>str</td><td>i64</td><td>str</td><td>str</td><td>str</td><td>i64</td><td>i64</td><td>i64</td><td>i64</td><td>i64</td><td>i64</td><td>i64</td><td>i64</td><td>i64</td><td>i64</td><td>i64</td><td>i64</td><td>i64</td><td>i64</td><td>i64</td><td>i64</td><td>str</td><td>i64</td><td>i64</td><td>i64</td><td>i64</td><td>i64</td><td>str</td><td>str</td><td>date</td><td>i64</td><td>i64</td><td>str</td><td>f64</td><td>f64</td><td>f64</td><td>f64</td><td>f64</td><td>f64</td></tr></thead><tbody><tr><td>2015</td><td>1</td><td>1</td><td>4</td><td>&quot;AA&quot;</td><td>2336</td><td>&quot;N3KUAA&quot;</td><td>&quot;LAX&quot;</td><td>&quot;PBI&quot;</td><td>10</td><td>2</td><td>-8</td><td>12</td><td>14</td><td>280</td><td>279</td><td>263</td><td>2330</td><td>737</td><td>4</td><td>750</td><td>741</td><td>-9</td><td>0</td><td>0</td><td>null</td><td>null</td><td>null</td><td>null</td><td>null</td><td>null</td><td>&quot;los&nbsp;angeles&quot;</td><td>&quot;CA&quot;</td><td>2015-01-01</td><td>6</td><td>6037</td><td>&quot;stable&quot;</td><td>-2.162</td><td>7.71</td><td>2.774</td><td>0.009</td><td>0.621</td><td>12.226</td></tr><tr><td>2015</td><td>1</td><td>1</td><td>4</td><td>&quot;US&quot;</td><td>840</td><td>&quot;N171US&quot;</td><td>&quot;SFO&quot;</td><td>&quot;CLT&quot;</td><td>20</td><td>18</td><td>-2</td><td>16</td><td>34</td><td>286</td><td>293</td><td>266</td><td>2296</td><td>800</td><td>11</td><td>806</td><td>811</td><td>5</td><td>0</td><td>0</td><td>null</td><td>null</td><td>null</td><td>null</td><td>null</td><td>null</td><td>&quot;san&nbsp;mateo&quot;</td><td>&quot;CA&quot;</td><td>2015-01-01</td><td>6</td><td>6081</td><td>&quot;stable&quot;</td><td>2.561</td><td>12.746</td><td>7.654</td><td>0.0</td><td>3.173</td><td>7.346</td></tr><tr><td>2015</td><td>1</td><td>1</td><td>4</td><td>&quot;AA&quot;</td><td>258</td><td>&quot;N3HYAA&quot;</td><td>&quot;LAX&quot;</td><td>&quot;MIA&quot;</td><td>20</td><td>15</td><td>-5</td><td>15</td><td>30</td><td>285</td><td>281</td><td>258</td><td>2342</td><td>748</td><td>8</td><td>805</td><td>756</td><td>-9</td><td>0</td><td>0</td><td>null</td><td>null</td><td>null</td><td>null</td><td>null</td><td>null</td><td>&quot;los&nbsp;angeles&quot;</td><td>&quot;CA&quot;</td><td>2015-01-01</td><td>6</td><td>6037</td><td>&quot;stable&quot;</td><td>-2.162</td><td>7.71</td><td>2.774</td><td>0.009</td><td>0.621</td><td>12.226</td></tr><tr><td>2015</td><td>1</td><td>1</td><td>4</td><td>&quot;AS&quot;</td><td>135</td><td>&quot;N527AS&quot;</td><td>&quot;SEA&quot;</td><td>&quot;ANC&quot;</td><td>25</td><td>24</td><td>-1</td><td>11</td><td>35</td><td>235</td><td>215</td><td>199</td><td>1448</td><td>254</td><td>5</td><td>320</td><td>259</td><td>-21</td><td>0</td><td>0</td><td>null</td><td>null</td><td>null</td><td>null</td><td>null</td><td>null</td><td>&quot;king&quot;</td><td>&quot;WA&quot;</td><td>2015-01-01</td><td>53</td><td>53033</td><td>&quot;stable&quot;</td><td>-6.204</td><td>0.605</td><td>-2.8</td><td>0.061</td><td>0.0</td><td>17.8</td></tr><tr><td>2015</td><td>1</td><td>1</td><td>4</td><td>&quot;DL&quot;</td><td>806</td><td>&quot;N3730B&quot;</td><td>&quot;SFO&quot;</td><td>&quot;MSP&quot;</td><td>25</td><td>20</td><td>-5</td><td>18</td><td>38</td><td>217</td><td>230</td><td>206</td><td>1589</td><td>604</td><td>6</td><td>602</td><td>610</td><td>8</td><td>0</td><td>0</td><td>null</td><td>null</td><td>null</td><td>null</td><td>null</td><td>null</td><td>&quot;san&nbsp;mateo&quot;</td><td>&quot;CA&quot;</td><td>2015-01-01</td><td>6</td><td>6081</td><td>&quot;stable&quot;</td><td>2.561</td><td>12.746</td><td>7.654</td><td>0.0</td><td>3.173</td><td>7.346</td></tr><tr><td>&hellip;</td><td>&hellip;</td><td>&hellip;</td><td>&hellip;</td><td>&hellip;</td><td>&hellip;</td><td>&hellip;</td><td>&hellip;</td><td>&hellip;</td><td>&hellip;</td><td>&hellip;</td><td>&hellip;</td><td>&hellip;</td><td>&hellip;</td><td>&hellip;</td><td>&hellip;</td><td>&hellip;</td><td>&hellip;</td><td>&hellip;</td><td>&hellip;</td><td>&hellip;</td><td>&hellip;</td><td>&hellip;</td><td>&hellip;</td><td>&hellip;</td><td>&hellip;</td><td>&hellip;</td><td>&hellip;</td><td>&hellip;</td><td>&hellip;</td><td>&hellip;</td><td>&hellip;</td><td>&hellip;</td><td>&hellip;</td><td>&hellip;</td><td>&hellip;</td><td>&hellip;</td><td>&hellip;</td><td>&hellip;</td><td>&hellip;</td><td>&hellip;</td><td>&hellip;</td><td>&hellip;</td></tr><tr><td>2015</td><td>12</td><td>31</td><td>4</td><td>&quot;B6&quot;</td><td>688</td><td>&quot;N657JB&quot;</td><td>&quot;LAX&quot;</td><td>&quot;BOS&quot;</td><td>2359</td><td>2355</td><td>-4</td><td>22</td><td>17</td><td>320</td><td>298</td><td>272</td><td>2611</td><td>749</td><td>4</td><td>819</td><td>753</td><td>-26</td><td>0</td><td>0</td><td>null</td><td>null</td><td>null</td><td>null</td><td>null</td><td>null</td><td>&quot;los&nbsp;angeles&quot;</td><td>&quot;CA&quot;</td><td>2015-12-31</td><td>6</td><td>6037</td><td>&quot;stable&quot;</td><td>-0.456</td><td>13.363</td><td>6.454</td><td>0.0</td><td>2.975</td><td>8.546</td></tr><tr><td>2015</td><td>12</td><td>31</td><td>4</td><td>&quot;B6&quot;</td><td>745</td><td>&quot;N828JB&quot;</td><td>&quot;JFK&quot;</td><td>&quot;PSE&quot;</td><td>2359</td><td>2355</td><td>-4</td><td>17</td><td>12</td><td>227</td><td>215</td><td>195</td><td>1617</td><td>427</td><td>3</td><td>446</td><td>430</td><td>-16</td><td>0</td><td>0</td><td>null</td><td>null</td><td>null</td><td>null</td><td>null</td><td>null</td><td>&quot;queens&quot;</td><td>&quot;NY&quot;</td><td>2015-12-31</td><td>36</td><td>36081</td><td>&quot;stable&quot;</td><td>4.968</td><td>9.84</td><td>7.404</td><td>8.014</td><td>2.405</td><td>7.596</td></tr><tr><td>2015</td><td>12</td><td>31</td><td>4</td><td>&quot;B6&quot;</td><td>1503</td><td>&quot;N913JB&quot;</td><td>&quot;JFK&quot;</td><td>&quot;SJU&quot;</td><td>2359</td><td>2350</td><td>-9</td><td>17</td><td>7</td><td>221</td><td>222</td><td>197</td><td>1598</td><td>424</td><td>8</td><td>440</td><td>432</td><td>-8</td><td>0</td><td>0</td><td>null</td><td>null</td><td>null</td><td>null</td><td>null</td><td>null</td><td>&quot;queens&quot;</td><td>&quot;NY&quot;</td><td>2015-12-31</td><td>36</td><td>36081</td><td>&quot;stable&quot;</td><td>4.968</td><td>9.84</td><td>7.404</td><td>8.014</td><td>2.405</td><td>7.596</td></tr><tr><td>2015</td><td>12</td><td>31</td><td>4</td><td>&quot;B6&quot;</td><td>333</td><td>&quot;N527JB&quot;</td><td>&quot;MCO&quot;</td><td>&quot;SJU&quot;</td><td>2359</td><td>2353</td><td>-6</td><td>10</td><td>3</td><td>161</td><td>157</td><td>144</td><td>1189</td><td>327</td><td>3</td><td>340</td><td>330</td><td>-10</td><td>0</td><td>0</td><td>null</td><td>null</td><td>null</td><td>null</td><td>null</td><td>null</td><td>&quot;orange&quot;</td><td>&quot;FL&quot;</td><td>2015-12-31</td><td>12</td><td>12095</td><td>&quot;stable&quot;</td><td>20.232</td><td>30.1</td><td>25.166</td><td>1.403</td><td>20.166</td><td>0.0</td></tr><tr><td>2015</td><td>12</td><td>31</td><td>4</td><td>&quot;B6&quot;</td><td>839</td><td>&quot;N534JB&quot;</td><td>&quot;JFK&quot;</td><td>&quot;BQN&quot;</td><td>2359</td><td>14</td><td>15</td><td>14</td><td>28</td><td>221</td><td>208</td><td>189</td><td>1576</td><td>437</td><td>5</td><td>440</td><td>442</td><td>2</td><td>0</td><td>0</td><td>null</td><td>null</td><td>null</td><td>null</td><td>null</td><td>null</td><td>&quot;queens&quot;</td><td>&quot;NY&quot;</td><td>2015-12-31</td><td>36</td><td>36081</td><td>&quot;stable&quot;</td><td>4.968</td><td>9.84</td><td>7.404</td><td>8.014</td><td>2.405</td><td>7.596</td></tr></tbody></table></div>"
      ],
      "text/plain": [
       "shape: (4_933_302, 43)\n",
       "┌──────┬───────┬─────┬─────────────┬───┬────────┬───────┬──────────┬───────────┐\n",
       "│ YEAR ┆ MONTH ┆ DAY ┆ DAY_OF_WEEK ┆ … ┆ tavg   ┆ ppt   ┆ dday_a5C ┆ dday_b15C │\n",
       "│ ---  ┆ ---   ┆ --- ┆ ---         ┆   ┆ ---    ┆ ---   ┆ ---      ┆ ---       │\n",
       "│ i64  ┆ i64   ┆ i64 ┆ i64         ┆   ┆ f64    ┆ f64   ┆ f64      ┆ f64       │\n",
       "╞══════╪═══════╪═════╪═════════════╪═══╪════════╪═══════╪══════════╪═══════════╡\n",
       "│ 2015 ┆ 1     ┆ 1   ┆ 4           ┆ … ┆ 2.774  ┆ 0.009 ┆ 0.621    ┆ 12.226    │\n",
       "│ 2015 ┆ 1     ┆ 1   ┆ 4           ┆ … ┆ 7.654  ┆ 0.0   ┆ 3.173    ┆ 7.346     │\n",
       "│ 2015 ┆ 1     ┆ 1   ┆ 4           ┆ … ┆ 2.774  ┆ 0.009 ┆ 0.621    ┆ 12.226    │\n",
       "│ 2015 ┆ 1     ┆ 1   ┆ 4           ┆ … ┆ -2.8   ┆ 0.061 ┆ 0.0      ┆ 17.8      │\n",
       "│ 2015 ┆ 1     ┆ 1   ┆ 4           ┆ … ┆ 7.654  ┆ 0.0   ┆ 3.173    ┆ 7.346     │\n",
       "│ …    ┆ …     ┆ …   ┆ …           ┆ … ┆ …      ┆ …     ┆ …        ┆ …         │\n",
       "│ 2015 ┆ 12    ┆ 31  ┆ 4           ┆ … ┆ 6.454  ┆ 0.0   ┆ 2.975    ┆ 8.546     │\n",
       "│ 2015 ┆ 12    ┆ 31  ┆ 4           ┆ … ┆ 7.404  ┆ 8.014 ┆ 2.405    ┆ 7.596     │\n",
       "│ 2015 ┆ 12    ┆ 31  ┆ 4           ┆ … ┆ 7.404  ┆ 8.014 ┆ 2.405    ┆ 7.596     │\n",
       "│ 2015 ┆ 12    ┆ 31  ┆ 4           ┆ … ┆ 25.166 ┆ 1.403 ┆ 20.166   ┆ 0.0       │\n",
       "│ 2015 ┆ 12    ┆ 31  ┆ 4           ┆ … ┆ 7.404  ┆ 8.014 ┆ 2.405    ┆ 7.596     │\n",
       "└──────┴───────┴─────┴─────────────┴───┴────────┴───────┴──────────┴───────────┘"
      ]
     },
     "execution_count": 26,
     "metadata": {},
     "output_type": "execute_result"
    }
   ],
   "source": [
    "result_important_df = result_df.filter(pl.col('tavg').is_not_null())\n",
    "result_important_df"
   ]
  }
 ],
 "metadata": {
  "kernelspec": {
   "display_name": "Python 3",
   "language": "python",
   "name": "python3"
  },
  "language_info": {
   "codemirror_mode": {
    "name": "ipython",
    "version": 3
   },
   "file_extension": ".py",
   "mimetype": "text/x-python",
   "name": "python",
   "nbconvert_exporter": "python",
   "pygments_lexer": "ipython3",
   "version": "3.11.8"
  }
 },
 "nbformat": 4,
 "nbformat_minor": 2
}
