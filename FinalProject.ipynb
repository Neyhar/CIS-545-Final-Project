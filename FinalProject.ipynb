{
  "cells": [
    {
      "cell_type": "markdown",
      "metadata": {
        "id": "On-Cb7N2DSwr"
      },
      "source": [
        "A full documentation of the data we used, relavent links and relavent schema\n",
        "\n",
        "Flights were sourced from here: https://www.kaggle.com/datasets/usdot/flight-delays?select=flights.csv\n",
        "\n",
        "Weather was sourced from here: https://asmith.ucdavis.edu/data/prism-weather\n",
        "\n",
        "AirportLocations.csv was sourced from: https://geodata.bts.gov/datasets/usdot::aviation-facilities/about\n",
        "\n",
        "For weather use the settings: Temporal unit should be daily, use county as spatial unit, start and end year are both 2015, months go from 1 to 12, states are all states, choose variables are tmin, tmax, tavg, ppt, dday_a5C, dday_b15C\n",
        "\n"
      ]
    },
    {
      "cell_type": "code",
      "execution_count": 1,
      "metadata": {
        "id": "oBgN4Ys1DSwu"
      },
      "outputs": [],
      "source": [
        "import numpy as np\n",
        "import matplotlib.pyplot as plt\n",
        "import pandas as pd\n",
        "import polars as pl\n",
        "import kagglehub\n",
        "import seaborn as sns\n",
        "import gc"
      ]
    },
    {
      "cell_type": "markdown",
      "metadata": {
        "id": "JXhlkQaEDSwv"
      },
      "source": [
        "State regions were determined by the following image (kind of arbitrary). We decided to set AK to north and HI to pacific, this is here for the purpose of hypothesis testing later on\n",
        "\n",
        "![Alt Text](region.png)"
      ]
    },
    {
      "cell_type": "code",
      "execution_count": 2,
      "metadata": {
        "id": "wvfew9TYDSwv"
      },
      "outputs": [],
      "source": [
        "state_to_region_dict = {\n",
        "    'WA': 'northwest',\n",
        "    'OR': 'northwest',\n",
        "    'ID': 'northwest',\n",
        "    'MT': 'northwest',\n",
        "    'WY': 'northwest',\n",
        "    'CA': 'west',\n",
        "    'NV': 'west',\n",
        "    'UT': 'southwest',\n",
        "    'AZ': 'southwest',\n",
        "    'CO': 'southwest',\n",
        "    'NM': 'southwest',\n",
        "    'TX': 'southwest',\n",
        "    'OK': 'southwest',\n",
        "    'ND': 'midwest',\n",
        "    'SD': 'midwest',\n",
        "    'NE': 'midwest',\n",
        "    'KS': 'midwest',\n",
        "    'MN': 'midwest',\n",
        "    'IA': 'midwest',\n",
        "    'MO': 'midwest',\n",
        "    'WI': 'midwest',\n",
        "    'IL': 'midwest',\n",
        "    'MI': 'midwest',\n",
        "    'KY': 'midwest',\n",
        "    'IN': 'midwest',\n",
        "    'OH': 'midwest',\n",
        "    'AR': 'southeast',\n",
        "    'LA': 'southeast',\n",
        "    'MS': 'southeast',\n",
        "    'AL': 'southeast',\n",
        "    'GA': 'southeast',\n",
        "    'FL': 'southeast',\n",
        "    'TN': 'southeast',\n",
        "    'NC': 'southeast',\n",
        "    'SC': 'southeast',\n",
        "    'VA': 'midatlantic',\n",
        "    'WV': 'midatlantic',\n",
        "    'MD': 'midatlantic',\n",
        "    'DE': 'midatlantic',\n",
        "    'DC': 'midatlantic',\n",
        "    'NJ': 'midatlantic',\n",
        "    'PA': 'midatlantic',\n",
        "    'NY': 'midatlantic',\n",
        "    'CT': 'newengland',\n",
        "    'RI': 'newengland',\n",
        "    'MA': 'newengland',\n",
        "    'NH': 'newengland',\n",
        "    'VT': 'newengland',\n",
        "    'ME': 'newengland',\n",
        "    'AK': 'north',\n",
        "    'HI': 'pacific'\n",
        "}"
      ]
    },
    {
      "cell_type": "code",
      "execution_count": 3,
      "metadata": {
        "id": "BtnB7pAQDSww"
      },
      "outputs": [],
      "source": [
        "flights_df = pl.read_csv('flights.csv')\n",
        "airport_loc_df = pl.read_csv('AirportLocations.csv')\n",
        "airlines_df = pl.read_csv('airlines.csv')\n",
        "weather_df = pl.read_csv('weather.csv')"
      ]
    },
    {
      "cell_type": "markdown",
      "metadata": {
        "id": "DhdnQ0PPDSww"
      },
      "source": [
        "ER diagram:\n",
        "\n",
        "This entity diagram is based on the 4 datasets we are using. Namely, the entities below correspond to the dataframes as follows: flight (flight_df), airport (airport_loc_df), airline (airlines_df), weather (weather_df). The relationships that exist are as follows:\n",
        "- A flight departs from/arrives at exactly 1 aiport (respectively). An airport can be the departure location/arrival location of multiple flights.\n",
        "- A flight is operated by exaclty 1 airline. An airline may operate multiple flights.\n",
        "- An airport experiences various weather conditions (on different days). A specific weather condition on a specific day is experienced by exactly 1 airport.\n",
        "\n",
        "For this last relationship, we assume that all (location, date) pairs are different, and that there is only 1 airport located in each county. That is, weather conditions at a specific location (and hence corresponding to a specific airport) are unique.\n",
        "\n",
        "Note: Some attributes are left off of the flight entity (AIR_SYSTEM_DELAY, SECURITY_DELAY, AIRLINE_DELAY, LATE_AIRCRAFT_DELAY, WEATHER_DELAY) as they were not used going forward and the \"CANCELLATION_REASON\" column essentially had the same information."
      ]
    },
    {
      "cell_type": "markdown",
      "metadata": {
        "id": "CxK8uRH1DSww"
      },
      "source": [
        "![Alt Text](project_er_diagram.png)"
      ]
    },
    {
      "cell_type": "code",
      "execution_count": 4,
      "metadata": {
        "id": "eUHCHzFjDSww"
      },
      "outputs": [],
      "source": [
        "#delays_df = flights_df.filter(pl.col(\"DEPARTURE_DELAY\") > 0)\n",
        "#ontime_df = flights_df.filter(pl.col(\"DEPARTURE_DELAY\") <= 0)"
      ]
    },
    {
      "cell_type": "markdown",
      "metadata": {
        "id": "Mnzjn-hJDSwx"
      },
      "source": [
        "Joining the County information so that we can compare weather"
      ]
    },
    {
      "cell_type": "code",
      "execution_count": 5,
      "metadata": {
        "colab": {
          "base_uri": "https://localhost:8080/",
          "height": 617
        },
        "id": "70ylQ4iaDSwx",
        "outputId": "9d32e169-a607-43c4-b7ca-9e0092256a93"
      },
      "outputs": [
        {
          "output_type": "execute_result",
          "data": {
            "text/plain": [
              "shape: (5_819_079, 34)\n",
              "┌──────┬───────┬─────┬─────────────┬───┬───────────────┬─────────────┬────────────┬────────────┐\n",
              "│ YEAR ┆ MONTH ┆ DAY ┆ DAY_OF_WEEK ┆ … ┆ WEATHER_DELAY ┆ COUNTY_NAME ┆ STATE_CODE ┆ date       │\n",
              "│ ---  ┆ ---   ┆ --- ┆ ---         ┆   ┆ ---           ┆ ---         ┆ ---        ┆ ---        │\n",
              "│ i64  ┆ i64   ┆ i64 ┆ i64         ┆   ┆ i64           ┆ str         ┆ str        ┆ date       │\n",
              "╞══════╪═══════╪═════╪═════════════╪═══╪═══════════════╪═════════════╪════════════╪════════════╡\n",
              "│ 2015 ┆ 1     ┆ 1   ┆ 4           ┆ … ┆ null          ┆ ANCHORAGE   ┆ AK         ┆ 2015-01-01 │\n",
              "│ 2015 ┆ 1     ┆ 1   ┆ 4           ┆ … ┆ null          ┆ LOS ANGELES ┆ CA         ┆ 2015-01-01 │\n",
              "│ 2015 ┆ 1     ┆ 1   ┆ 4           ┆ … ┆ null          ┆ SAN MATEO   ┆ CA         ┆ 2015-01-01 │\n",
              "│ 2015 ┆ 1     ┆ 1   ┆ 4           ┆ … ┆ null          ┆ LOS ANGELES ┆ CA         ┆ 2015-01-01 │\n",
              "│ 2015 ┆ 1     ┆ 1   ┆ 4           ┆ … ┆ null          ┆ KING        ┆ WA         ┆ 2015-01-01 │\n",
              "│ …    ┆ …     ┆ …   ┆ …           ┆ … ┆ …             ┆ …           ┆ …          ┆ …          │\n",
              "│ 2015 ┆ 12    ┆ 31  ┆ 4           ┆ … ┆ null          ┆ LOS ANGELES ┆ CA         ┆ 2015-12-31 │\n",
              "│ 2015 ┆ 12    ┆ 31  ┆ 4           ┆ … ┆ null          ┆ QUEENS      ┆ NY         ┆ 2015-12-31 │\n",
              "│ 2015 ┆ 12    ┆ 31  ┆ 4           ┆ … ┆ null          ┆ QUEENS      ┆ NY         ┆ 2015-12-31 │\n",
              "│ 2015 ┆ 12    ┆ 31  ┆ 4           ┆ … ┆ null          ┆ ORANGE      ┆ FL         ┆ 2015-12-31 │\n",
              "│ 2015 ┆ 12    ┆ 31  ┆ 4           ┆ … ┆ null          ┆ QUEENS      ┆ NY         ┆ 2015-12-31 │\n",
              "└──────┴───────┴─────┴─────────────┴───┴───────────────┴─────────────┴────────────┴────────────┘"
            ],
            "text/html": [
              "<div><style>\n",
              ".dataframe > thead > tr,\n",
              ".dataframe > tbody > tr {\n",
              "  text-align: right;\n",
              "  white-space: pre-wrap;\n",
              "}\n",
              "</style>\n",
              "<small>shape: (5_819_079, 34)</small><table border=\"1\" class=\"dataframe\"><thead><tr><th>YEAR</th><th>MONTH</th><th>DAY</th><th>DAY_OF_WEEK</th><th>AIRLINE</th><th>FLIGHT_NUMBER</th><th>TAIL_NUMBER</th><th>ORIGIN_AIRPORT</th><th>DESTINATION_AIRPORT</th><th>SCHEDULED_DEPARTURE</th><th>DEPARTURE_TIME</th><th>DEPARTURE_DELAY</th><th>TAXI_OUT</th><th>WHEELS_OFF</th><th>SCHEDULED_TIME</th><th>ELAPSED_TIME</th><th>AIR_TIME</th><th>DISTANCE</th><th>WHEELS_ON</th><th>TAXI_IN</th><th>SCHEDULED_ARRIVAL</th><th>ARRIVAL_TIME</th><th>ARRIVAL_DELAY</th><th>DIVERTED</th><th>CANCELLED</th><th>CANCELLATION_REASON</th><th>AIR_SYSTEM_DELAY</th><th>SECURITY_DELAY</th><th>AIRLINE_DELAY</th><th>LATE_AIRCRAFT_DELAY</th><th>WEATHER_DELAY</th><th>COUNTY_NAME</th><th>STATE_CODE</th><th>date</th></tr><tr><td>i64</td><td>i64</td><td>i64</td><td>i64</td><td>str</td><td>i64</td><td>str</td><td>str</td><td>str</td><td>i64</td><td>i64</td><td>i64</td><td>i64</td><td>i64</td><td>i64</td><td>i64</td><td>i64</td><td>i64</td><td>i64</td><td>i64</td><td>i64</td><td>i64</td><td>i64</td><td>i64</td><td>i64</td><td>str</td><td>i64</td><td>i64</td><td>i64</td><td>i64</td><td>i64</td><td>str</td><td>str</td><td>date</td></tr></thead><tbody><tr><td>2015</td><td>1</td><td>1</td><td>4</td><td>&quot;AS&quot;</td><td>98</td><td>&quot;N407AS&quot;</td><td>&quot;ANC&quot;</td><td>&quot;SEA&quot;</td><td>5</td><td>2354</td><td>-11</td><td>21</td><td>15</td><td>205</td><td>194</td><td>169</td><td>1448</td><td>404</td><td>4</td><td>430</td><td>408</td><td>-22</td><td>0</td><td>0</td><td>null</td><td>null</td><td>null</td><td>null</td><td>null</td><td>null</td><td>&quot;ANCHORAGE&quot;</td><td>&quot;AK&quot;</td><td>2015-01-01</td></tr><tr><td>2015</td><td>1</td><td>1</td><td>4</td><td>&quot;AA&quot;</td><td>2336</td><td>&quot;N3KUAA&quot;</td><td>&quot;LAX&quot;</td><td>&quot;PBI&quot;</td><td>10</td><td>2</td><td>-8</td><td>12</td><td>14</td><td>280</td><td>279</td><td>263</td><td>2330</td><td>737</td><td>4</td><td>750</td><td>741</td><td>-9</td><td>0</td><td>0</td><td>null</td><td>null</td><td>null</td><td>null</td><td>null</td><td>null</td><td>&quot;LOS ANGELES&quot;</td><td>&quot;CA&quot;</td><td>2015-01-01</td></tr><tr><td>2015</td><td>1</td><td>1</td><td>4</td><td>&quot;US&quot;</td><td>840</td><td>&quot;N171US&quot;</td><td>&quot;SFO&quot;</td><td>&quot;CLT&quot;</td><td>20</td><td>18</td><td>-2</td><td>16</td><td>34</td><td>286</td><td>293</td><td>266</td><td>2296</td><td>800</td><td>11</td><td>806</td><td>811</td><td>5</td><td>0</td><td>0</td><td>null</td><td>null</td><td>null</td><td>null</td><td>null</td><td>null</td><td>&quot;SAN MATEO&quot;</td><td>&quot;CA&quot;</td><td>2015-01-01</td></tr><tr><td>2015</td><td>1</td><td>1</td><td>4</td><td>&quot;AA&quot;</td><td>258</td><td>&quot;N3HYAA&quot;</td><td>&quot;LAX&quot;</td><td>&quot;MIA&quot;</td><td>20</td><td>15</td><td>-5</td><td>15</td><td>30</td><td>285</td><td>281</td><td>258</td><td>2342</td><td>748</td><td>8</td><td>805</td><td>756</td><td>-9</td><td>0</td><td>0</td><td>null</td><td>null</td><td>null</td><td>null</td><td>null</td><td>null</td><td>&quot;LOS ANGELES&quot;</td><td>&quot;CA&quot;</td><td>2015-01-01</td></tr><tr><td>2015</td><td>1</td><td>1</td><td>4</td><td>&quot;AS&quot;</td><td>135</td><td>&quot;N527AS&quot;</td><td>&quot;SEA&quot;</td><td>&quot;ANC&quot;</td><td>25</td><td>24</td><td>-1</td><td>11</td><td>35</td><td>235</td><td>215</td><td>199</td><td>1448</td><td>254</td><td>5</td><td>320</td><td>259</td><td>-21</td><td>0</td><td>0</td><td>null</td><td>null</td><td>null</td><td>null</td><td>null</td><td>null</td><td>&quot;KING&quot;</td><td>&quot;WA&quot;</td><td>2015-01-01</td></tr><tr><td>&hellip;</td><td>&hellip;</td><td>&hellip;</td><td>&hellip;</td><td>&hellip;</td><td>&hellip;</td><td>&hellip;</td><td>&hellip;</td><td>&hellip;</td><td>&hellip;</td><td>&hellip;</td><td>&hellip;</td><td>&hellip;</td><td>&hellip;</td><td>&hellip;</td><td>&hellip;</td><td>&hellip;</td><td>&hellip;</td><td>&hellip;</td><td>&hellip;</td><td>&hellip;</td><td>&hellip;</td><td>&hellip;</td><td>&hellip;</td><td>&hellip;</td><td>&hellip;</td><td>&hellip;</td><td>&hellip;</td><td>&hellip;</td><td>&hellip;</td><td>&hellip;</td><td>&hellip;</td><td>&hellip;</td><td>&hellip;</td></tr><tr><td>2015</td><td>12</td><td>31</td><td>4</td><td>&quot;B6&quot;</td><td>688</td><td>&quot;N657JB&quot;</td><td>&quot;LAX&quot;</td><td>&quot;BOS&quot;</td><td>2359</td><td>2355</td><td>-4</td><td>22</td><td>17</td><td>320</td><td>298</td><td>272</td><td>2611</td><td>749</td><td>4</td><td>819</td><td>753</td><td>-26</td><td>0</td><td>0</td><td>null</td><td>null</td><td>null</td><td>null</td><td>null</td><td>null</td><td>&quot;LOS ANGELES&quot;</td><td>&quot;CA&quot;</td><td>2015-12-31</td></tr><tr><td>2015</td><td>12</td><td>31</td><td>4</td><td>&quot;B6&quot;</td><td>745</td><td>&quot;N828JB&quot;</td><td>&quot;JFK&quot;</td><td>&quot;PSE&quot;</td><td>2359</td><td>2355</td><td>-4</td><td>17</td><td>12</td><td>227</td><td>215</td><td>195</td><td>1617</td><td>427</td><td>3</td><td>446</td><td>430</td><td>-16</td><td>0</td><td>0</td><td>null</td><td>null</td><td>null</td><td>null</td><td>null</td><td>null</td><td>&quot;QUEENS&quot;</td><td>&quot;NY&quot;</td><td>2015-12-31</td></tr><tr><td>2015</td><td>12</td><td>31</td><td>4</td><td>&quot;B6&quot;</td><td>1503</td><td>&quot;N913JB&quot;</td><td>&quot;JFK&quot;</td><td>&quot;SJU&quot;</td><td>2359</td><td>2350</td><td>-9</td><td>17</td><td>7</td><td>221</td><td>222</td><td>197</td><td>1598</td><td>424</td><td>8</td><td>440</td><td>432</td><td>-8</td><td>0</td><td>0</td><td>null</td><td>null</td><td>null</td><td>null</td><td>null</td><td>null</td><td>&quot;QUEENS&quot;</td><td>&quot;NY&quot;</td><td>2015-12-31</td></tr><tr><td>2015</td><td>12</td><td>31</td><td>4</td><td>&quot;B6&quot;</td><td>333</td><td>&quot;N527JB&quot;</td><td>&quot;MCO&quot;</td><td>&quot;SJU&quot;</td><td>2359</td><td>2353</td><td>-6</td><td>10</td><td>3</td><td>161</td><td>157</td><td>144</td><td>1189</td><td>327</td><td>3</td><td>340</td><td>330</td><td>-10</td><td>0</td><td>0</td><td>null</td><td>null</td><td>null</td><td>null</td><td>null</td><td>null</td><td>&quot;ORANGE&quot;</td><td>&quot;FL&quot;</td><td>2015-12-31</td></tr><tr><td>2015</td><td>12</td><td>31</td><td>4</td><td>&quot;B6&quot;</td><td>839</td><td>&quot;N534JB&quot;</td><td>&quot;JFK&quot;</td><td>&quot;BQN&quot;</td><td>2359</td><td>14</td><td>15</td><td>14</td><td>28</td><td>221</td><td>208</td><td>189</td><td>1576</td><td>437</td><td>5</td><td>440</td><td>442</td><td>2</td><td>0</td><td>0</td><td>null</td><td>null</td><td>null</td><td>null</td><td>null</td><td>null</td><td>&quot;QUEENS&quot;</td><td>&quot;NY&quot;</td><td>2015-12-31</td></tr></tbody></table></div>"
            ]
          },
          "metadata": {},
          "execution_count": 5
        }
      ],
      "source": [
        "airport_loc_df = airport_loc_df.select([\"ARPT_ID\", \"COUNTY_NAME\", \"STATE_CODE\"])\n",
        "flights_df = flights_df.join(\n",
        "    airport_loc_df,\n",
        "    left_on=\"ORIGIN_AIRPORT\",\n",
        "    right_on=\"ARPT_ID\",\n",
        "    how=\"left\"\n",
        ")\n",
        "#delays_df = flights_df.filter(pl.col(\"DEPARTURE_DELAY\") > 0)\n",
        "#ontime_df = flights_df.filter(pl.col(\"DEPARTURE_DELAY\") <= 0)\n",
        "flights_df = flights_df.with_columns(\n",
        "    pl.datetime(\n",
        "        year=pl.col(\"YEAR\"),\n",
        "        month=pl.col(\"MONTH\"),\n",
        "        day=pl.col(\"DAY\")\n",
        "    ).cast(pl.Date).alias(\"date\")\n",
        ")\n",
        "flights_df"
      ]
    },
    {
      "cell_type": "markdown",
      "metadata": {
        "id": "dKoZIs0VDSwx"
      },
      "source": [
        "Don't run the below cell more than once"
      ]
    },
    {
      "cell_type": "code",
      "execution_count": 6,
      "metadata": {
        "colab": {
          "base_uri": "https://localhost:8080/",
          "height": 452
        },
        "id": "z8n-lL-nDSwy",
        "outputId": "f454aa8a-0dc8-4f9c-8f9e-7a4b6cc7ec84"
      },
      "outputs": [
        {
          "output_type": "execute_result",
          "data": {
            "text/plain": [
              "shape: (1_134_055, 12)\n",
              "┌────────┬─────────┬─────────────┬───────┬───┬─────────┬────────┬──────────┬───────────┐\n",
              "│ st_abb ┆ st_code ┆ county_name ┆ fips  ┆ … ┆ tavg    ┆ ppt    ┆ dday_a5C ┆ dday_b15C │\n",
              "│ ---    ┆ ---     ┆ ---         ┆ ---   ┆   ┆ ---     ┆ ---    ┆ ---      ┆ ---       │\n",
              "│ str    ┆ i64     ┆ str         ┆ i64   ┆   ┆ f64     ┆ f64    ┆ f64      ┆ f64       │\n",
              "╞════════╪═════════╪═════════════╪═══════╪═══╪═════════╪════════╪══════════╪═══════════╡\n",
              "│ AL     ┆ 1       ┆ autauga     ┆ 1001  ┆ … ┆ 5.063   ┆ 0.059  ┆ 1.909    ┆ 9.937     │\n",
              "│ AL     ┆ 1       ┆ autauga     ┆ 1001  ┆ … ┆ 6.746   ┆ 3.863  ┆ 3.008    ┆ 8.254     │\n",
              "│ AL     ┆ 1       ┆ autauga     ┆ 1001  ┆ … ┆ 10.531  ┆ 14.217 ┆ 5.532    ┆ 4.469     │\n",
              "│ AL     ┆ 1       ┆ autauga     ┆ 1001  ┆ … ┆ 16.457  ┆ 48.919 ┆ 11.456   ┆ 0.668     │\n",
              "│ AL     ┆ 1       ┆ autauga     ┆ 1001  ┆ … ┆ 9.254   ┆ 0.0    ┆ 4.684    ┆ 5.841     │\n",
              "│ …      ┆ …       ┆ …           ┆ …     ┆ … ┆ …       ┆ …      ┆ …        ┆ …         │\n",
              "│ WY     ┆ 56      ┆ weston      ┆ 56045 ┆ … ┆ -12.973 ┆ 0.0    ┆ 0.0      ┆ 27.973    │\n",
              "│ WY     ┆ 56      ┆ weston      ┆ 56045 ┆ … ┆ -10.277 ┆ 0.0    ┆ 0.0      ┆ 25.277    │\n",
              "│ WY     ┆ 56      ┆ weston      ┆ 56045 ┆ … ┆ -11.887 ┆ 0.0    ┆ 0.0      ┆ 26.887    │\n",
              "│ WY     ┆ 56      ┆ weston      ┆ 56045 ┆ … ┆ -13.464 ┆ 0.464  ┆ 0.0      ┆ 28.464    │\n",
              "│ WY     ┆ 56      ┆ weston      ┆ 56045 ┆ … ┆ -12.0   ┆ 0.394  ┆ 0.0      ┆ 27.0      │\n",
              "└────────┴─────────┴─────────────┴───────┴───┴─────────┴────────┴──────────┴───────────┘"
            ],
            "text/html": [
              "<div><style>\n",
              ".dataframe > thead > tr,\n",
              ".dataframe > tbody > tr {\n",
              "  text-align: right;\n",
              "  white-space: pre-wrap;\n",
              "}\n",
              "</style>\n",
              "<small>shape: (1_134_055, 12)</small><table border=\"1\" class=\"dataframe\"><thead><tr><th>st_abb</th><th>st_code</th><th>county_name</th><th>fips</th><th>date</th><th>stability</th><th>tmin</th><th>tmax</th><th>tavg</th><th>ppt</th><th>dday_a5C</th><th>dday_b15C</th></tr><tr><td>str</td><td>i64</td><td>str</td><td>i64</td><td>date</td><td>str</td><td>f64</td><td>f64</td><td>f64</td><td>f64</td><td>f64</td><td>f64</td></tr></thead><tbody><tr><td>&quot;AL&quot;</td><td>1</td><td>&quot;autauga&quot;</td><td>1001</td><td>2015-01-01</td><td>&quot;stable&quot;</td><td>-0.835</td><td>10.961</td><td>5.063</td><td>0.059</td><td>1.909</td><td>9.937</td></tr><tr><td>&quot;AL&quot;</td><td>1</td><td>&quot;autauga&quot;</td><td>1001</td><td>2015-01-02</td><td>&quot;stable&quot;</td><td>0.276</td><td>13.216</td><td>6.746</td><td>3.863</td><td>3.008</td><td>8.254</td></tr><tr><td>&quot;AL&quot;</td><td>1</td><td>&quot;autauga&quot;</td><td>1001</td><td>2015-01-03</td><td>&quot;stable&quot;</td><td>8.511</td><td>12.552</td><td>10.531</td><td>14.217</td><td>5.532</td><td>4.469</td></tr><tr><td>&quot;AL&quot;</td><td>1</td><td>&quot;autauga&quot;</td><td>1001</td><td>2015-01-04</td><td>&quot;stable&quot;</td><td>12.328</td><td>20.585</td><td>16.457</td><td>48.919</td><td>11.456</td><td>0.668</td></tr><tr><td>&quot;AL&quot;</td><td>1</td><td>&quot;autauga&quot;</td><td>1001</td><td>2015-01-05</td><td>&quot;stable&quot;</td><td>2.642</td><td>15.865</td><td>9.254</td><td>0.0</td><td>4.684</td><td>5.841</td></tr><tr><td>&hellip;</td><td>&hellip;</td><td>&hellip;</td><td>&hellip;</td><td>&hellip;</td><td>&hellip;</td><td>&hellip;</td><td>&hellip;</td><td>&hellip;</td><td>&hellip;</td><td>&hellip;</td><td>&hellip;</td></tr><tr><td>&quot;WY&quot;</td><td>56</td><td>&quot;weston&quot;</td><td>56045</td><td>2015-12-27</td><td>&quot;stable&quot;</td><td>-19.242</td><td>-6.704</td><td>-12.973</td><td>0.0</td><td>0.0</td><td>27.973</td></tr><tr><td>&quot;WY&quot;</td><td>56</td><td>&quot;weston&quot;</td><td>56045</td><td>2015-12-28</td><td>&quot;stable&quot;</td><td>-18.188</td><td>-2.366</td><td>-10.277</td><td>0.0</td><td>0.0</td><td>25.277</td></tr><tr><td>&quot;WY&quot;</td><td>56</td><td>&quot;weston&quot;</td><td>56045</td><td>2015-12-29</td><td>&quot;stable&quot;</td><td>-20.651</td><td>-3.123</td><td>-11.887</td><td>0.0</td><td>0.0</td><td>26.887</td></tr><tr><td>&quot;WY&quot;</td><td>56</td><td>&quot;weston&quot;</td><td>56045</td><td>2015-12-30</td><td>&quot;stable&quot;</td><td>-18.454</td><td>-8.474</td><td>-13.464</td><td>0.464</td><td>0.0</td><td>28.464</td></tr><tr><td>&quot;WY&quot;</td><td>56</td><td>&quot;weston&quot;</td><td>56045</td><td>2015-12-31</td><td>&quot;stable&quot;</td><td>-17.702</td><td>-6.298</td><td>-12.0</td><td>0.394</td><td>0.0</td><td>27.0</td></tr></tbody></table></div>"
            ]
          },
          "metadata": {},
          "execution_count": 6
        }
      ],
      "source": [
        "weather_df = weather_df.with_columns(\n",
        "    pl.col(\"date\").cast(pl.Utf8).str.strptime(pl.Date, \"%Y%m%d\").alias(\"date\")\n",
        ")\n",
        "weather_df = weather_df.with_columns(\n",
        "    pl.col(\"county_name\").str.to_lowercase().alias(\"county_name\")\n",
        ")\n",
        "weather_df"
      ]
    },
    {
      "cell_type": "markdown",
      "metadata": {
        "id": "7JZkL9RUDSwy"
      },
      "source": [
        "Cross Referenced Data from here in order to ensure that the temperatures were correctly aligned: https://www.timeanddate.com/weather/usa/new-york/historic?month=12&year=2015"
      ]
    },
    {
      "cell_type": "code",
      "execution_count": 7,
      "metadata": {
        "colab": {
          "base_uri": "https://localhost:8080/",
          "height": 617
        },
        "id": "JS8Yy3lsDSwy",
        "outputId": "7b42a251-e0ab-4cc9-e323-22b387950c10"
      },
      "outputs": [
        {
          "output_type": "execute_result",
          "data": {
            "text/plain": [
              "shape: (5_819_079, 34)\n",
              "┌──────┬───────┬─────┬─────────────┬───┬───────────────┬─────────────┬────────────┬────────────┐\n",
              "│ YEAR ┆ MONTH ┆ DAY ┆ DAY_OF_WEEK ┆ … ┆ WEATHER_DELAY ┆ COUNTY_NAME ┆ STATE_CODE ┆ date       │\n",
              "│ ---  ┆ ---   ┆ --- ┆ ---         ┆   ┆ ---           ┆ ---         ┆ ---        ┆ ---        │\n",
              "│ i64  ┆ i64   ┆ i64 ┆ i64         ┆   ┆ i64           ┆ str         ┆ str        ┆ date       │\n",
              "╞══════╪═══════╪═════╪═════════════╪═══╪═══════════════╪═════════════╪════════════╪════════════╡\n",
              "│ 2015 ┆ 1     ┆ 1   ┆ 4           ┆ … ┆ null          ┆ anchorage   ┆ AK         ┆ 2015-01-01 │\n",
              "│ 2015 ┆ 1     ┆ 1   ┆ 4           ┆ … ┆ null          ┆ los angeles ┆ CA         ┆ 2015-01-01 │\n",
              "│ 2015 ┆ 1     ┆ 1   ┆ 4           ┆ … ┆ null          ┆ san mateo   ┆ CA         ┆ 2015-01-01 │\n",
              "│ 2015 ┆ 1     ┆ 1   ┆ 4           ┆ … ┆ null          ┆ los angeles ┆ CA         ┆ 2015-01-01 │\n",
              "│ 2015 ┆ 1     ┆ 1   ┆ 4           ┆ … ┆ null          ┆ king        ┆ WA         ┆ 2015-01-01 │\n",
              "│ …    ┆ …     ┆ …   ┆ …           ┆ … ┆ …             ┆ …           ┆ …          ┆ …          │\n",
              "│ 2015 ┆ 12    ┆ 31  ┆ 4           ┆ … ┆ null          ┆ los angeles ┆ CA         ┆ 2015-12-31 │\n",
              "│ 2015 ┆ 12    ┆ 31  ┆ 4           ┆ … ┆ null          ┆ queens      ┆ NY         ┆ 2015-12-31 │\n",
              "│ 2015 ┆ 12    ┆ 31  ┆ 4           ┆ … ┆ null          ┆ queens      ┆ NY         ┆ 2015-12-31 │\n",
              "│ 2015 ┆ 12    ┆ 31  ┆ 4           ┆ … ┆ null          ┆ orange      ┆ FL         ┆ 2015-12-31 │\n",
              "│ 2015 ┆ 12    ┆ 31  ┆ 4           ┆ … ┆ null          ┆ queens      ┆ NY         ┆ 2015-12-31 │\n",
              "└──────┴───────┴─────┴─────────────┴───┴───────────────┴─────────────┴────────────┴────────────┘"
            ],
            "text/html": [
              "<div><style>\n",
              ".dataframe > thead > tr,\n",
              ".dataframe > tbody > tr {\n",
              "  text-align: right;\n",
              "  white-space: pre-wrap;\n",
              "}\n",
              "</style>\n",
              "<small>shape: (5_819_079, 34)</small><table border=\"1\" class=\"dataframe\"><thead><tr><th>YEAR</th><th>MONTH</th><th>DAY</th><th>DAY_OF_WEEK</th><th>AIRLINE</th><th>FLIGHT_NUMBER</th><th>TAIL_NUMBER</th><th>ORIGIN_AIRPORT</th><th>DESTINATION_AIRPORT</th><th>SCHEDULED_DEPARTURE</th><th>DEPARTURE_TIME</th><th>DEPARTURE_DELAY</th><th>TAXI_OUT</th><th>WHEELS_OFF</th><th>SCHEDULED_TIME</th><th>ELAPSED_TIME</th><th>AIR_TIME</th><th>DISTANCE</th><th>WHEELS_ON</th><th>TAXI_IN</th><th>SCHEDULED_ARRIVAL</th><th>ARRIVAL_TIME</th><th>ARRIVAL_DELAY</th><th>DIVERTED</th><th>CANCELLED</th><th>CANCELLATION_REASON</th><th>AIR_SYSTEM_DELAY</th><th>SECURITY_DELAY</th><th>AIRLINE_DELAY</th><th>LATE_AIRCRAFT_DELAY</th><th>WEATHER_DELAY</th><th>COUNTY_NAME</th><th>STATE_CODE</th><th>date</th></tr><tr><td>i64</td><td>i64</td><td>i64</td><td>i64</td><td>str</td><td>i64</td><td>str</td><td>str</td><td>str</td><td>i64</td><td>i64</td><td>i64</td><td>i64</td><td>i64</td><td>i64</td><td>i64</td><td>i64</td><td>i64</td><td>i64</td><td>i64</td><td>i64</td><td>i64</td><td>i64</td><td>i64</td><td>i64</td><td>str</td><td>i64</td><td>i64</td><td>i64</td><td>i64</td><td>i64</td><td>str</td><td>str</td><td>date</td></tr></thead><tbody><tr><td>2015</td><td>1</td><td>1</td><td>4</td><td>&quot;AS&quot;</td><td>98</td><td>&quot;N407AS&quot;</td><td>&quot;ANC&quot;</td><td>&quot;SEA&quot;</td><td>5</td><td>2354</td><td>-11</td><td>21</td><td>15</td><td>205</td><td>194</td><td>169</td><td>1448</td><td>404</td><td>4</td><td>430</td><td>408</td><td>-22</td><td>0</td><td>0</td><td>null</td><td>null</td><td>null</td><td>null</td><td>null</td><td>null</td><td>&quot;anchorage&quot;</td><td>&quot;AK&quot;</td><td>2015-01-01</td></tr><tr><td>2015</td><td>1</td><td>1</td><td>4</td><td>&quot;AA&quot;</td><td>2336</td><td>&quot;N3KUAA&quot;</td><td>&quot;LAX&quot;</td><td>&quot;PBI&quot;</td><td>10</td><td>2</td><td>-8</td><td>12</td><td>14</td><td>280</td><td>279</td><td>263</td><td>2330</td><td>737</td><td>4</td><td>750</td><td>741</td><td>-9</td><td>0</td><td>0</td><td>null</td><td>null</td><td>null</td><td>null</td><td>null</td><td>null</td><td>&quot;los angeles&quot;</td><td>&quot;CA&quot;</td><td>2015-01-01</td></tr><tr><td>2015</td><td>1</td><td>1</td><td>4</td><td>&quot;US&quot;</td><td>840</td><td>&quot;N171US&quot;</td><td>&quot;SFO&quot;</td><td>&quot;CLT&quot;</td><td>20</td><td>18</td><td>-2</td><td>16</td><td>34</td><td>286</td><td>293</td><td>266</td><td>2296</td><td>800</td><td>11</td><td>806</td><td>811</td><td>5</td><td>0</td><td>0</td><td>null</td><td>null</td><td>null</td><td>null</td><td>null</td><td>null</td><td>&quot;san mateo&quot;</td><td>&quot;CA&quot;</td><td>2015-01-01</td></tr><tr><td>2015</td><td>1</td><td>1</td><td>4</td><td>&quot;AA&quot;</td><td>258</td><td>&quot;N3HYAA&quot;</td><td>&quot;LAX&quot;</td><td>&quot;MIA&quot;</td><td>20</td><td>15</td><td>-5</td><td>15</td><td>30</td><td>285</td><td>281</td><td>258</td><td>2342</td><td>748</td><td>8</td><td>805</td><td>756</td><td>-9</td><td>0</td><td>0</td><td>null</td><td>null</td><td>null</td><td>null</td><td>null</td><td>null</td><td>&quot;los angeles&quot;</td><td>&quot;CA&quot;</td><td>2015-01-01</td></tr><tr><td>2015</td><td>1</td><td>1</td><td>4</td><td>&quot;AS&quot;</td><td>135</td><td>&quot;N527AS&quot;</td><td>&quot;SEA&quot;</td><td>&quot;ANC&quot;</td><td>25</td><td>24</td><td>-1</td><td>11</td><td>35</td><td>235</td><td>215</td><td>199</td><td>1448</td><td>254</td><td>5</td><td>320</td><td>259</td><td>-21</td><td>0</td><td>0</td><td>null</td><td>null</td><td>null</td><td>null</td><td>null</td><td>null</td><td>&quot;king&quot;</td><td>&quot;WA&quot;</td><td>2015-01-01</td></tr><tr><td>&hellip;</td><td>&hellip;</td><td>&hellip;</td><td>&hellip;</td><td>&hellip;</td><td>&hellip;</td><td>&hellip;</td><td>&hellip;</td><td>&hellip;</td><td>&hellip;</td><td>&hellip;</td><td>&hellip;</td><td>&hellip;</td><td>&hellip;</td><td>&hellip;</td><td>&hellip;</td><td>&hellip;</td><td>&hellip;</td><td>&hellip;</td><td>&hellip;</td><td>&hellip;</td><td>&hellip;</td><td>&hellip;</td><td>&hellip;</td><td>&hellip;</td><td>&hellip;</td><td>&hellip;</td><td>&hellip;</td><td>&hellip;</td><td>&hellip;</td><td>&hellip;</td><td>&hellip;</td><td>&hellip;</td><td>&hellip;</td></tr><tr><td>2015</td><td>12</td><td>31</td><td>4</td><td>&quot;B6&quot;</td><td>688</td><td>&quot;N657JB&quot;</td><td>&quot;LAX&quot;</td><td>&quot;BOS&quot;</td><td>2359</td><td>2355</td><td>-4</td><td>22</td><td>17</td><td>320</td><td>298</td><td>272</td><td>2611</td><td>749</td><td>4</td><td>819</td><td>753</td><td>-26</td><td>0</td><td>0</td><td>null</td><td>null</td><td>null</td><td>null</td><td>null</td><td>null</td><td>&quot;los angeles&quot;</td><td>&quot;CA&quot;</td><td>2015-12-31</td></tr><tr><td>2015</td><td>12</td><td>31</td><td>4</td><td>&quot;B6&quot;</td><td>745</td><td>&quot;N828JB&quot;</td><td>&quot;JFK&quot;</td><td>&quot;PSE&quot;</td><td>2359</td><td>2355</td><td>-4</td><td>17</td><td>12</td><td>227</td><td>215</td><td>195</td><td>1617</td><td>427</td><td>3</td><td>446</td><td>430</td><td>-16</td><td>0</td><td>0</td><td>null</td><td>null</td><td>null</td><td>null</td><td>null</td><td>null</td><td>&quot;queens&quot;</td><td>&quot;NY&quot;</td><td>2015-12-31</td></tr><tr><td>2015</td><td>12</td><td>31</td><td>4</td><td>&quot;B6&quot;</td><td>1503</td><td>&quot;N913JB&quot;</td><td>&quot;JFK&quot;</td><td>&quot;SJU&quot;</td><td>2359</td><td>2350</td><td>-9</td><td>17</td><td>7</td><td>221</td><td>222</td><td>197</td><td>1598</td><td>424</td><td>8</td><td>440</td><td>432</td><td>-8</td><td>0</td><td>0</td><td>null</td><td>null</td><td>null</td><td>null</td><td>null</td><td>null</td><td>&quot;queens&quot;</td><td>&quot;NY&quot;</td><td>2015-12-31</td></tr><tr><td>2015</td><td>12</td><td>31</td><td>4</td><td>&quot;B6&quot;</td><td>333</td><td>&quot;N527JB&quot;</td><td>&quot;MCO&quot;</td><td>&quot;SJU&quot;</td><td>2359</td><td>2353</td><td>-6</td><td>10</td><td>3</td><td>161</td><td>157</td><td>144</td><td>1189</td><td>327</td><td>3</td><td>340</td><td>330</td><td>-10</td><td>0</td><td>0</td><td>null</td><td>null</td><td>null</td><td>null</td><td>null</td><td>null</td><td>&quot;orange&quot;</td><td>&quot;FL&quot;</td><td>2015-12-31</td></tr><tr><td>2015</td><td>12</td><td>31</td><td>4</td><td>&quot;B6&quot;</td><td>839</td><td>&quot;N534JB&quot;</td><td>&quot;JFK&quot;</td><td>&quot;BQN&quot;</td><td>2359</td><td>14</td><td>15</td><td>14</td><td>28</td><td>221</td><td>208</td><td>189</td><td>1576</td><td>437</td><td>5</td><td>440</td><td>442</td><td>2</td><td>0</td><td>0</td><td>null</td><td>null</td><td>null</td><td>null</td><td>null</td><td>null</td><td>&quot;queens&quot;</td><td>&quot;NY&quot;</td><td>2015-12-31</td></tr></tbody></table></div>"
            ]
          },
          "metadata": {},
          "execution_count": 7
        }
      ],
      "source": [
        "flights_df = flights_df.with_columns(\n",
        "    pl.col(\"COUNTY_NAME\").str.to_lowercase().alias(\"COUNTY_NAME\")\n",
        ")\n",
        "\n",
        "result_df = flights_df.join(\n",
        "    weather_df,\n",
        "    left_on=[\"COUNTY_NAME\", \"date\", \"STATE_CODE\"],\n",
        "    right_on=[\"county_name\", \"date\", \"st_abb\"],\n",
        "    how=\"left\"\n",
        ")\n",
        "\n",
        "flights_df"
      ]
    },
    {
      "cell_type": "code",
      "execution_count": 8,
      "metadata": {
        "colab": {
          "base_uri": "https://localhost:8080/",
          "height": 73
        },
        "id": "zjKflTKtDSwy",
        "outputId": "563c7cc3-009a-49f7-d7e0-d49d7416be2a"
      },
      "outputs": [
        {
          "output_type": "execute_result",
          "data": {
            "text/plain": [
              "'\\nresult_df2 = flights_df.join(\\n    weather_df,\\n    left_on=[\"COUNTY_NAME\", \"date\"],\\n    right_on=[\"county_name\", \"date\"],\\n    how=\"inner\"\\n)\\n\\nresult_df2\\n'"
            ],
            "application/vnd.google.colaboratory.intrinsic+json": {
              "type": "string"
            }
          },
          "metadata": {},
          "execution_count": 8
        }
      ],
      "source": [
        "'''\n",
        "result_df2 = flights_df.join(\n",
        "    weather_df,\n",
        "    left_on=[\"COUNTY_NAME\", \"date\"],\n",
        "    right_on=[\"county_name\", \"date\"],\n",
        "    how=\"inner\"\n",
        ")\n",
        "\n",
        "result_df2\n",
        "'''"
      ]
    },
    {
      "cell_type": "code",
      "execution_count": 9,
      "metadata": {
        "colab": {
          "base_uri": "https://localhost:8080/"
        },
        "id": "ab_3oFYPDSwz",
        "outputId": "2345c7eb-47ba-45af-adf2-d6ebe16ac42e"
      },
      "outputs": [
        {
          "output_type": "execute_result",
          "data": {
            "text/plain": [
              "30"
            ]
          },
          "metadata": {},
          "execution_count": 9
        }
      ],
      "source": [
        "result_important_df = result_df.filter(pl.col('tavg').is_not_null())\n",
        "result_important_df = result_important_df.with_columns(\n",
        "    (pl.col('DEPARTURE_DELAY') + pl.col('ARRIVAL_DELAY')).alias('TOTAL_DELAY')\n",
        ")\n",
        "result_important_df\n",
        "gc.collect()"
      ]
    },
    {
      "cell_type": "code",
      "source": [
        "del flights_df"
      ],
      "metadata": {
        "id": "gsUo38NOHzNU"
      },
      "execution_count": 10,
      "outputs": []
    },
    {
      "cell_type": "code",
      "source": [
        "del result_df"
      ],
      "metadata": {
        "id": "rhvTBp2CH5sL"
      },
      "execution_count": 11,
      "outputs": []
    },
    {
      "cell_type": "markdown",
      "source": [
        "RUN TO HERE ELSE COLAB CRASHES!"
      ],
      "metadata": {
        "id": "8hFoYF3HK5WW"
      }
    },
    {
      "cell_type": "markdown",
      "metadata": {
        "id": "ZO72CTYODSwz"
      },
      "source": [
        "We will now split in to test and train sets and proceed with EDA on the train set"
      ]
    },
    {
      "cell_type": "code",
      "execution_count": 12,
      "metadata": {
        "colab": {
          "base_uri": "https://localhost:8080/",
          "height": 362
        },
        "id": "i57ZHRbADSwz",
        "outputId": "35e09b0a-80de-4f15-d00f-c81e7b05bf9d"
      },
      "outputs": [
        {
          "output_type": "error",
          "ename": "KeyboardInterrupt",
          "evalue": "",
          "traceback": [
            "\u001b[0;31m---------------------------------------------------------------------------\u001b[0m",
            "\u001b[0;31mKeyboardInterrupt\u001b[0m                         Traceback (most recent call last)",
            "\u001b[0;32m<ipython-input-12-bd68e4bebef8>\u001b[0m in \u001b[0;36m<cell line: 5>\u001b[0;34m()\u001b[0m\n\u001b[1;32m      3\u001b[0m \u001b[0mtarget\u001b[0m \u001b[0;34m=\u001b[0m \u001b[0;34m[\u001b[0m\u001b[0;34m'DEPARTURE_DELAY'\u001b[0m\u001b[0;34m]\u001b[0m\u001b[0;34m\u001b[0m\u001b[0;34m\u001b[0m\u001b[0m\n\u001b[1;32m      4\u001b[0m \u001b[0;34m\u001b[0m\u001b[0m\n\u001b[0;32m----> 5\u001b[0;31m \u001b[0mX_train\u001b[0m\u001b[0;34m,\u001b[0m \u001b[0mX_test\u001b[0m \u001b[0;34m=\u001b[0m \u001b[0mtrain_test_split\u001b[0m\u001b[0;34m(\u001b[0m\u001b[0mresult_important_df\u001b[0m\u001b[0;34m,\u001b[0m \u001b[0mtest_size\u001b[0m\u001b[0;34m=\u001b[0m\u001b[0;36m0.2\u001b[0m\u001b[0;34m,\u001b[0m \u001b[0mrandom_state\u001b[0m\u001b[0;34m=\u001b[0m\u001b[0;36m0\u001b[0m\u001b[0;34m)\u001b[0m\u001b[0;34m\u001b[0m\u001b[0;34m\u001b[0m\u001b[0m\n\u001b[0m\u001b[1;32m      6\u001b[0m \u001b[0mprint\u001b[0m\u001b[0;34m(\u001b[0m\u001b[0mX_train\u001b[0m\u001b[0;34m.\u001b[0m\u001b[0mshape\u001b[0m\u001b[0;34m)\u001b[0m\u001b[0;34m\u001b[0m\u001b[0;34m\u001b[0m\u001b[0m\n\u001b[1;32m      7\u001b[0m \u001b[0mprint\u001b[0m\u001b[0;34m(\u001b[0m\u001b[0mX_test\u001b[0m\u001b[0;34m.\u001b[0m\u001b[0mshape\u001b[0m\u001b[0;34m)\u001b[0m\u001b[0;34m\u001b[0m\u001b[0;34m\u001b[0m\u001b[0m\n",
            "\u001b[0;32m/usr/local/lib/python3.10/dist-packages/sklearn/utils/_param_validation.py\u001b[0m in \u001b[0;36mwrapper\u001b[0;34m(*args, **kwargs)\u001b[0m\n\u001b[1;32m    211\u001b[0m                     )\n\u001b[1;32m    212\u001b[0m                 ):\n\u001b[0;32m--> 213\u001b[0;31m                     \u001b[0;32mreturn\u001b[0m \u001b[0mfunc\u001b[0m\u001b[0;34m(\u001b[0m\u001b[0;34m*\u001b[0m\u001b[0margs\u001b[0m\u001b[0;34m,\u001b[0m \u001b[0;34m**\u001b[0m\u001b[0mkwargs\u001b[0m\u001b[0;34m)\u001b[0m\u001b[0;34m\u001b[0m\u001b[0;34m\u001b[0m\u001b[0m\n\u001b[0m\u001b[1;32m    214\u001b[0m             \u001b[0;32mexcept\u001b[0m \u001b[0mInvalidParameterError\u001b[0m \u001b[0;32mas\u001b[0m \u001b[0me\u001b[0m\u001b[0;34m:\u001b[0m\u001b[0;34m\u001b[0m\u001b[0;34m\u001b[0m\u001b[0m\n\u001b[1;32m    215\u001b[0m                 \u001b[0;31m# When the function is just a wrapper around an estimator, we allow\u001b[0m\u001b[0;34m\u001b[0m\u001b[0;34m\u001b[0m\u001b[0m\n",
            "\u001b[0;32m/usr/local/lib/python3.10/dist-packages/sklearn/model_selection/_split.py\u001b[0m in \u001b[0;36mtrain_test_split\u001b[0;34m(test_size, train_size, random_state, shuffle, stratify, *arrays)\u001b[0m\n\u001b[1;32m   2808\u001b[0m     \u001b[0mtrain\u001b[0m\u001b[0;34m,\u001b[0m \u001b[0mtest\u001b[0m \u001b[0;34m=\u001b[0m \u001b[0mensure_common_namespace_device\u001b[0m\u001b[0;34m(\u001b[0m\u001b[0marrays\u001b[0m\u001b[0;34m[\u001b[0m\u001b[0;36m0\u001b[0m\u001b[0;34m]\u001b[0m\u001b[0;34m,\u001b[0m \u001b[0mtrain\u001b[0m\u001b[0;34m,\u001b[0m \u001b[0mtest\u001b[0m\u001b[0;34m)\u001b[0m\u001b[0;34m\u001b[0m\u001b[0;34m\u001b[0m\u001b[0m\n\u001b[1;32m   2809\u001b[0m \u001b[0;34m\u001b[0m\u001b[0m\n\u001b[0;32m-> 2810\u001b[0;31m     return list(\n\u001b[0m\u001b[1;32m   2811\u001b[0m         chain.from_iterable(\n\u001b[1;32m   2812\u001b[0m             \u001b[0;34m(\u001b[0m\u001b[0m_safe_indexing\u001b[0m\u001b[0;34m(\u001b[0m\u001b[0ma\u001b[0m\u001b[0;34m,\u001b[0m \u001b[0mtrain\u001b[0m\u001b[0;34m)\u001b[0m\u001b[0;34m,\u001b[0m \u001b[0m_safe_indexing\u001b[0m\u001b[0;34m(\u001b[0m\u001b[0ma\u001b[0m\u001b[0;34m,\u001b[0m \u001b[0mtest\u001b[0m\u001b[0;34m)\u001b[0m\u001b[0;34m)\u001b[0m \u001b[0;32mfor\u001b[0m \u001b[0ma\u001b[0m \u001b[0;32min\u001b[0m \u001b[0marrays\u001b[0m\u001b[0;34m\u001b[0m\u001b[0;34m\u001b[0m\u001b[0m\n",
            "\u001b[0;32m/usr/local/lib/python3.10/dist-packages/sklearn/model_selection/_split.py\u001b[0m in \u001b[0;36m<genexpr>\u001b[0;34m(.0)\u001b[0m\n\u001b[1;32m   2810\u001b[0m     return list(\n\u001b[1;32m   2811\u001b[0m         chain.from_iterable(\n\u001b[0;32m-> 2812\u001b[0;31m             \u001b[0;34m(\u001b[0m\u001b[0m_safe_indexing\u001b[0m\u001b[0;34m(\u001b[0m\u001b[0ma\u001b[0m\u001b[0;34m,\u001b[0m \u001b[0mtrain\u001b[0m\u001b[0;34m)\u001b[0m\u001b[0;34m,\u001b[0m \u001b[0m_safe_indexing\u001b[0m\u001b[0;34m(\u001b[0m\u001b[0ma\u001b[0m\u001b[0;34m,\u001b[0m \u001b[0mtest\u001b[0m\u001b[0;34m)\u001b[0m\u001b[0;34m)\u001b[0m \u001b[0;32mfor\u001b[0m \u001b[0ma\u001b[0m \u001b[0;32min\u001b[0m \u001b[0marrays\u001b[0m\u001b[0;34m\u001b[0m\u001b[0;34m\u001b[0m\u001b[0m\n\u001b[0m\u001b[1;32m   2813\u001b[0m         )\n\u001b[1;32m   2814\u001b[0m     )\n",
            "\u001b[0;32m/usr/local/lib/python3.10/dist-packages/sklearn/utils/_indexing.py\u001b[0m in \u001b[0;36m_safe_indexing\u001b[0;34m(X, indices, axis)\u001b[0m\n\u001b[1;32m    263\u001b[0m         \u001b[0;32mreturn\u001b[0m \u001b[0m_pandas_indexing\u001b[0m\u001b[0;34m(\u001b[0m\u001b[0mX\u001b[0m\u001b[0;34m,\u001b[0m \u001b[0mindices\u001b[0m\u001b[0;34m,\u001b[0m \u001b[0mindices_dtype\u001b[0m\u001b[0;34m,\u001b[0m \u001b[0maxis\u001b[0m\u001b[0;34m=\u001b[0m\u001b[0maxis\u001b[0m\u001b[0;34m)\u001b[0m\u001b[0;34m\u001b[0m\u001b[0;34m\u001b[0m\u001b[0m\n\u001b[1;32m    264\u001b[0m     \u001b[0;32melif\u001b[0m \u001b[0m_is_polars_df_or_series\u001b[0m\u001b[0;34m(\u001b[0m\u001b[0mX\u001b[0m\u001b[0;34m)\u001b[0m\u001b[0;34m:\u001b[0m\u001b[0;34m\u001b[0m\u001b[0;34m\u001b[0m\u001b[0m\n\u001b[0;32m--> 265\u001b[0;31m         \u001b[0;32mreturn\u001b[0m \u001b[0m_polars_indexing\u001b[0m\u001b[0;34m(\u001b[0m\u001b[0mX\u001b[0m\u001b[0;34m,\u001b[0m \u001b[0mindices\u001b[0m\u001b[0;34m,\u001b[0m \u001b[0mindices_dtype\u001b[0m\u001b[0;34m,\u001b[0m \u001b[0maxis\u001b[0m\u001b[0;34m=\u001b[0m\u001b[0maxis\u001b[0m\u001b[0;34m)\u001b[0m\u001b[0;34m\u001b[0m\u001b[0;34m\u001b[0m\u001b[0m\n\u001b[0m\u001b[1;32m    266\u001b[0m     \u001b[0;32melif\u001b[0m \u001b[0mhasattr\u001b[0m\u001b[0;34m(\u001b[0m\u001b[0mX\u001b[0m\u001b[0;34m,\u001b[0m \u001b[0;34m\"shape\"\u001b[0m\u001b[0;34m)\u001b[0m\u001b[0;34m:\u001b[0m\u001b[0;34m\u001b[0m\u001b[0;34m\u001b[0m\u001b[0m\n\u001b[1;32m    267\u001b[0m         \u001b[0;32mreturn\u001b[0m \u001b[0m_array_indexing\u001b[0m\u001b[0;34m(\u001b[0m\u001b[0mX\u001b[0m\u001b[0;34m,\u001b[0m \u001b[0mindices\u001b[0m\u001b[0;34m,\u001b[0m \u001b[0mindices_dtype\u001b[0m\u001b[0;34m,\u001b[0m \u001b[0maxis\u001b[0m\u001b[0;34m=\u001b[0m\u001b[0maxis\u001b[0m\u001b[0;34m)\u001b[0m\u001b[0;34m\u001b[0m\u001b[0;34m\u001b[0m\u001b[0m\n",
            "\u001b[0;32m/usr/local/lib/python3.10/dist-packages/sklearn/utils/_indexing.py\u001b[0m in \u001b[0;36m_polars_indexing\u001b[0;34m(X, key, key_dtype, axis)\u001b[0m\n\u001b[1;32m     81\u001b[0m     \u001b[0;31m# Integer scalar and list of integer can be indexed in the same way for Series and\u001b[0m\u001b[0;34m\u001b[0m\u001b[0;34m\u001b[0m\u001b[0m\n\u001b[1;32m     82\u001b[0m     \u001b[0;31m# DataFrame (axis=0)\u001b[0m\u001b[0;34m\u001b[0m\u001b[0;34m\u001b[0m\u001b[0m\n\u001b[0;32m---> 83\u001b[0;31m     \u001b[0mX_indexed\u001b[0m \u001b[0;34m=\u001b[0m \u001b[0mX\u001b[0m\u001b[0;34m[\u001b[0m\u001b[0mkey\u001b[0m\u001b[0;34m]\u001b[0m\u001b[0;34m\u001b[0m\u001b[0;34m\u001b[0m\u001b[0m\n\u001b[0m\u001b[1;32m     84\u001b[0m     \u001b[0;32mif\u001b[0m \u001b[0mnp\u001b[0m\u001b[0;34m.\u001b[0m\u001b[0misscalar\u001b[0m\u001b[0;34m(\u001b[0m\u001b[0mkey\u001b[0m\u001b[0;34m)\u001b[0m \u001b[0;32mand\u001b[0m \u001b[0mlen\u001b[0m\u001b[0;34m(\u001b[0m\u001b[0mX\u001b[0m\u001b[0;34m.\u001b[0m\u001b[0mshape\u001b[0m\u001b[0;34m)\u001b[0m \u001b[0;34m==\u001b[0m \u001b[0;36m2\u001b[0m\u001b[0;34m:\u001b[0m\u001b[0;34m\u001b[0m\u001b[0;34m\u001b[0m\u001b[0m\n\u001b[1;32m     85\u001b[0m         \u001b[0;31m# `X_indexed` is a DataFrame with a single row; we return a Series to be\u001b[0m\u001b[0;34m\u001b[0m\u001b[0;34m\u001b[0m\u001b[0m\n",
            "\u001b[0;32m/usr/local/lib/python3.10/dist-packages/polars/dataframe/frame.py\u001b[0m in \u001b[0;36m__getitem__\u001b[0;34m(self, key)\u001b[0m\n\u001b[1;32m   1348\u001b[0m         \u001b[0;31m└\u001b[0m\u001b[0;31m─\u001b[0m\u001b[0;31m─\u001b[0m\u001b[0;31m─\u001b[0m\u001b[0;31m─\u001b[0m\u001b[0;31m─\u001b[0m\u001b[0;31m┴\u001b[0m\u001b[0;31m─\u001b[0m\u001b[0;31m─\u001b[0m\u001b[0;31m─\u001b[0m\u001b[0;31m─\u001b[0m\u001b[0;31m─\u001b[0m\u001b[0;31m┴\u001b[0m\u001b[0;31m─\u001b[0m\u001b[0;31m─\u001b[0m\u001b[0;31m─\u001b[0m\u001b[0;31m─\u001b[0m\u001b[0;31m─\u001b[0m\u001b[0;31m┘\u001b[0m\u001b[0;34m\u001b[0m\u001b[0;34m\u001b[0m\u001b[0m\n\u001b[1;32m   1349\u001b[0m         \"\"\"\n\u001b[0;32m-> 1350\u001b[0;31m         \u001b[0;32mreturn\u001b[0m \u001b[0mget_df_item_by_key\u001b[0m\u001b[0;34m(\u001b[0m\u001b[0mself\u001b[0m\u001b[0;34m,\u001b[0m \u001b[0mkey\u001b[0m\u001b[0;34m)\u001b[0m\u001b[0;34m\u001b[0m\u001b[0;34m\u001b[0m\u001b[0m\n\u001b[0m\u001b[1;32m   1351\u001b[0m \u001b[0;34m\u001b[0m\u001b[0m\n\u001b[1;32m   1352\u001b[0m     def __setitem__(\n",
            "\u001b[0;32m/usr/local/lib/python3.10/dist-packages/polars/_utils/getitem.py\u001b[0m in \u001b[0;36mget_df_item_by_key\u001b[0;34m(df, key)\u001b[0m\n\u001b[1;32m    165\u001b[0m     \u001b[0;31m# Single input - df[1] - or multiple inputs - df[\"a\", \"b\", \"c\"]\u001b[0m\u001b[0;34m\u001b[0m\u001b[0;34m\u001b[0m\u001b[0m\n\u001b[1;32m    166\u001b[0m     \u001b[0;32mtry\u001b[0m\u001b[0;34m:\u001b[0m\u001b[0;34m\u001b[0m\u001b[0;34m\u001b[0m\u001b[0m\n\u001b[0;32m--> 167\u001b[0;31m         \u001b[0;32mreturn\u001b[0m \u001b[0m_select_rows\u001b[0m\u001b[0;34m(\u001b[0m\u001b[0mdf\u001b[0m\u001b[0;34m,\u001b[0m \u001b[0mkey\u001b[0m\u001b[0;34m)\u001b[0m  \u001b[0;31m# type: ignore[arg-type]\u001b[0m\u001b[0;34m\u001b[0m\u001b[0;34m\u001b[0m\u001b[0m\n\u001b[0m\u001b[1;32m    168\u001b[0m     \u001b[0;32mexcept\u001b[0m \u001b[0mTypeError\u001b[0m\u001b[0;34m:\u001b[0m\u001b[0;34m\u001b[0m\u001b[0;34m\u001b[0m\u001b[0m\n\u001b[1;32m    169\u001b[0m         \u001b[0;32mreturn\u001b[0m \u001b[0m_select_columns\u001b[0m\u001b[0;34m(\u001b[0m\u001b[0mdf\u001b[0m\u001b[0;34m,\u001b[0m \u001b[0mkey\u001b[0m\u001b[0;34m)\u001b[0m\u001b[0;34m\u001b[0m\u001b[0;34m\u001b[0m\u001b[0m\n",
            "\u001b[0;32m/usr/local/lib/python3.10/dist-packages/polars/_utils/getitem.py\u001b[0m in \u001b[0;36m_select_rows\u001b[0;34m(df, key)\u001b[0m\n\u001b[1;32m    306\u001b[0m         \u001b[0ms\u001b[0m \u001b[0;34m=\u001b[0m \u001b[0mpl\u001b[0m\u001b[0;34m.\u001b[0m\u001b[0mSeries\u001b[0m\u001b[0;34m(\u001b[0m\u001b[0;34m\"\"\u001b[0m\u001b[0;34m,\u001b[0m \u001b[0mkey\u001b[0m\u001b[0;34m,\u001b[0m \u001b[0mdtype\u001b[0m\u001b[0;34m=\u001b[0m\u001b[0mInt64\u001b[0m\u001b[0;34m)\u001b[0m\u001b[0;34m\u001b[0m\u001b[0;34m\u001b[0m\u001b[0m\n\u001b[1;32m    307\u001b[0m         \u001b[0mindices\u001b[0m \u001b[0;34m=\u001b[0m \u001b[0m_convert_series_to_indices\u001b[0m\u001b[0;34m(\u001b[0m\u001b[0ms\u001b[0m\u001b[0;34m,\u001b[0m \u001b[0mdf\u001b[0m\u001b[0;34m.\u001b[0m\u001b[0mheight\u001b[0m\u001b[0;34m)\u001b[0m\u001b[0;34m\u001b[0m\u001b[0;34m\u001b[0m\u001b[0m\n\u001b[0;32m--> 308\u001b[0;31m         \u001b[0;32mreturn\u001b[0m \u001b[0m_select_rows_by_index\u001b[0m\u001b[0;34m(\u001b[0m\u001b[0mdf\u001b[0m\u001b[0;34m,\u001b[0m \u001b[0mindices\u001b[0m\u001b[0;34m)\u001b[0m\u001b[0;34m\u001b[0m\u001b[0;34m\u001b[0m\u001b[0m\n\u001b[0m\u001b[1;32m    309\u001b[0m \u001b[0;34m\u001b[0m\u001b[0m\n\u001b[1;32m    310\u001b[0m     \u001b[0;32melif\u001b[0m \u001b[0misinstance\u001b[0m\u001b[0;34m(\u001b[0m\u001b[0mkey\u001b[0m\u001b[0;34m,\u001b[0m \u001b[0mpl\u001b[0m\u001b[0;34m.\u001b[0m\u001b[0mSeries\u001b[0m\u001b[0;34m)\u001b[0m\u001b[0;34m:\u001b[0m\u001b[0;34m\u001b[0m\u001b[0;34m\u001b[0m\u001b[0m\n",
            "\u001b[0;32m/usr/local/lib/python3.10/dist-packages/polars/_utils/getitem.py\u001b[0m in \u001b[0;36m_select_rows_by_index\u001b[0;34m(df, key)\u001b[0m\n\u001b[1;32m    326\u001b[0m \u001b[0;34m\u001b[0m\u001b[0m\n\u001b[1;32m    327\u001b[0m \u001b[0;32mdef\u001b[0m \u001b[0m_select_rows_by_index\u001b[0m\u001b[0;34m(\u001b[0m\u001b[0mdf\u001b[0m\u001b[0;34m:\u001b[0m \u001b[0mDataFrame\u001b[0m\u001b[0;34m,\u001b[0m \u001b[0mkey\u001b[0m\u001b[0;34m:\u001b[0m \u001b[0mSeries\u001b[0m\u001b[0;34m)\u001b[0m \u001b[0;34m->\u001b[0m \u001b[0mDataFrame\u001b[0m\u001b[0;34m:\u001b[0m\u001b[0;34m\u001b[0m\u001b[0;34m\u001b[0m\u001b[0m\n\u001b[0;32m--> 328\u001b[0;31m     \u001b[0;32mreturn\u001b[0m \u001b[0mdf\u001b[0m\u001b[0;34m.\u001b[0m\u001b[0m_from_pydf\u001b[0m\u001b[0;34m(\u001b[0m\u001b[0mdf\u001b[0m\u001b[0;34m.\u001b[0m\u001b[0m_df\u001b[0m\u001b[0;34m.\u001b[0m\u001b[0mgather_with_series\u001b[0m\u001b[0;34m(\u001b[0m\u001b[0mkey\u001b[0m\u001b[0;34m.\u001b[0m\u001b[0m_s\u001b[0m\u001b[0;34m)\u001b[0m\u001b[0;34m)\u001b[0m\u001b[0;34m\u001b[0m\u001b[0;34m\u001b[0m\u001b[0m\n\u001b[0m\u001b[1;32m    329\u001b[0m \u001b[0;34m\u001b[0m\u001b[0m\n\u001b[1;32m    330\u001b[0m \u001b[0;34m\u001b[0m\u001b[0m\n",
            "\u001b[0;31mKeyboardInterrupt\u001b[0m: "
          ]
        }
      ],
      "source": [
        "from sklearn.model_selection import train_test_split\n",
        "\n",
        "target = ['DEPARTURE_DELAY']\n",
        "\n",
        "X_train, X_test = train_test_split(result_important_df, test_size=0.2, random_state=0)\n",
        "print(X_train.shape)\n",
        "print(X_test.shape)\n",
        "gc.collect()"
      ]
    },
    {
      "cell_type": "markdown",
      "metadata": {
        "id": "vVPBBenGDSwz"
      },
      "source": [
        "Let us now get some understanding of what our data looks like"
      ]
    },
    {
      "cell_type": "code",
      "execution_count": null,
      "metadata": {
        "id": "HO8BGzX0DSwz"
      },
      "outputs": [],
      "source": [
        "basic_stats = X_train.describe()\n",
        "info = X_train.schema\n",
        "columns_of_interest = ['SCHEDULED_DEPARTURE', 'DEPARTURE_TIME', 'DEPARTURE_DELAY', 'TAXI_OUT', 'WHEELS_OFF', 'ELAPSED_TIME', 'AIR_TIME', 'WHEELS_ON', 'DISTANCE', 'ARRIVAL_DELAY', 'DIVERTED', 'CANCELLED', 'tmin', 'tmax', 'tavg', 'ppt', 'dday_a5C', 'dday_b15C']\n",
        "X_train_numerical = X_train.select(columns_of_interest)\n",
        "df = X_train_numerical.to_pandas()\n",
        "corr_matrix = df.corr()\n",
        "corr_matrix"
      ]
    },
    {
      "cell_type": "code",
      "execution_count": null,
      "metadata": {
        "id": "gJjpVDH5DSw0"
      },
      "outputs": [],
      "source": [
        "'''\n",
        "VISUAL 1: Naturally as we are interested in DEPARTURE and ARRIVAL delay when choosing features, we should choose features that seem to be highly correlated with these delays\n",
        "We will use 2 metrics that I think do a good job of measuring correlation, 1 is the standard pearson correlation, then to compare categorical values we will use the CramerV correlation metric\n",
        "'''\n",
        "plt.figure(figsize=(12, 10))\n",
        "\n",
        "sns.heatmap(\n",
        "    corr_matrix,\n",
        "    annot=True,\n",
        "    fmt=\".2f\",\n",
        "    cmap='coolwarm',\n",
        "    square=True,\n",
        "    linewidths=.5,\n",
        "    cbar_kws={\"shrink\": .5}\n",
        ")\n",
        "\n",
        "plt.title('Correlation Matrix Heatmap', fontsize=16)\n",
        "plt.xticks(rotation=45, ha='right')\n",
        "plt.yticks(rotation=0)\n",
        "plt.tight_layout()\n",
        "plt.show()\n"
      ]
    },
    {
      "cell_type": "markdown",
      "metadata": {
        "id": "hN63bTFHDSw0"
      },
      "source": [
        "As we can see there are very weak correlations, but what if we filter for precipitation > 1?"
      ]
    },
    {
      "cell_type": "code",
      "execution_count": null,
      "metadata": {
        "id": "r_CD7mcrDSw0"
      },
      "outputs": [],
      "source": [
        "df_ppt_filtered = df[df['ppt'] > 5]\n",
        "corr_matrix = df_ppt_filtered.corr()\n",
        "plt.figure(figsize=(12, 10))\n",
        "\n",
        "sns.heatmap(\n",
        "    corr_matrix,\n",
        "    annot=True,\n",
        "    fmt=\".2f\",\n",
        "    cmap='coolwarm',\n",
        "    square=True,\n",
        "    linewidths=.5,\n",
        "    cbar_kws={\"shrink\": .5}\n",
        ")\n",
        "\n",
        "plt.title('Correlation Matrix Heatmap', fontsize=16)\n",
        "plt.xticks(rotation=45, ha='right')\n",
        "plt.yticks(rotation=0)\n",
        "plt.tight_layout()\n",
        "plt.show()\n",
        "print(df_ppt_filtered.shape)"
      ]
    },
    {
      "cell_type": "code",
      "execution_count": null,
      "metadata": {
        "id": "AFqoe0_4DSw0"
      },
      "outputs": [],
      "source": [
        "origin_counts = X_train.group_by(\"ORIGIN_AIRPORT\").count()\n",
        "origin_counts_pd = origin_counts.to_pandas()\n",
        "origin_counts_pd = origin_counts_pd.sort_values(by=\"count\", ascending=False)\n",
        "top_30 = origin_counts_pd.head(30)\n",
        "\n",
        "# Plot the bar chart\n",
        "plt.figure(figsize=(12, 6))\n",
        "plt.bar(top_30[\"ORIGIN_AIRPORT\"], top_30[\"count\"], color=\"skyblue\")\n",
        "plt.xlabel(\"Origin Airport\", fontsize=14)\n",
        "plt.ylabel(\"Flight Count\", fontsize=14)\n",
        "plt.title(\"Flight Count by Origin Airport\", fontsize=16)\n",
        "plt.xticks(rotation=45, fontsize=12)\n",
        "plt.grid(axis=\"y\", linestyle=\"--\", alpha=0.7)\n",
        "plt.tight_layout()\n",
        "plt.show()"
      ]
    },
    {
      "cell_type": "code",
      "execution_count": null,
      "metadata": {
        "id": "GQIOWek3DSw0"
      },
      "outputs": [],
      "source": [
        "airline_counts = X_train.group_by(\"AIRLINE\").count()\n",
        "airline_counts = airline_counts.to_pandas()\n",
        "airline_counts = airline_counts.sort_values(by=\"count\", ascending=False)\n",
        "\n",
        "plt.figure(figsize=(12, 6))\n",
        "plt.bar(airline_counts[\"AIRLINE\"], airline_counts[\"count\"], color=\"skyblue\")\n",
        "plt.xlabel(\"Airlines Represented\", fontsize=14)\n",
        "plt.ylabel(\"Flight Count\", fontsize=14)\n",
        "plt.title(\"Airline Count\", fontsize=16)\n",
        "plt.xticks(rotation=45, fontsize=12)\n",
        "plt.grid(axis=\"y\", linestyle=\"--\", alpha=0.7)\n",
        "plt.tight_layout()\n",
        "plt.show()"
      ]
    },
    {
      "cell_type": "markdown",
      "metadata": {
        "id": "WpRFpns0DSw1"
      },
      "source": [
        "Now for some feature importance! We have a few modeling ideas\n",
        "\n",
        "1) Given delay, weather, location, and other features in the dataframe, can we accurately predict which airline caused the delay\n",
        "\n",
        "2) Conversely given an airline, weather, origin, destination, and other features, can we accurately predict the total delay (arrival + departure delay)"
      ]
    },
    {
      "cell_type": "code",
      "execution_count": null,
      "metadata": {
        "id": "DifHCEGDDSw1"
      },
      "outputs": [],
      "source": [
        "from sklearn.ensemble import RandomForestClassifier\n",
        "from sklearn.preprocessing import OneHotEncoder\n",
        "from sklearn.preprocessing import LabelEncoder\n",
        "\n",
        "target = ['TOTAL_DELAY']\n",
        "y_train = X_train.select(target)\n",
        "X_train_total_delay = X_train.drop(target)\n",
        "\n",
        "non_numeric_cols = [col for col in X_train_total_delay.columns if X_train_total_delay[col].dtype == pl.Utf8]\n",
        "encoded_non_numeric = X_train_total_delay\n",
        "for col in non_numeric_cols:\n",
        "    le = LabelEncoder()\n",
        "    encoded_non_numeric = encoded_non_numeric.with_columns(\n",
        "        pl.Series(name=col, values=le.fit_transform(encoded_non_numeric[col].to_list()))\n",
        "    )\n",
        "print(non_numeric_cols)\n",
        "X_train_total_delay = encoded_non_numeric\n",
        "X_train_total_delay = pl.concat([X_train_total_delay, y_train], how=\"horizontal\")\n",
        "X_train_total_delay_cleaned = X_train_total_delay.filter(\n",
        "    pl.col(\"TOTAL_DELAY\").is_not_null()\n",
        ")\n",
        "\n",
        "X_train_total_delay_cleaned = X_train_total_delay_cleaned.to_pandas()\n",
        "X_train_total_delay_cleaned = X_train_total_delay_cleaned.dropna()\n",
        "X_train_total_delay_cleaned = pl.DataFrame(X_train_total_delay_cleaned)\n",
        "X_train_total_delay_cleaned = X_train_total_delay_cleaned.drop(['DEPARTURE_DELAY', 'ARRIVAL_DELAY'])\n",
        "X_train_total_delay_cleaned"
      ]
    },
    {
      "cell_type": "code",
      "execution_count": null,
      "metadata": {
        "id": "T7oy7si_DSw1"
      },
      "outputs": [],
      "source": [
        "target = ['TOTAL_DELAY']\n",
        "y_train = X_train_total_delay_cleaned.select(target)\n",
        "X_train_total_delay = X_train_total_delay_cleaned.drop(target)\n",
        "X_train_total_delay = X_train_total_delay.with_columns(\n",
        "    [pl.col(column).cast(pl.Int32) for column in X_train_total_delay.columns if X_train_total_delay[column].dtype == pl.Int64]\n",
        ")\n",
        "X_train_total_delay = X_train_total_delay.with_columns(\n",
        "    [pl.col(column).cast(pl.Float32) for column in X_train_total_delay.columns if X_train_total_delay[column].dtype == pl.Float64]\n",
        ")\n"
      ]
    },
    {
      "cell_type": "code",
      "execution_count": null,
      "metadata": {
        "id": "Kq5Q-nWjDSw1"
      },
      "outputs": [],
      "source": [
        "from sklearn.linear_model import LinearRegression\n",
        "from sklearn.preprocessing import StandardScaler\n",
        "\n",
        "\n",
        "scaler = StandardScaler()\n",
        "X_standardized_np = scaler.fit_transform(X_train_total_delay.to_numpy())\n",
        "\n",
        "\n",
        "X_standardized = pl.DataFrame(\n",
        "    X_standardized_np,\n",
        "    schema=X_train_total_delay.columns\n",
        ")\n",
        "\n",
        "X_standardized = X_standardized.drop_nulls()\n",
        "X_standardized_pd = X_standardized.to_pandas()\n",
        "\n",
        "lr = LinearRegression()\n",
        "lr.fit(X_standardized_pd, y_train)\n",
        "\n",
        "coefficients = lr.coef_.ravel() if len(lr.coef_.shape) > 1 else lr.coef_\n",
        "\n",
        "feature_importances = pd.DataFrame({\n",
        "    \"Feature\": X_standardized.columns,\n",
        "    \"Importance\": np.abs(coefficients)\n",
        "}).sort_values(by=\"Importance\", ascending=False)\n",
        "\n",
        "plt.figure(figsize=(10, 6))\n",
        "plt.barh(feature_importances[\"Feature\"], feature_importances[\"Importance\"])\n",
        "plt.xlabel(\"Feature Importance\")\n",
        "plt.ylabel(\"Feature\")\n",
        "plt.title(\"Feature Importance using Linear Regression\")\n",
        "plt.gca().invert_yaxis()\n",
        "plt.show()"
      ]
    },
    {
      "cell_type": "markdown",
      "metadata": {
        "id": "6Q53VfwODSw1"
      },
      "source": [
        "Now it is time to move into some hypothesis testing\n",
        "\n",
        "We will be looking at the following hypotheses all tested with $\\alpha = 0.05$ for significance:\n",
        "\n",
        "1) When precipitation is greater than 1 is a flight more likely to be delayed?\n",
        "\n",
        "$H_0$: When precipitation is greater than 1 a flight has the same liklihood of being delayed\n",
        "\n",
        "2) Are flights in western, southwestern, and southeastern states less likely to be delayed than states in the midwest, new england, mid-atlantic, and northwest in winter months?\n",
        "\n",
        "$H_0$: western, southwestern, and southeastern states are delayed the same amount as flights in the midwest, new england, mid-atlantic, and the northwest in winter months.\n",
        "\n",
        "3) Some of us have had some bad experience with certain airlines (looking at you AA), is this the truth, are some airlines significantly more likely to have delays than others?\n",
        "\n",
        "$H_0$: all airlines experience the same average delay"
      ]
    },
    {
      "cell_type": "code",
      "execution_count": null,
      "metadata": {
        "id": "cEAHhEqCDSw2"
      },
      "outputs": [],
      "source": [
        "# Don't run the following two lines more than once very bad for RAM\n",
        "precip_df = result_important_df.filter(pl.col(\"ppt\") > 1)\n",
        "noprecip_df = result_important_df.filter(pl.col(\"ppt\") <= 1)"
      ]
    },
    {
      "cell_type": "code",
      "execution_count": null,
      "metadata": {
        "id": "VtMrl6NPDSw2"
      },
      "outputs": [],
      "source": [
        "'''\n",
        "HYPOTHESIS 1\n",
        "'''\n",
        "# TOTAL: 4,933,302 rows\n",
        "# (a) Are we are testing a population proportion - looking at the proportion of flights that are delayed (as binary)\n",
        "#     We are testing the difference of population proportions\n",
        "#     H_0: p_precip - p_noprecip = 0, H_1: p_precip - p_noprecip > 0\n",
        "# (b) Or are we testing like based on the actual number of minutes - the mean delay time - which would be inference on the mean\n",
        "\n",
        "# (a)\n",
        "# Create a new column \"IS_DELAYED\" that's 1 if delayed and 0 if on time\n",
        "precip_df = precip_df.with_columns(\n",
        "    (pl.col('DEPARTURE_DELAY') > 0).alias('IS_DELAYED').cast(pl.Int64)\n",
        ")\n",
        "noprecip_df = noprecip_df.with_columns(\n",
        "    (pl.col('DEPARTURE_DELAY') > 0).alias('IS_DELAYED').cast(pl.Int64)\n",
        ")\n",
        "delay_precip_proportion = precip_df.select(pl.sum('IS_DELAYED')) / len(precip_df)\n",
        "delay_noprecip_proportion = noprecip_df.select(pl.sum('IS_DELAYED')) / len(noprecip_df)\n",
        "\n",
        "# Calculate original test statistic (0.420968 - 0.354947 = 0.066021)\n",
        "delay_proportion_diff = delay_precip_proportion[0, 0] - delay_noprecip_proportion[0, 0]\n",
        "\n",
        "# Simulate the null world - same proportion of flights being delayed regardless of precipitation, 10,000,000 trials each\n",
        "simulated_delays_precip = np.random.binomial(len(precip_df), 0.5, 10_000_000) / len(precip_df)\n",
        "simulated_delays_noprecip = np.random.binomial(len(noprecip_df), 0.5, 10_000_000) / len(noprecip_df)\n",
        "simulated_precip_proportion = sum(simulated_delays_precip) / len(simulated_delays_precip)\n",
        "simulated_noprecip_proportion = sum(simulated_delays_noprecip) / len(simulated_delays_noprecip)\n",
        "# simulated values: (0.500 - 0.499 = -3.615e-08)\n",
        "simulated_proportion_diff = simulated_precip_proportion - simulated_noprecip_proportion\n",
        "\n",
        "# Calculate the p-value (p = 0)\n",
        "simulated_p_value = sum(x >= delay_proportion_diff for x in (simulated_delays_precip - simulated_delays_noprecip)) / len(simulated_delays_precip)"
      ]
    },
    {
      "cell_type": "markdown",
      "metadata": {
        "id": "zLgAn8WcDSw2"
      },
      "source": [
        "Since p = 0 < 0.05, we reject the null hypothesis the the proportion of delayed flights on days with precipitation > 1 is the same as when precipitation <= 1."
      ]
    },
    {
      "cell_type": "code",
      "execution_count": null,
      "metadata": {
        "id": "A7XcKgYjDSw2"
      },
      "outputs": [],
      "source": [
        "# Plot the distribution of simulated difference in proportions of delays for precipitation > 1 vs. <= 1\n",
        "_ = plt.hist(simulated_delays_precip - simulated_delays_noprecip, bins = 50)\n",
        "plt.title(\"Distribution of Simulated Differences in Proportions of Delays for Precipitation > 1 vs. <= 1\")\n",
        "plt.xlabel(\"Difference in Proportions\")\n",
        "plt.ylabel(\"Frequency\")\n",
        "round_dpd = round(delay_proportion_diff, 4)\n",
        "plt.axvline(round_dpd, color = \"red\", label = \"Observed Difference in Proportions: {}\".format(round_dpd))\n",
        "plt.legend()"
      ]
    },
    {
      "cell_type": "code",
      "execution_count": null,
      "metadata": {
        "id": "W68BxffwDSw3"
      },
      "outputs": [],
      "source": [
        "'''\n",
        "HYPOTHESIS 2:\n",
        "Are flights in western, southwestern, and southeastern states less likely to be delayed than states in the midwest, new england, mid-atlantic, and northwest in winter months?\n",
        "H_0: western, southwestern, and southeastern states are delayed the same amount as flights in the midwest, new england, and the northwest in winter months.\n",
        "H_0: p_north - p_south = 0, H_1: p_north - p_south > 0\n",
        "'''\n",
        "# Winter months: December - February (12, 1, 2), need to use state_to_region_dict to get region classifications\n",
        "# Convert state_to_region_dict to a dataframe for joining purposes\n",
        "state_to_region_df = pl.from_dict(state_to_region_dict)\n",
        "states = pl.Series(state_to_region_df.columns)\n",
        "state_to_region_df = state_to_region_df.transpose()\n",
        "state_to_region_df = state_to_region_df.insert_column(1, states)\n",
        "state_to_region_df.columns = ['region', 'STATE_CODE']\n",
        "# Join result_important_df with this to add a new column with the regions\n",
        "result_important_df = result_important_df.join(state_to_region_df, on = 'STATE_CODE', how = 'left')"
      ]
    },
    {
      "cell_type": "code",
      "execution_count": null,
      "metadata": {
        "id": "3hz5CUmgDSw3"
      },
      "outputs": [],
      "source": [
        "# Compute smaller dfs: south = western + southerwestern + southeast, north = midwest + new england + mid-atlantic + northwest\n",
        "# Then filter for winter months\n",
        "south_df = result_important_df.filter((pl.col(\"region\") == \"western\") | (pl.col(\"region\") == \"southwest\") | (pl.col(\"region\") == \"southeast\"))\n",
        "north_df = result_important_df.filter((pl.col(\"region\") == \"midwest\") | (pl.col(\"region\") == \"newengland\") |\n",
        " (pl.col(\"region\") == \"midatlantic\") | (pl.col(\"region\") == \"northwest\"))\n",
        "south_df = south_df.filter((pl.col(\"MONTH\") == 12) | (pl.col(\"MONTH\") == 1) | (pl.col(\"MONTH\") == 2))\n",
        "north_df = north_df.filter((pl.col(\"MONTH\") == 12) | (pl.col(\"MONTH\") == 1) | (pl.col(\"MONTH\") == 2))"
      ]
    },
    {
      "cell_type": "code",
      "execution_count": null,
      "metadata": {
        "id": "Z7EiOG25DSw3"
      },
      "outputs": [],
      "source": [
        "# Create a new column \"IS_DELAYED\" that's 1 if delayed and 0 if on time\n",
        "south_df = south_df.with_columns(\n",
        "    (pl.col('DEPARTURE_DELAY') > 0).alias('IS_DELAYED').cast(pl.Int64)\n",
        ")\n",
        "north_df = north_df.with_columns(\n",
        "    (pl.col('DEPARTURE_DELAY') > 0).alias('IS_DELAYED').cast(pl.Int64)\n",
        ")\n",
        "delay_south_proportion = south_df.select(pl.sum('IS_DELAYED')) / len(south_df)\n",
        "delay_north_proportion = north_df.select(pl.sum('IS_DELAYED')) / len(north_df)\n",
        "\n",
        "# Calculate original test statistic (0.399198 - 0.386936 = 0.012262)\n",
        "delay_proportion_diff1 = delay_north_proportion[0, 0] - delay_south_proportion[0, 0]\n",
        "\n",
        "# Simulate the null world - same proportion of flights being delayed regardless of north/south, 10,000,000 trials each\n",
        "simulated_delays_north = np.random.binomial(len(north_df), 0.5, 10_000_000) / len(north_df)\n",
        "simulated_delays_south = np.random.binomial(len(south_df), 0.5, 10_000_000) / len(south_df)\n",
        "simulated_north_proportion = sum(simulated_delays_north) / len(simulated_delays_north)\n",
        "simulated_south_proportion = sum(simulated_delays_south) / len(simulated_delays_south)\n",
        "# simulated values: (0.500 - 0.500 = 0)\n",
        "simulated_proportion_diff1 = simulated_north_proportion - simulated_south_proportion\n",
        "\n",
        "# Calculate the p-value (p = 0)\n",
        "simulated_p_value1 = sum(x >= delay_proportion_diff1 for x in (simulated_delays_north - simulated_delays_south)) / len(simulated_delays_north)"
      ]
    },
    {
      "cell_type": "markdown",
      "metadata": {
        "id": "Exapy1_WDSw3"
      },
      "source": [
        "Since p = 0 < 0.05, we reject the hypothesis that the proportion of delayed flights during winter is the same in northern and southern states"
      ]
    },
    {
      "cell_type": "code",
      "execution_count": null,
      "metadata": {
        "id": "oKaf3kC8DSw4"
      },
      "outputs": [],
      "source": [
        "# Plot the distribution of simulated difference in proportions of delays for north vs. south states\n",
        "_ = plt.hist(simulated_delays_north - simulated_delays_south, bins = 50)\n",
        "plt.title(\"Distribution of Simulated Differences in Proportions of Delays for Northern - Southern States\")\n",
        "plt.xlabel(\"Difference in Proportions\")\n",
        "plt.ylabel(\"Frequency\")\n",
        "round_dpd = round(delay_proportion_diff1, 4)\n",
        "plt.axvline(round_dpd, color = \"red\", label = \"Observed Difference in Proportions: {}\".format(round_dpd))\n",
        "plt.legend()"
      ]
    },
    {
      "cell_type": "code",
      "execution_count": null,
      "metadata": {
        "id": "-ioMmCcwDSw4"
      },
      "outputs": [],
      "source": [
        "'''\n",
        "HYPOTHESIS 3\n",
        "Are some airlines significantly more likely to have delays than others? (same format hypotheses for other airlines)\n",
        "$H_0$: all airlines experience the same average delay\n",
        "H_0: American Airlines has same average delay as overall airlines average delay (delay_AA - delay_avg = 0), H_1: delay_AA - delay_avg < 0\n",
        "\n",
        "In this data set American and Delta Airlines has lower than average delay, Southwest has higher than average delay.\n",
        "Though these are all not statistically significant.\n",
        "'''\n",
        "american = result_important_df.filter(pl.col('AIRLINE') == 'AA')\n",
        "southwest = result_important_df.filter(pl.col('AIRLINE') == 'WN')\n",
        "delta = result_important_df.filter(pl.col('AIRLINE') == 'DL')"
      ]
    },
    {
      "cell_type": "code",
      "execution_count": null,
      "metadata": {
        "id": "afgFrerHDSw5"
      },
      "outputs": [],
      "source": [
        "# Calculate test statistics - average delay for American Airlines\n",
        "aa_delay = american.select(pl.mean('DEPARTURE_DELAY'))[0, 0]\n",
        "\n",
        "# Calculate mean (9.9388) and stdev (37.4972) for delay across all airlines\n",
        "mean_delay = result_important_df.select(pl.mean('DEPARTURE_DELAY'))[0, 0]\n",
        "stdev_delay = result_important_df.select(pl.std('DEPARTURE_DELAY'))[0, 0]\n",
        "\n",
        "# Simulate the null world where American Airlines has same amount of delay, 10,000,000 trials\n",
        "# I don't know if we can assume a Normal distribution but ok\n",
        "simulated_delays = np.random.normal(mean_delay, stdev_delay, 10_000_000)\n",
        "simulated_aa_delay = sum(simulated_delays) / len(simulated_delays)\n",
        "\n",
        "# Calculate the p-value (p = 0.49077) this is > 0.05\n",
        "simulated_p_value_aa = sum(x <= aa_delay for x in simulated_delays) / len(simulated_delays)\n",
        "simulated_p_value_aa"
      ]
    },
    {
      "cell_type": "markdown",
      "metadata": {
        "id": "MVdn1HX5DSw5"
      },
      "source": [
        "Repeating the same for Southwest and Delta airlines, the other top airlines in this dataset"
      ]
    },
    {
      "cell_type": "code",
      "execution_count": null,
      "metadata": {
        "id": "AVBLX7hyDSw5"
      },
      "outputs": [],
      "source": [
        "# Southwest Airlines\n",
        "wn_delay = southwest.select(pl.mean('DEPARTURE_DELAY'))[0, 0]\n",
        "\n",
        "# Calculate the p-value (p = 0.51201) this is > 0.05\n",
        "simulated_p_value_wn = sum(x <= wn_delay for x in simulated_delays) / len(simulated_delays)\n",
        "simulated_p_value_wn"
      ]
    },
    {
      "cell_type": "code",
      "execution_count": null,
      "metadata": {
        "id": "ulKFxXzrDSw6"
      },
      "outputs": [],
      "source": [
        "# Delta Airlines\n",
        "dl_delay = delta.select(pl.mean('DEPARTURE_DELAY'))[0, 0]\n",
        "\n",
        "# Calculate the p-value (p = 0.4906998) this is > 0.05\n",
        "simulated_p_value_dl = sum(x <= dl_delay for x in simulated_delays) / len(simulated_delays)\n",
        "simulated_p_value_dl"
      ]
    },
    {
      "cell_type": "markdown",
      "metadata": {
        "id": "ykevHpXIDSw6"
      },
      "source": [
        "With p-values of 0.49055 > 0.05, 0.51201 > 0.05, and 0.47657 > 0.05 we fail to reject H_0 that average delay for American Airlines, Southwest Airlines, and Delta Airlines are each significantly lower than average delay for all airlines. These are separate hypothesis tests, just writing them all."
      ]
    },
    {
      "cell_type": "code",
      "execution_count": null,
      "metadata": {
        "id": "fs2jKULbDSw6"
      },
      "outputs": [],
      "source": [
        "# Plot the distribution of simulated delay times for American Airlines\n",
        "_ = plt.hist(simulated_delays, bins = 50)\n",
        "plt.title(\"Distribution of Simulated Delays for American Airlines\")\n",
        "plt.xlabel(\"Number of minutes delayed\")\n",
        "plt.ylabel(\"Frequency\")\n",
        "\n",
        "round_aa = round(aa_delay, 4)\n",
        "plt.axvline(round_aa, color = \"red\", label = \"Observed American Delay Amount: {}\".format(round_aa))\n",
        "\n",
        "round_wn = round(wn_delay, 4)\n",
        "plt.axvline(round_wn, color = \"green\", label = \"Observed Southwest Delay Amount: {}\".format(round_wn))\n",
        "\n",
        "round_dl = round(dl_delay, 4)\n",
        "plt.axvline(round_dl, color = \"blue\", label = \"Observed Delta Delay Amount: {}\".format(round_dl))\n",
        "\n",
        "plt.legend()"
      ]
    },
    {
      "cell_type": "markdown",
      "metadata": {
        "id": "7cmr1M_tDSw6"
      },
      "source": [
        "MODELING!"
      ]
    },
    {
      "cell_type": "markdown",
      "source": [
        "We want to predict whether or not a plane will be delayed, given information that can reasoably be attained a few hours before the flight. We first create a column IS_DELAYED for whether a flight has been delayed or not."
      ],
      "metadata": {
        "id": "m6bf0yCIL3Pw"
      }
    },
    {
      "cell_type": "code",
      "execution_count": 12,
      "metadata": {
        "colab": {
          "base_uri": "https://localhost:8080/"
        },
        "id": "syJbL3vnDSw7",
        "outputId": "94649e53-5c90-4648-bc31-08c2eafbac98"
      },
      "outputs": [
        {
          "output_type": "stream",
          "name": "stdout",
          "text": [
            "(1844064, 44)\n",
            "(3010652, 44)\n"
          ]
        }
      ],
      "source": [
        "target = \"DEPARTURE_DELAY\"\n",
        "print(result_important_df.filter(result_important_df[target] > 0).shape)\n",
        "print(result_important_df.filter(result_important_df[target] <= 0).shape)\n",
        "binary_results_df = result_important_df.with_columns(\n",
        "    pl.when(result_important_df[target] > 0)\n",
        "    .then(1)\n",
        "    .otherwise(0)\n",
        "    .alias(\"IS_DELAYED\")  # Replace the column with the modified values\n",
        ")\n",
        "binary_results_df = binary_results_df.sample(fraction = 0.3,seed =42)\n",
        "binary_results_df = binary_results_df.to_pandas()\n",
        "#del result_important_df"
      ]
    },
    {
      "cell_type": "code",
      "execution_count": 13,
      "metadata": {
        "colab": {
          "base_uri": "https://localhost:8080/",
          "height": 250
        },
        "id": "hsgVsLMuDSw7",
        "outputId": "d021658a-d3a1-4c74-f7a3-6ae0bae353bd"
      },
      "outputs": [
        {
          "output_type": "execute_result",
          "data": {
            "text/plain": [
              "   YEAR  MONTH  DAY  DAY_OF_WEEK AIRLINE  FLIGHT_NUMBER TAIL_NUMBER  \\\n",
              "0  2015      2   25            3      DL            758      N983DL   \n",
              "1  2015      2   23            1      MQ           3023      N856MQ   \n",
              "2  2015      4   19            7      NK            801      N588NK   \n",
              "3  2015      6    4            4      VX            797      N629VA   \n",
              "4  2015      3   21            6      EV           2535      N685AE   \n",
              "\n",
              "  ORIGIN_AIRPORT DESTINATION_AIRPORT  SCHEDULED_DEPARTURE  ...   fips  \\\n",
              "0            ATL                 PWM                 2046  ...  13121   \n",
              "1            CMH                 ORD                  825  ...  39049   \n",
              "2            MCO                 SJU                 1216  ...  12095   \n",
              "3            LAX                 SEA                 1835  ...   6037   \n",
              "4            CAE                 DFW                 1812  ...  45063   \n",
              "\n",
              "   stability    tmin    tmax    tavg    ppt  dday_a5C  dday_b15C  TOTAL_DELAY  \\\n",
              "0     stable  -1.137   2.655   0.759  2.088     0.000     14.241          NaN   \n",
              "1     stable -15.008  -0.709  -7.858  0.000     0.000     22.858        235.0   \n",
              "2     stable  22.170  31.353  26.761  0.001    21.762      0.001         -8.0   \n",
              "3     stable  13.026  22.682  17.854  0.007    12.854      0.387         62.0   \n",
              "4     stable   7.927  19.965  13.946  0.121     8.946      2.472        110.0   \n",
              "\n",
              "   IS_DELAYED  \n",
              "0           0  \n",
              "1           1  \n",
              "2           0  \n",
              "3           1  \n",
              "4           1  \n",
              "\n",
              "[5 rows x 45 columns]"
            ],
            "text/html": [
              "\n",
              "  <div id=\"df-601e8e2a-1992-4f8b-9146-c25365cf11bd\" class=\"colab-df-container\">\n",
              "    <div>\n",
              "<style scoped>\n",
              "    .dataframe tbody tr th:only-of-type {\n",
              "        vertical-align: middle;\n",
              "    }\n",
              "\n",
              "    .dataframe tbody tr th {\n",
              "        vertical-align: top;\n",
              "    }\n",
              "\n",
              "    .dataframe thead th {\n",
              "        text-align: right;\n",
              "    }\n",
              "</style>\n",
              "<table border=\"1\" class=\"dataframe\">\n",
              "  <thead>\n",
              "    <tr style=\"text-align: right;\">\n",
              "      <th></th>\n",
              "      <th>YEAR</th>\n",
              "      <th>MONTH</th>\n",
              "      <th>DAY</th>\n",
              "      <th>DAY_OF_WEEK</th>\n",
              "      <th>AIRLINE</th>\n",
              "      <th>FLIGHT_NUMBER</th>\n",
              "      <th>TAIL_NUMBER</th>\n",
              "      <th>ORIGIN_AIRPORT</th>\n",
              "      <th>DESTINATION_AIRPORT</th>\n",
              "      <th>SCHEDULED_DEPARTURE</th>\n",
              "      <th>...</th>\n",
              "      <th>fips</th>\n",
              "      <th>stability</th>\n",
              "      <th>tmin</th>\n",
              "      <th>tmax</th>\n",
              "      <th>tavg</th>\n",
              "      <th>ppt</th>\n",
              "      <th>dday_a5C</th>\n",
              "      <th>dday_b15C</th>\n",
              "      <th>TOTAL_DELAY</th>\n",
              "      <th>IS_DELAYED</th>\n",
              "    </tr>\n",
              "  </thead>\n",
              "  <tbody>\n",
              "    <tr>\n",
              "      <th>0</th>\n",
              "      <td>2015</td>\n",
              "      <td>2</td>\n",
              "      <td>25</td>\n",
              "      <td>3</td>\n",
              "      <td>DL</td>\n",
              "      <td>758</td>\n",
              "      <td>N983DL</td>\n",
              "      <td>ATL</td>\n",
              "      <td>PWM</td>\n",
              "      <td>2046</td>\n",
              "      <td>...</td>\n",
              "      <td>13121</td>\n",
              "      <td>stable</td>\n",
              "      <td>-1.137</td>\n",
              "      <td>2.655</td>\n",
              "      <td>0.759</td>\n",
              "      <td>2.088</td>\n",
              "      <td>0.000</td>\n",
              "      <td>14.241</td>\n",
              "      <td>NaN</td>\n",
              "      <td>0</td>\n",
              "    </tr>\n",
              "    <tr>\n",
              "      <th>1</th>\n",
              "      <td>2015</td>\n",
              "      <td>2</td>\n",
              "      <td>23</td>\n",
              "      <td>1</td>\n",
              "      <td>MQ</td>\n",
              "      <td>3023</td>\n",
              "      <td>N856MQ</td>\n",
              "      <td>CMH</td>\n",
              "      <td>ORD</td>\n",
              "      <td>825</td>\n",
              "      <td>...</td>\n",
              "      <td>39049</td>\n",
              "      <td>stable</td>\n",
              "      <td>-15.008</td>\n",
              "      <td>-0.709</td>\n",
              "      <td>-7.858</td>\n",
              "      <td>0.000</td>\n",
              "      <td>0.000</td>\n",
              "      <td>22.858</td>\n",
              "      <td>235.0</td>\n",
              "      <td>1</td>\n",
              "    </tr>\n",
              "    <tr>\n",
              "      <th>2</th>\n",
              "      <td>2015</td>\n",
              "      <td>4</td>\n",
              "      <td>19</td>\n",
              "      <td>7</td>\n",
              "      <td>NK</td>\n",
              "      <td>801</td>\n",
              "      <td>N588NK</td>\n",
              "      <td>MCO</td>\n",
              "      <td>SJU</td>\n",
              "      <td>1216</td>\n",
              "      <td>...</td>\n",
              "      <td>12095</td>\n",
              "      <td>stable</td>\n",
              "      <td>22.170</td>\n",
              "      <td>31.353</td>\n",
              "      <td>26.761</td>\n",
              "      <td>0.001</td>\n",
              "      <td>21.762</td>\n",
              "      <td>0.001</td>\n",
              "      <td>-8.0</td>\n",
              "      <td>0</td>\n",
              "    </tr>\n",
              "    <tr>\n",
              "      <th>3</th>\n",
              "      <td>2015</td>\n",
              "      <td>6</td>\n",
              "      <td>4</td>\n",
              "      <td>4</td>\n",
              "      <td>VX</td>\n",
              "      <td>797</td>\n",
              "      <td>N629VA</td>\n",
              "      <td>LAX</td>\n",
              "      <td>SEA</td>\n",
              "      <td>1835</td>\n",
              "      <td>...</td>\n",
              "      <td>6037</td>\n",
              "      <td>stable</td>\n",
              "      <td>13.026</td>\n",
              "      <td>22.682</td>\n",
              "      <td>17.854</td>\n",
              "      <td>0.007</td>\n",
              "      <td>12.854</td>\n",
              "      <td>0.387</td>\n",
              "      <td>62.0</td>\n",
              "      <td>1</td>\n",
              "    </tr>\n",
              "    <tr>\n",
              "      <th>4</th>\n",
              "      <td>2015</td>\n",
              "      <td>3</td>\n",
              "      <td>21</td>\n",
              "      <td>6</td>\n",
              "      <td>EV</td>\n",
              "      <td>2535</td>\n",
              "      <td>N685AE</td>\n",
              "      <td>CAE</td>\n",
              "      <td>DFW</td>\n",
              "      <td>1812</td>\n",
              "      <td>...</td>\n",
              "      <td>45063</td>\n",
              "      <td>stable</td>\n",
              "      <td>7.927</td>\n",
              "      <td>19.965</td>\n",
              "      <td>13.946</td>\n",
              "      <td>0.121</td>\n",
              "      <td>8.946</td>\n",
              "      <td>2.472</td>\n",
              "      <td>110.0</td>\n",
              "      <td>1</td>\n",
              "    </tr>\n",
              "  </tbody>\n",
              "</table>\n",
              "<p>5 rows × 45 columns</p>\n",
              "</div>\n",
              "    <div class=\"colab-df-buttons\">\n",
              "\n",
              "  <div class=\"colab-df-container\">\n",
              "    <button class=\"colab-df-convert\" onclick=\"convertToInteractive('df-601e8e2a-1992-4f8b-9146-c25365cf11bd')\"\n",
              "            title=\"Convert this dataframe to an interactive table.\"\n",
              "            style=\"display:none;\">\n",
              "\n",
              "  <svg xmlns=\"http://www.w3.org/2000/svg\" height=\"24px\" viewBox=\"0 -960 960 960\">\n",
              "    <path d=\"M120-120v-720h720v720H120Zm60-500h600v-160H180v160Zm220 220h160v-160H400v160Zm0 220h160v-160H400v160ZM180-400h160v-160H180v160Zm440 0h160v-160H620v160ZM180-180h160v-160H180v160Zm440 0h160v-160H620v160Z\"/>\n",
              "  </svg>\n",
              "    </button>\n",
              "\n",
              "  <style>\n",
              "    .colab-df-container {\n",
              "      display:flex;\n",
              "      gap: 12px;\n",
              "    }\n",
              "\n",
              "    .colab-df-convert {\n",
              "      background-color: #E8F0FE;\n",
              "      border: none;\n",
              "      border-radius: 50%;\n",
              "      cursor: pointer;\n",
              "      display: none;\n",
              "      fill: #1967D2;\n",
              "      height: 32px;\n",
              "      padding: 0 0 0 0;\n",
              "      width: 32px;\n",
              "    }\n",
              "\n",
              "    .colab-df-convert:hover {\n",
              "      background-color: #E2EBFA;\n",
              "      box-shadow: 0px 1px 2px rgba(60, 64, 67, 0.3), 0px 1px 3px 1px rgba(60, 64, 67, 0.15);\n",
              "      fill: #174EA6;\n",
              "    }\n",
              "\n",
              "    .colab-df-buttons div {\n",
              "      margin-bottom: 4px;\n",
              "    }\n",
              "\n",
              "    [theme=dark] .colab-df-convert {\n",
              "      background-color: #3B4455;\n",
              "      fill: #D2E3FC;\n",
              "    }\n",
              "\n",
              "    [theme=dark] .colab-df-convert:hover {\n",
              "      background-color: #434B5C;\n",
              "      box-shadow: 0px 1px 3px 1px rgba(0, 0, 0, 0.15);\n",
              "      filter: drop-shadow(0px 1px 2px rgba(0, 0, 0, 0.3));\n",
              "      fill: #FFFFFF;\n",
              "    }\n",
              "  </style>\n",
              "\n",
              "    <script>\n",
              "      const buttonEl =\n",
              "        document.querySelector('#df-601e8e2a-1992-4f8b-9146-c25365cf11bd button.colab-df-convert');\n",
              "      buttonEl.style.display =\n",
              "        google.colab.kernel.accessAllowed ? 'block' : 'none';\n",
              "\n",
              "      async function convertToInteractive(key) {\n",
              "        const element = document.querySelector('#df-601e8e2a-1992-4f8b-9146-c25365cf11bd');\n",
              "        const dataTable =\n",
              "          await google.colab.kernel.invokeFunction('convertToInteractive',\n",
              "                                                    [key], {});\n",
              "        if (!dataTable) return;\n",
              "\n",
              "        const docLinkHtml = 'Like what you see? Visit the ' +\n",
              "          '<a target=\"_blank\" href=https://colab.research.google.com/notebooks/data_table.ipynb>data table notebook</a>'\n",
              "          + ' to learn more about interactive tables.';\n",
              "        element.innerHTML = '';\n",
              "        dataTable['output_type'] = 'display_data';\n",
              "        await google.colab.output.renderOutput(dataTable, element);\n",
              "        const docLink = document.createElement('div');\n",
              "        docLink.innerHTML = docLinkHtml;\n",
              "        element.appendChild(docLink);\n",
              "      }\n",
              "    </script>\n",
              "  </div>\n",
              "\n",
              "\n",
              "<div id=\"df-fd984000-d5a8-4905-8b6c-2c2b94be3fe7\">\n",
              "  <button class=\"colab-df-quickchart\" onclick=\"quickchart('df-fd984000-d5a8-4905-8b6c-2c2b94be3fe7')\"\n",
              "            title=\"Suggest charts\"\n",
              "            style=\"display:none;\">\n",
              "\n",
              "<svg xmlns=\"http://www.w3.org/2000/svg\" height=\"24px\"viewBox=\"0 0 24 24\"\n",
              "     width=\"24px\">\n",
              "    <g>\n",
              "        <path d=\"M19 3H5c-1.1 0-2 .9-2 2v14c0 1.1.9 2 2 2h14c1.1 0 2-.9 2-2V5c0-1.1-.9-2-2-2zM9 17H7v-7h2v7zm4 0h-2V7h2v10zm4 0h-2v-4h2v4z\"/>\n",
              "    </g>\n",
              "</svg>\n",
              "  </button>\n",
              "\n",
              "<style>\n",
              "  .colab-df-quickchart {\n",
              "      --bg-color: #E8F0FE;\n",
              "      --fill-color: #1967D2;\n",
              "      --hover-bg-color: #E2EBFA;\n",
              "      --hover-fill-color: #174EA6;\n",
              "      --disabled-fill-color: #AAA;\n",
              "      --disabled-bg-color: #DDD;\n",
              "  }\n",
              "\n",
              "  [theme=dark] .colab-df-quickchart {\n",
              "      --bg-color: #3B4455;\n",
              "      --fill-color: #D2E3FC;\n",
              "      --hover-bg-color: #434B5C;\n",
              "      --hover-fill-color: #FFFFFF;\n",
              "      --disabled-bg-color: #3B4455;\n",
              "      --disabled-fill-color: #666;\n",
              "  }\n",
              "\n",
              "  .colab-df-quickchart {\n",
              "    background-color: var(--bg-color);\n",
              "    border: none;\n",
              "    border-radius: 50%;\n",
              "    cursor: pointer;\n",
              "    display: none;\n",
              "    fill: var(--fill-color);\n",
              "    height: 32px;\n",
              "    padding: 0;\n",
              "    width: 32px;\n",
              "  }\n",
              "\n",
              "  .colab-df-quickchart:hover {\n",
              "    background-color: var(--hover-bg-color);\n",
              "    box-shadow: 0 1px 2px rgba(60, 64, 67, 0.3), 0 1px 3px 1px rgba(60, 64, 67, 0.15);\n",
              "    fill: var(--button-hover-fill-color);\n",
              "  }\n",
              "\n",
              "  .colab-df-quickchart-complete:disabled,\n",
              "  .colab-df-quickchart-complete:disabled:hover {\n",
              "    background-color: var(--disabled-bg-color);\n",
              "    fill: var(--disabled-fill-color);\n",
              "    box-shadow: none;\n",
              "  }\n",
              "\n",
              "  .colab-df-spinner {\n",
              "    border: 2px solid var(--fill-color);\n",
              "    border-color: transparent;\n",
              "    border-bottom-color: var(--fill-color);\n",
              "    animation:\n",
              "      spin 1s steps(1) infinite;\n",
              "  }\n",
              "\n",
              "  @keyframes spin {\n",
              "    0% {\n",
              "      border-color: transparent;\n",
              "      border-bottom-color: var(--fill-color);\n",
              "      border-left-color: var(--fill-color);\n",
              "    }\n",
              "    20% {\n",
              "      border-color: transparent;\n",
              "      border-left-color: var(--fill-color);\n",
              "      border-top-color: var(--fill-color);\n",
              "    }\n",
              "    30% {\n",
              "      border-color: transparent;\n",
              "      border-left-color: var(--fill-color);\n",
              "      border-top-color: var(--fill-color);\n",
              "      border-right-color: var(--fill-color);\n",
              "    }\n",
              "    40% {\n",
              "      border-color: transparent;\n",
              "      border-right-color: var(--fill-color);\n",
              "      border-top-color: var(--fill-color);\n",
              "    }\n",
              "    60% {\n",
              "      border-color: transparent;\n",
              "      border-right-color: var(--fill-color);\n",
              "    }\n",
              "    80% {\n",
              "      border-color: transparent;\n",
              "      border-right-color: var(--fill-color);\n",
              "      border-bottom-color: var(--fill-color);\n",
              "    }\n",
              "    90% {\n",
              "      border-color: transparent;\n",
              "      border-bottom-color: var(--fill-color);\n",
              "    }\n",
              "  }\n",
              "</style>\n",
              "\n",
              "  <script>\n",
              "    async function quickchart(key) {\n",
              "      const quickchartButtonEl =\n",
              "        document.querySelector('#' + key + ' button');\n",
              "      quickchartButtonEl.disabled = true;  // To prevent multiple clicks.\n",
              "      quickchartButtonEl.classList.add('colab-df-spinner');\n",
              "      try {\n",
              "        const charts = await google.colab.kernel.invokeFunction(\n",
              "            'suggestCharts', [key], {});\n",
              "      } catch (error) {\n",
              "        console.error('Error during call to suggestCharts:', error);\n",
              "      }\n",
              "      quickchartButtonEl.classList.remove('colab-df-spinner');\n",
              "      quickchartButtonEl.classList.add('colab-df-quickchart-complete');\n",
              "    }\n",
              "    (() => {\n",
              "      let quickchartButtonEl =\n",
              "        document.querySelector('#df-fd984000-d5a8-4905-8b6c-2c2b94be3fe7 button');\n",
              "      quickchartButtonEl.style.display =\n",
              "        google.colab.kernel.accessAllowed ? 'block' : 'none';\n",
              "    })();\n",
              "  </script>\n",
              "</div>\n",
              "\n",
              "    </div>\n",
              "  </div>\n"
            ],
            "application/vnd.google.colaboratory.intrinsic+json": {
              "type": "dataframe",
              "variable_name": "binary_results_df"
            }
          },
          "metadata": {},
          "execution_count": 13
        }
      ],
      "source": [
        "binary_results_df.head()"
      ]
    },
    {
      "cell_type": "markdown",
      "source": [
        "Use Hot-One Binary Encoding to Encode the categorical variable Airline. We also pick out all of the numerical features that can be reasonably attained a few hours before a flight is scheduled to depart."
      ],
      "metadata": {
        "id": "1YxKvtxOUU5Z"
      }
    },
    {
      "cell_type": "code",
      "execution_count": 15,
      "metadata": {
        "id": "g3uSngrADSw7"
      },
      "outputs": [],
      "source": [
        "from sklearn.preprocessing import OneHotEncoder\n",
        "numeric_features = [\"SCHEDULED_DEPARTURE\", \"SCHEDULED_TIME\",\"YEAR\",\"MONTH\",\"DAY\",\"DAY_OF_WEEK\",\"DISTANCE\",\"tmin\",\"tmax\",\"tavg\",\"ppt\",\"dday_a5C\",\"dday_b15C\"]\n",
        "target = [\"IS_DELAYED\"]\n",
        "features_to_encode = [\"AIRLINE\"]\n",
        "one_hot_encoder = OneHotEncoder(sparse_output = False)\n",
        "encoded_binary_df = one_hot_encoder.fit_transform(binary_results_df[features_to_encode])\n",
        "encoded_binary_df = pd.DataFrame(encoded_binary_df, columns=one_hot_encoder.get_feature_names_out(features_to_encode))\n",
        "encoded_binary_df = pd.concat([encoded_binary_df, binary_results_df[numeric_features + target]], axis=1)"
      ]
    },
    {
      "cell_type": "code",
      "source": [
        "print(encoded_binary_df.shape)\n",
        "encoded_binary_df = encoded_binary_df.dropna()\n",
        "print(encoded_binary_df.shape)\n",
        "encoded_binary_df.head()"
      ],
      "metadata": {
        "colab": {
          "base_uri": "https://localhost:8080/",
          "height": 283
        },
        "collapsed": true,
        "id": "f5DnnOOTWT6D",
        "outputId": "bd43d523-7659-42dc-fc5b-c561f943eeb8"
      },
      "execution_count": 16,
      "outputs": [
        {
          "output_type": "stream",
          "name": "stdout",
          "text": [
            "(1479990, 28)\n",
            "(1479986, 28)\n"
          ]
        },
        {
          "output_type": "execute_result",
          "data": {
            "text/plain": [
              "   AIRLINE_AA  AIRLINE_AS  AIRLINE_B6  AIRLINE_DL  AIRLINE_EV  AIRLINE_F9  \\\n",
              "0         0.0         0.0         0.0         1.0         0.0         0.0   \n",
              "1         0.0         0.0         0.0         0.0         0.0         0.0   \n",
              "2         0.0         0.0         0.0         0.0         0.0         0.0   \n",
              "3         0.0         0.0         0.0         0.0         0.0         0.0   \n",
              "4         0.0         0.0         0.0         0.0         1.0         0.0   \n",
              "\n",
              "   AIRLINE_HA  AIRLINE_MQ  AIRLINE_NK  AIRLINE_OO  ...  DAY  DAY_OF_WEEK  \\\n",
              "0         0.0         0.0         0.0         0.0  ...   25            3   \n",
              "1         0.0         1.0         0.0         0.0  ...   23            1   \n",
              "2         0.0         0.0         1.0         0.0  ...   19            7   \n",
              "3         0.0         0.0         0.0         0.0  ...    4            4   \n",
              "4         0.0         0.0         0.0         0.0  ...   21            6   \n",
              "\n",
              "   DISTANCE    tmin    tmax    tavg    ppt  dday_a5C  dday_b15C  IS_DELAYED  \n",
              "0      1027  -1.137   2.655   0.759  2.088     0.000     14.241           0  \n",
              "1       296 -15.008  -0.709  -7.858  0.000     0.000     22.858           1  \n",
              "2      1189  22.170  31.353  26.761  0.001    21.762      0.001           0  \n",
              "3       954  13.026  22.682  17.854  0.007    12.854      0.387           1  \n",
              "4       922   7.927  19.965  13.946  0.121     8.946      2.472           1  \n",
              "\n",
              "[5 rows x 28 columns]"
            ],
            "text/html": [
              "\n",
              "  <div id=\"df-ca9fe542-a554-4e81-b169-f2f781a42fd7\" class=\"colab-df-container\">\n",
              "    <div>\n",
              "<style scoped>\n",
              "    .dataframe tbody tr th:only-of-type {\n",
              "        vertical-align: middle;\n",
              "    }\n",
              "\n",
              "    .dataframe tbody tr th {\n",
              "        vertical-align: top;\n",
              "    }\n",
              "\n",
              "    .dataframe thead th {\n",
              "        text-align: right;\n",
              "    }\n",
              "</style>\n",
              "<table border=\"1\" class=\"dataframe\">\n",
              "  <thead>\n",
              "    <tr style=\"text-align: right;\">\n",
              "      <th></th>\n",
              "      <th>AIRLINE_AA</th>\n",
              "      <th>AIRLINE_AS</th>\n",
              "      <th>AIRLINE_B6</th>\n",
              "      <th>AIRLINE_DL</th>\n",
              "      <th>AIRLINE_EV</th>\n",
              "      <th>AIRLINE_F9</th>\n",
              "      <th>AIRLINE_HA</th>\n",
              "      <th>AIRLINE_MQ</th>\n",
              "      <th>AIRLINE_NK</th>\n",
              "      <th>AIRLINE_OO</th>\n",
              "      <th>...</th>\n",
              "      <th>DAY</th>\n",
              "      <th>DAY_OF_WEEK</th>\n",
              "      <th>DISTANCE</th>\n",
              "      <th>tmin</th>\n",
              "      <th>tmax</th>\n",
              "      <th>tavg</th>\n",
              "      <th>ppt</th>\n",
              "      <th>dday_a5C</th>\n",
              "      <th>dday_b15C</th>\n",
              "      <th>IS_DELAYED</th>\n",
              "    </tr>\n",
              "  </thead>\n",
              "  <tbody>\n",
              "    <tr>\n",
              "      <th>0</th>\n",
              "      <td>0.0</td>\n",
              "      <td>0.0</td>\n",
              "      <td>0.0</td>\n",
              "      <td>1.0</td>\n",
              "      <td>0.0</td>\n",
              "      <td>0.0</td>\n",
              "      <td>0.0</td>\n",
              "      <td>0.0</td>\n",
              "      <td>0.0</td>\n",
              "      <td>0.0</td>\n",
              "      <td>...</td>\n",
              "      <td>25</td>\n",
              "      <td>3</td>\n",
              "      <td>1027</td>\n",
              "      <td>-1.137</td>\n",
              "      <td>2.655</td>\n",
              "      <td>0.759</td>\n",
              "      <td>2.088</td>\n",
              "      <td>0.000</td>\n",
              "      <td>14.241</td>\n",
              "      <td>0</td>\n",
              "    </tr>\n",
              "    <tr>\n",
              "      <th>1</th>\n",
              "      <td>0.0</td>\n",
              "      <td>0.0</td>\n",
              "      <td>0.0</td>\n",
              "      <td>0.0</td>\n",
              "      <td>0.0</td>\n",
              "      <td>0.0</td>\n",
              "      <td>0.0</td>\n",
              "      <td>1.0</td>\n",
              "      <td>0.0</td>\n",
              "      <td>0.0</td>\n",
              "      <td>...</td>\n",
              "      <td>23</td>\n",
              "      <td>1</td>\n",
              "      <td>296</td>\n",
              "      <td>-15.008</td>\n",
              "      <td>-0.709</td>\n",
              "      <td>-7.858</td>\n",
              "      <td>0.000</td>\n",
              "      <td>0.000</td>\n",
              "      <td>22.858</td>\n",
              "      <td>1</td>\n",
              "    </tr>\n",
              "    <tr>\n",
              "      <th>2</th>\n",
              "      <td>0.0</td>\n",
              "      <td>0.0</td>\n",
              "      <td>0.0</td>\n",
              "      <td>0.0</td>\n",
              "      <td>0.0</td>\n",
              "      <td>0.0</td>\n",
              "      <td>0.0</td>\n",
              "      <td>0.0</td>\n",
              "      <td>1.0</td>\n",
              "      <td>0.0</td>\n",
              "      <td>...</td>\n",
              "      <td>19</td>\n",
              "      <td>7</td>\n",
              "      <td>1189</td>\n",
              "      <td>22.170</td>\n",
              "      <td>31.353</td>\n",
              "      <td>26.761</td>\n",
              "      <td>0.001</td>\n",
              "      <td>21.762</td>\n",
              "      <td>0.001</td>\n",
              "      <td>0</td>\n",
              "    </tr>\n",
              "    <tr>\n",
              "      <th>3</th>\n",
              "      <td>0.0</td>\n",
              "      <td>0.0</td>\n",
              "      <td>0.0</td>\n",
              "      <td>0.0</td>\n",
              "      <td>0.0</td>\n",
              "      <td>0.0</td>\n",
              "      <td>0.0</td>\n",
              "      <td>0.0</td>\n",
              "      <td>0.0</td>\n",
              "      <td>0.0</td>\n",
              "      <td>...</td>\n",
              "      <td>4</td>\n",
              "      <td>4</td>\n",
              "      <td>954</td>\n",
              "      <td>13.026</td>\n",
              "      <td>22.682</td>\n",
              "      <td>17.854</td>\n",
              "      <td>0.007</td>\n",
              "      <td>12.854</td>\n",
              "      <td>0.387</td>\n",
              "      <td>1</td>\n",
              "    </tr>\n",
              "    <tr>\n",
              "      <th>4</th>\n",
              "      <td>0.0</td>\n",
              "      <td>0.0</td>\n",
              "      <td>0.0</td>\n",
              "      <td>0.0</td>\n",
              "      <td>1.0</td>\n",
              "      <td>0.0</td>\n",
              "      <td>0.0</td>\n",
              "      <td>0.0</td>\n",
              "      <td>0.0</td>\n",
              "      <td>0.0</td>\n",
              "      <td>...</td>\n",
              "      <td>21</td>\n",
              "      <td>6</td>\n",
              "      <td>922</td>\n",
              "      <td>7.927</td>\n",
              "      <td>19.965</td>\n",
              "      <td>13.946</td>\n",
              "      <td>0.121</td>\n",
              "      <td>8.946</td>\n",
              "      <td>2.472</td>\n",
              "      <td>1</td>\n",
              "    </tr>\n",
              "  </tbody>\n",
              "</table>\n",
              "<p>5 rows × 28 columns</p>\n",
              "</div>\n",
              "    <div class=\"colab-df-buttons\">\n",
              "\n",
              "  <div class=\"colab-df-container\">\n",
              "    <button class=\"colab-df-convert\" onclick=\"convertToInteractive('df-ca9fe542-a554-4e81-b169-f2f781a42fd7')\"\n",
              "            title=\"Convert this dataframe to an interactive table.\"\n",
              "            style=\"display:none;\">\n",
              "\n",
              "  <svg xmlns=\"http://www.w3.org/2000/svg\" height=\"24px\" viewBox=\"0 -960 960 960\">\n",
              "    <path d=\"M120-120v-720h720v720H120Zm60-500h600v-160H180v160Zm220 220h160v-160H400v160Zm0 220h160v-160H400v160ZM180-400h160v-160H180v160Zm440 0h160v-160H620v160ZM180-180h160v-160H180v160Zm440 0h160v-160H620v160Z\"/>\n",
              "  </svg>\n",
              "    </button>\n",
              "\n",
              "  <style>\n",
              "    .colab-df-container {\n",
              "      display:flex;\n",
              "      gap: 12px;\n",
              "    }\n",
              "\n",
              "    .colab-df-convert {\n",
              "      background-color: #E8F0FE;\n",
              "      border: none;\n",
              "      border-radius: 50%;\n",
              "      cursor: pointer;\n",
              "      display: none;\n",
              "      fill: #1967D2;\n",
              "      height: 32px;\n",
              "      padding: 0 0 0 0;\n",
              "      width: 32px;\n",
              "    }\n",
              "\n",
              "    .colab-df-convert:hover {\n",
              "      background-color: #E2EBFA;\n",
              "      box-shadow: 0px 1px 2px rgba(60, 64, 67, 0.3), 0px 1px 3px 1px rgba(60, 64, 67, 0.15);\n",
              "      fill: #174EA6;\n",
              "    }\n",
              "\n",
              "    .colab-df-buttons div {\n",
              "      margin-bottom: 4px;\n",
              "    }\n",
              "\n",
              "    [theme=dark] .colab-df-convert {\n",
              "      background-color: #3B4455;\n",
              "      fill: #D2E3FC;\n",
              "    }\n",
              "\n",
              "    [theme=dark] .colab-df-convert:hover {\n",
              "      background-color: #434B5C;\n",
              "      box-shadow: 0px 1px 3px 1px rgba(0, 0, 0, 0.15);\n",
              "      filter: drop-shadow(0px 1px 2px rgba(0, 0, 0, 0.3));\n",
              "      fill: #FFFFFF;\n",
              "    }\n",
              "  </style>\n",
              "\n",
              "    <script>\n",
              "      const buttonEl =\n",
              "        document.querySelector('#df-ca9fe542-a554-4e81-b169-f2f781a42fd7 button.colab-df-convert');\n",
              "      buttonEl.style.display =\n",
              "        google.colab.kernel.accessAllowed ? 'block' : 'none';\n",
              "\n",
              "      async function convertToInteractive(key) {\n",
              "        const element = document.querySelector('#df-ca9fe542-a554-4e81-b169-f2f781a42fd7');\n",
              "        const dataTable =\n",
              "          await google.colab.kernel.invokeFunction('convertToInteractive',\n",
              "                                                    [key], {});\n",
              "        if (!dataTable) return;\n",
              "\n",
              "        const docLinkHtml = 'Like what you see? Visit the ' +\n",
              "          '<a target=\"_blank\" href=https://colab.research.google.com/notebooks/data_table.ipynb>data table notebook</a>'\n",
              "          + ' to learn more about interactive tables.';\n",
              "        element.innerHTML = '';\n",
              "        dataTable['output_type'] = 'display_data';\n",
              "        await google.colab.output.renderOutput(dataTable, element);\n",
              "        const docLink = document.createElement('div');\n",
              "        docLink.innerHTML = docLinkHtml;\n",
              "        element.appendChild(docLink);\n",
              "      }\n",
              "    </script>\n",
              "  </div>\n",
              "\n",
              "\n",
              "<div id=\"df-df88c3e9-2a16-4f07-a2a4-85f87b88525e\">\n",
              "  <button class=\"colab-df-quickchart\" onclick=\"quickchart('df-df88c3e9-2a16-4f07-a2a4-85f87b88525e')\"\n",
              "            title=\"Suggest charts\"\n",
              "            style=\"display:none;\">\n",
              "\n",
              "<svg xmlns=\"http://www.w3.org/2000/svg\" height=\"24px\"viewBox=\"0 0 24 24\"\n",
              "     width=\"24px\">\n",
              "    <g>\n",
              "        <path d=\"M19 3H5c-1.1 0-2 .9-2 2v14c0 1.1.9 2 2 2h14c1.1 0 2-.9 2-2V5c0-1.1-.9-2-2-2zM9 17H7v-7h2v7zm4 0h-2V7h2v10zm4 0h-2v-4h2v4z\"/>\n",
              "    </g>\n",
              "</svg>\n",
              "  </button>\n",
              "\n",
              "<style>\n",
              "  .colab-df-quickchart {\n",
              "      --bg-color: #E8F0FE;\n",
              "      --fill-color: #1967D2;\n",
              "      --hover-bg-color: #E2EBFA;\n",
              "      --hover-fill-color: #174EA6;\n",
              "      --disabled-fill-color: #AAA;\n",
              "      --disabled-bg-color: #DDD;\n",
              "  }\n",
              "\n",
              "  [theme=dark] .colab-df-quickchart {\n",
              "      --bg-color: #3B4455;\n",
              "      --fill-color: #D2E3FC;\n",
              "      --hover-bg-color: #434B5C;\n",
              "      --hover-fill-color: #FFFFFF;\n",
              "      --disabled-bg-color: #3B4455;\n",
              "      --disabled-fill-color: #666;\n",
              "  }\n",
              "\n",
              "  .colab-df-quickchart {\n",
              "    background-color: var(--bg-color);\n",
              "    border: none;\n",
              "    border-radius: 50%;\n",
              "    cursor: pointer;\n",
              "    display: none;\n",
              "    fill: var(--fill-color);\n",
              "    height: 32px;\n",
              "    padding: 0;\n",
              "    width: 32px;\n",
              "  }\n",
              "\n",
              "  .colab-df-quickchart:hover {\n",
              "    background-color: var(--hover-bg-color);\n",
              "    box-shadow: 0 1px 2px rgba(60, 64, 67, 0.3), 0 1px 3px 1px rgba(60, 64, 67, 0.15);\n",
              "    fill: var(--button-hover-fill-color);\n",
              "  }\n",
              "\n",
              "  .colab-df-quickchart-complete:disabled,\n",
              "  .colab-df-quickchart-complete:disabled:hover {\n",
              "    background-color: var(--disabled-bg-color);\n",
              "    fill: var(--disabled-fill-color);\n",
              "    box-shadow: none;\n",
              "  }\n",
              "\n",
              "  .colab-df-spinner {\n",
              "    border: 2px solid var(--fill-color);\n",
              "    border-color: transparent;\n",
              "    border-bottom-color: var(--fill-color);\n",
              "    animation:\n",
              "      spin 1s steps(1) infinite;\n",
              "  }\n",
              "\n",
              "  @keyframes spin {\n",
              "    0% {\n",
              "      border-color: transparent;\n",
              "      border-bottom-color: var(--fill-color);\n",
              "      border-left-color: var(--fill-color);\n",
              "    }\n",
              "    20% {\n",
              "      border-color: transparent;\n",
              "      border-left-color: var(--fill-color);\n",
              "      border-top-color: var(--fill-color);\n",
              "    }\n",
              "    30% {\n",
              "      border-color: transparent;\n",
              "      border-left-color: var(--fill-color);\n",
              "      border-top-color: var(--fill-color);\n",
              "      border-right-color: var(--fill-color);\n",
              "    }\n",
              "    40% {\n",
              "      border-color: transparent;\n",
              "      border-right-color: var(--fill-color);\n",
              "      border-top-color: var(--fill-color);\n",
              "    }\n",
              "    60% {\n",
              "      border-color: transparent;\n",
              "      border-right-color: var(--fill-color);\n",
              "    }\n",
              "    80% {\n",
              "      border-color: transparent;\n",
              "      border-right-color: var(--fill-color);\n",
              "      border-bottom-color: var(--fill-color);\n",
              "    }\n",
              "    90% {\n",
              "      border-color: transparent;\n",
              "      border-bottom-color: var(--fill-color);\n",
              "    }\n",
              "  }\n",
              "</style>\n",
              "\n",
              "  <script>\n",
              "    async function quickchart(key) {\n",
              "      const quickchartButtonEl =\n",
              "        document.querySelector('#' + key + ' button');\n",
              "      quickchartButtonEl.disabled = true;  // To prevent multiple clicks.\n",
              "      quickchartButtonEl.classList.add('colab-df-spinner');\n",
              "      try {\n",
              "        const charts = await google.colab.kernel.invokeFunction(\n",
              "            'suggestCharts', [key], {});\n",
              "      } catch (error) {\n",
              "        console.error('Error during call to suggestCharts:', error);\n",
              "      }\n",
              "      quickchartButtonEl.classList.remove('colab-df-spinner');\n",
              "      quickchartButtonEl.classList.add('colab-df-quickchart-complete');\n",
              "    }\n",
              "    (() => {\n",
              "      let quickchartButtonEl =\n",
              "        document.querySelector('#df-df88c3e9-2a16-4f07-a2a4-85f87b88525e button');\n",
              "      quickchartButtonEl.style.display =\n",
              "        google.colab.kernel.accessAllowed ? 'block' : 'none';\n",
              "    })();\n",
              "  </script>\n",
              "</div>\n",
              "\n",
              "    </div>\n",
              "  </div>\n"
            ],
            "application/vnd.google.colaboratory.intrinsic+json": {
              "type": "dataframe",
              "variable_name": "encoded_binary_df"
            }
          },
          "metadata": {},
          "execution_count": 16
        }
      ]
    },
    {
      "cell_type": "markdown",
      "source": [
        "We split the data into train and test sets."
      ],
      "metadata": {
        "id": "EEbJENeGuOGJ"
      }
    },
    {
      "cell_type": "code",
      "source": [
        "from sklearn.model_selection import train_test_split\n",
        "\n",
        "#all_features = [\"SCHEDULED_DEPARTURE\", \"SCHEDULED_TIME\",\"YEAR\",\"MONTH\",\"DAY\",\"DAY_OF_WEEK\",\"DISTANCE\",\"tmin\",\"tmax\",\"tavg\",\"ppt\",\"dday_a5C\",\"dday_b15C\"] +\n",
        "\n",
        "X = encoded_binary_df.drop('IS_DELAYED',axis = 1)\n",
        "y = encoded_binary_df['IS_DELAYED']\n",
        "\n",
        "X_train, X_test, y_train, y_test = train_test_split(X,y, test_size=0.2, random_state=42)\n",
        "print(X_train.shape)\n",
        "print(y_train.shape)\n",
        "print(X_test.shape)"
      ],
      "metadata": {
        "colab": {
          "base_uri": "https://localhost:8080/"
        },
        "collapsed": true,
        "id": "1tcjRasO-j1R",
        "outputId": "92f6cb44-0fd5-451e-efb4-2095715d4a84"
      },
      "execution_count": 17,
      "outputs": [
        {
          "output_type": "stream",
          "name": "stdout",
          "text": [
            "(1183988, 27)\n",
            "(1183988,)\n",
            "(295998, 27)\n"
          ]
        }
      ]
    },
    {
      "cell_type": "markdown",
      "source": [
        "We scale the non-discrete features in our dataset to fit a normal distribution using StandardScaler."
      ],
      "metadata": {
        "id": "y-M32ZHZuRJO"
      }
    },
    {
      "cell_type": "code",
      "source": [
        "from sklearn.preprocessing import StandardScaler\n",
        "scaler = StandardScaler()\n",
        "scalable_features = ['DISTANCE', 'tmin', 'tmax', 'tavg', 'ppt', 'dday_a5C','dday_b15C']\n",
        "\n",
        "X_train_numeric = pd.DataFrame(scaler.fit_transform(X_train[scalable_features]),columns = scaler.get_feature_names_out(scalable_features))\n",
        "X_train = pd.concat([X_train.drop(scalable_features,axis = 1).reset_index(drop=True),X_train_numeric.reset_index(drop=True)],axis = 1)\n",
        "X_test_numeric = pd.DataFrame(scaler.transform(X_test[scalable_features]), columns = scaler.get_feature_names_out(scalable_features))\n",
        "X_test = pd.concat([X_test.drop(scalable_features, axis = 1).reset_index(drop=True),X_test_numeric.reset_index(drop=True)], axis = 1)"
      ],
      "metadata": {
        "id": "TC17BOon-H1V"
      },
      "execution_count": 18,
      "outputs": []
    },
    {
      "cell_type": "code",
      "source": [
        "X_train.head()"
      ],
      "metadata": {
        "colab": {
          "base_uri": "https://localhost:8080/",
          "height": 250
        },
        "collapsed": true,
        "id": "drl4SiFrDQT2",
        "outputId": "f5141067-5f77-4ee7-c929-0864b7ed67bf"
      },
      "execution_count": 19,
      "outputs": [
        {
          "output_type": "execute_result",
          "data": {
            "text/plain": [
              "   AIRLINE_AA  AIRLINE_AS  AIRLINE_B6  AIRLINE_DL  AIRLINE_EV  AIRLINE_F9  \\\n",
              "0         0.0         0.0         0.0         1.0         0.0         0.0   \n",
              "1         0.0         0.0         0.0         0.0         0.0         0.0   \n",
              "2         0.0         0.0         1.0         0.0         0.0         0.0   \n",
              "3         1.0         0.0         0.0         0.0         0.0         0.0   \n",
              "4         0.0         0.0         0.0         0.0         1.0         0.0   \n",
              "\n",
              "   AIRLINE_HA  AIRLINE_MQ  AIRLINE_NK  AIRLINE_OO  ...  MONTH  DAY  \\\n",
              "0         0.0         0.0         0.0         0.0  ...      7   10   \n",
              "1         0.0         0.0         1.0         0.0  ...      7   14   \n",
              "2         0.0         0.0         0.0         0.0  ...      7    7   \n",
              "3         0.0         0.0         0.0         0.0  ...      9    2   \n",
              "4         0.0         0.0         0.0         0.0  ...      5    6   \n",
              "\n",
              "   DAY_OF_WEEK  DISTANCE      tmin      tmax      tavg       ppt  dday_a5C  \\\n",
              "0            5  0.239175  1.045295  0.365595  0.707196  1.009148  0.744477   \n",
              "1            2  1.399754  0.483049  0.387203  0.440894 -0.377476  0.404432   \n",
              "2            2  1.396331  1.271396  0.600113  0.941464 -0.377476  1.043492   \n",
              "3            3  1.119024  1.217164  1.294539  1.277677 -0.377476  1.472806   \n",
              "4            3 -0.175073  0.630168  0.723519  0.689378 -0.377476  0.721724   \n",
              "\n",
              "   dday_b15C  \n",
              "0  -0.661065  \n",
              "1  -0.660143  \n",
              "2  -0.661065  \n",
              "3  -0.661065  \n",
              "4  -0.661065  \n",
              "\n",
              "[5 rows x 27 columns]"
            ],
            "text/html": [
              "\n",
              "  <div id=\"df-046e269d-ad72-472d-b418-b3f466b18b33\" class=\"colab-df-container\">\n",
              "    <div>\n",
              "<style scoped>\n",
              "    .dataframe tbody tr th:only-of-type {\n",
              "        vertical-align: middle;\n",
              "    }\n",
              "\n",
              "    .dataframe tbody tr th {\n",
              "        vertical-align: top;\n",
              "    }\n",
              "\n",
              "    .dataframe thead th {\n",
              "        text-align: right;\n",
              "    }\n",
              "</style>\n",
              "<table border=\"1\" class=\"dataframe\">\n",
              "  <thead>\n",
              "    <tr style=\"text-align: right;\">\n",
              "      <th></th>\n",
              "      <th>AIRLINE_AA</th>\n",
              "      <th>AIRLINE_AS</th>\n",
              "      <th>AIRLINE_B6</th>\n",
              "      <th>AIRLINE_DL</th>\n",
              "      <th>AIRLINE_EV</th>\n",
              "      <th>AIRLINE_F9</th>\n",
              "      <th>AIRLINE_HA</th>\n",
              "      <th>AIRLINE_MQ</th>\n",
              "      <th>AIRLINE_NK</th>\n",
              "      <th>AIRLINE_OO</th>\n",
              "      <th>...</th>\n",
              "      <th>MONTH</th>\n",
              "      <th>DAY</th>\n",
              "      <th>DAY_OF_WEEK</th>\n",
              "      <th>DISTANCE</th>\n",
              "      <th>tmin</th>\n",
              "      <th>tmax</th>\n",
              "      <th>tavg</th>\n",
              "      <th>ppt</th>\n",
              "      <th>dday_a5C</th>\n",
              "      <th>dday_b15C</th>\n",
              "    </tr>\n",
              "  </thead>\n",
              "  <tbody>\n",
              "    <tr>\n",
              "      <th>0</th>\n",
              "      <td>0.0</td>\n",
              "      <td>0.0</td>\n",
              "      <td>0.0</td>\n",
              "      <td>1.0</td>\n",
              "      <td>0.0</td>\n",
              "      <td>0.0</td>\n",
              "      <td>0.0</td>\n",
              "      <td>0.0</td>\n",
              "      <td>0.0</td>\n",
              "      <td>0.0</td>\n",
              "      <td>...</td>\n",
              "      <td>7</td>\n",
              "      <td>10</td>\n",
              "      <td>5</td>\n",
              "      <td>0.239175</td>\n",
              "      <td>1.045295</td>\n",
              "      <td>0.365595</td>\n",
              "      <td>0.707196</td>\n",
              "      <td>1.009148</td>\n",
              "      <td>0.744477</td>\n",
              "      <td>-0.661065</td>\n",
              "    </tr>\n",
              "    <tr>\n",
              "      <th>1</th>\n",
              "      <td>0.0</td>\n",
              "      <td>0.0</td>\n",
              "      <td>0.0</td>\n",
              "      <td>0.0</td>\n",
              "      <td>0.0</td>\n",
              "      <td>0.0</td>\n",
              "      <td>0.0</td>\n",
              "      <td>0.0</td>\n",
              "      <td>1.0</td>\n",
              "      <td>0.0</td>\n",
              "      <td>...</td>\n",
              "      <td>7</td>\n",
              "      <td>14</td>\n",
              "      <td>2</td>\n",
              "      <td>1.399754</td>\n",
              "      <td>0.483049</td>\n",
              "      <td>0.387203</td>\n",
              "      <td>0.440894</td>\n",
              "      <td>-0.377476</td>\n",
              "      <td>0.404432</td>\n",
              "      <td>-0.660143</td>\n",
              "    </tr>\n",
              "    <tr>\n",
              "      <th>2</th>\n",
              "      <td>0.0</td>\n",
              "      <td>0.0</td>\n",
              "      <td>1.0</td>\n",
              "      <td>0.0</td>\n",
              "      <td>0.0</td>\n",
              "      <td>0.0</td>\n",
              "      <td>0.0</td>\n",
              "      <td>0.0</td>\n",
              "      <td>0.0</td>\n",
              "      <td>0.0</td>\n",
              "      <td>...</td>\n",
              "      <td>7</td>\n",
              "      <td>7</td>\n",
              "      <td>2</td>\n",
              "      <td>1.396331</td>\n",
              "      <td>1.271396</td>\n",
              "      <td>0.600113</td>\n",
              "      <td>0.941464</td>\n",
              "      <td>-0.377476</td>\n",
              "      <td>1.043492</td>\n",
              "      <td>-0.661065</td>\n",
              "    </tr>\n",
              "    <tr>\n",
              "      <th>3</th>\n",
              "      <td>1.0</td>\n",
              "      <td>0.0</td>\n",
              "      <td>0.0</td>\n",
              "      <td>0.0</td>\n",
              "      <td>0.0</td>\n",
              "      <td>0.0</td>\n",
              "      <td>0.0</td>\n",
              "      <td>0.0</td>\n",
              "      <td>0.0</td>\n",
              "      <td>0.0</td>\n",
              "      <td>...</td>\n",
              "      <td>9</td>\n",
              "      <td>2</td>\n",
              "      <td>3</td>\n",
              "      <td>1.119024</td>\n",
              "      <td>1.217164</td>\n",
              "      <td>1.294539</td>\n",
              "      <td>1.277677</td>\n",
              "      <td>-0.377476</td>\n",
              "      <td>1.472806</td>\n",
              "      <td>-0.661065</td>\n",
              "    </tr>\n",
              "    <tr>\n",
              "      <th>4</th>\n",
              "      <td>0.0</td>\n",
              "      <td>0.0</td>\n",
              "      <td>0.0</td>\n",
              "      <td>0.0</td>\n",
              "      <td>1.0</td>\n",
              "      <td>0.0</td>\n",
              "      <td>0.0</td>\n",
              "      <td>0.0</td>\n",
              "      <td>0.0</td>\n",
              "      <td>0.0</td>\n",
              "      <td>...</td>\n",
              "      <td>5</td>\n",
              "      <td>6</td>\n",
              "      <td>3</td>\n",
              "      <td>-0.175073</td>\n",
              "      <td>0.630168</td>\n",
              "      <td>0.723519</td>\n",
              "      <td>0.689378</td>\n",
              "      <td>-0.377476</td>\n",
              "      <td>0.721724</td>\n",
              "      <td>-0.661065</td>\n",
              "    </tr>\n",
              "  </tbody>\n",
              "</table>\n",
              "<p>5 rows × 27 columns</p>\n",
              "</div>\n",
              "    <div class=\"colab-df-buttons\">\n",
              "\n",
              "  <div class=\"colab-df-container\">\n",
              "    <button class=\"colab-df-convert\" onclick=\"convertToInteractive('df-046e269d-ad72-472d-b418-b3f466b18b33')\"\n",
              "            title=\"Convert this dataframe to an interactive table.\"\n",
              "            style=\"display:none;\">\n",
              "\n",
              "  <svg xmlns=\"http://www.w3.org/2000/svg\" height=\"24px\" viewBox=\"0 -960 960 960\">\n",
              "    <path d=\"M120-120v-720h720v720H120Zm60-500h600v-160H180v160Zm220 220h160v-160H400v160Zm0 220h160v-160H400v160ZM180-400h160v-160H180v160Zm440 0h160v-160H620v160ZM180-180h160v-160H180v160Zm440 0h160v-160H620v160Z\"/>\n",
              "  </svg>\n",
              "    </button>\n",
              "\n",
              "  <style>\n",
              "    .colab-df-container {\n",
              "      display:flex;\n",
              "      gap: 12px;\n",
              "    }\n",
              "\n",
              "    .colab-df-convert {\n",
              "      background-color: #E8F0FE;\n",
              "      border: none;\n",
              "      border-radius: 50%;\n",
              "      cursor: pointer;\n",
              "      display: none;\n",
              "      fill: #1967D2;\n",
              "      height: 32px;\n",
              "      padding: 0 0 0 0;\n",
              "      width: 32px;\n",
              "    }\n",
              "\n",
              "    .colab-df-convert:hover {\n",
              "      background-color: #E2EBFA;\n",
              "      box-shadow: 0px 1px 2px rgba(60, 64, 67, 0.3), 0px 1px 3px 1px rgba(60, 64, 67, 0.15);\n",
              "      fill: #174EA6;\n",
              "    }\n",
              "\n",
              "    .colab-df-buttons div {\n",
              "      margin-bottom: 4px;\n",
              "    }\n",
              "\n",
              "    [theme=dark] .colab-df-convert {\n",
              "      background-color: #3B4455;\n",
              "      fill: #D2E3FC;\n",
              "    }\n",
              "\n",
              "    [theme=dark] .colab-df-convert:hover {\n",
              "      background-color: #434B5C;\n",
              "      box-shadow: 0px 1px 3px 1px rgba(0, 0, 0, 0.15);\n",
              "      filter: drop-shadow(0px 1px 2px rgba(0, 0, 0, 0.3));\n",
              "      fill: #FFFFFF;\n",
              "    }\n",
              "  </style>\n",
              "\n",
              "    <script>\n",
              "      const buttonEl =\n",
              "        document.querySelector('#df-046e269d-ad72-472d-b418-b3f466b18b33 button.colab-df-convert');\n",
              "      buttonEl.style.display =\n",
              "        google.colab.kernel.accessAllowed ? 'block' : 'none';\n",
              "\n",
              "      async function convertToInteractive(key) {\n",
              "        const element = document.querySelector('#df-046e269d-ad72-472d-b418-b3f466b18b33');\n",
              "        const dataTable =\n",
              "          await google.colab.kernel.invokeFunction('convertToInteractive',\n",
              "                                                    [key], {});\n",
              "        if (!dataTable) return;\n",
              "\n",
              "        const docLinkHtml = 'Like what you see? Visit the ' +\n",
              "          '<a target=\"_blank\" href=https://colab.research.google.com/notebooks/data_table.ipynb>data table notebook</a>'\n",
              "          + ' to learn more about interactive tables.';\n",
              "        element.innerHTML = '';\n",
              "        dataTable['output_type'] = 'display_data';\n",
              "        await google.colab.output.renderOutput(dataTable, element);\n",
              "        const docLink = document.createElement('div');\n",
              "        docLink.innerHTML = docLinkHtml;\n",
              "        element.appendChild(docLink);\n",
              "      }\n",
              "    </script>\n",
              "  </div>\n",
              "\n",
              "\n",
              "<div id=\"df-4ccb5c1e-b50b-497a-a0c8-071ea9c9ca1f\">\n",
              "  <button class=\"colab-df-quickchart\" onclick=\"quickchart('df-4ccb5c1e-b50b-497a-a0c8-071ea9c9ca1f')\"\n",
              "            title=\"Suggest charts\"\n",
              "            style=\"display:none;\">\n",
              "\n",
              "<svg xmlns=\"http://www.w3.org/2000/svg\" height=\"24px\"viewBox=\"0 0 24 24\"\n",
              "     width=\"24px\">\n",
              "    <g>\n",
              "        <path d=\"M19 3H5c-1.1 0-2 .9-2 2v14c0 1.1.9 2 2 2h14c1.1 0 2-.9 2-2V5c0-1.1-.9-2-2-2zM9 17H7v-7h2v7zm4 0h-2V7h2v10zm4 0h-2v-4h2v4z\"/>\n",
              "    </g>\n",
              "</svg>\n",
              "  </button>\n",
              "\n",
              "<style>\n",
              "  .colab-df-quickchart {\n",
              "      --bg-color: #E8F0FE;\n",
              "      --fill-color: #1967D2;\n",
              "      --hover-bg-color: #E2EBFA;\n",
              "      --hover-fill-color: #174EA6;\n",
              "      --disabled-fill-color: #AAA;\n",
              "      --disabled-bg-color: #DDD;\n",
              "  }\n",
              "\n",
              "  [theme=dark] .colab-df-quickchart {\n",
              "      --bg-color: #3B4455;\n",
              "      --fill-color: #D2E3FC;\n",
              "      --hover-bg-color: #434B5C;\n",
              "      --hover-fill-color: #FFFFFF;\n",
              "      --disabled-bg-color: #3B4455;\n",
              "      --disabled-fill-color: #666;\n",
              "  }\n",
              "\n",
              "  .colab-df-quickchart {\n",
              "    background-color: var(--bg-color);\n",
              "    border: none;\n",
              "    border-radius: 50%;\n",
              "    cursor: pointer;\n",
              "    display: none;\n",
              "    fill: var(--fill-color);\n",
              "    height: 32px;\n",
              "    padding: 0;\n",
              "    width: 32px;\n",
              "  }\n",
              "\n",
              "  .colab-df-quickchart:hover {\n",
              "    background-color: var(--hover-bg-color);\n",
              "    box-shadow: 0 1px 2px rgba(60, 64, 67, 0.3), 0 1px 3px 1px rgba(60, 64, 67, 0.15);\n",
              "    fill: var(--button-hover-fill-color);\n",
              "  }\n",
              "\n",
              "  .colab-df-quickchart-complete:disabled,\n",
              "  .colab-df-quickchart-complete:disabled:hover {\n",
              "    background-color: var(--disabled-bg-color);\n",
              "    fill: var(--disabled-fill-color);\n",
              "    box-shadow: none;\n",
              "  }\n",
              "\n",
              "  .colab-df-spinner {\n",
              "    border: 2px solid var(--fill-color);\n",
              "    border-color: transparent;\n",
              "    border-bottom-color: var(--fill-color);\n",
              "    animation:\n",
              "      spin 1s steps(1) infinite;\n",
              "  }\n",
              "\n",
              "  @keyframes spin {\n",
              "    0% {\n",
              "      border-color: transparent;\n",
              "      border-bottom-color: var(--fill-color);\n",
              "      border-left-color: var(--fill-color);\n",
              "    }\n",
              "    20% {\n",
              "      border-color: transparent;\n",
              "      border-left-color: var(--fill-color);\n",
              "      border-top-color: var(--fill-color);\n",
              "    }\n",
              "    30% {\n",
              "      border-color: transparent;\n",
              "      border-left-color: var(--fill-color);\n",
              "      border-top-color: var(--fill-color);\n",
              "      border-right-color: var(--fill-color);\n",
              "    }\n",
              "    40% {\n",
              "      border-color: transparent;\n",
              "      border-right-color: var(--fill-color);\n",
              "      border-top-color: var(--fill-color);\n",
              "    }\n",
              "    60% {\n",
              "      border-color: transparent;\n",
              "      border-right-color: var(--fill-color);\n",
              "    }\n",
              "    80% {\n",
              "      border-color: transparent;\n",
              "      border-right-color: var(--fill-color);\n",
              "      border-bottom-color: var(--fill-color);\n",
              "    }\n",
              "    90% {\n",
              "      border-color: transparent;\n",
              "      border-bottom-color: var(--fill-color);\n",
              "    }\n",
              "  }\n",
              "</style>\n",
              "\n",
              "  <script>\n",
              "    async function quickchart(key) {\n",
              "      const quickchartButtonEl =\n",
              "        document.querySelector('#' + key + ' button');\n",
              "      quickchartButtonEl.disabled = true;  // To prevent multiple clicks.\n",
              "      quickchartButtonEl.classList.add('colab-df-spinner');\n",
              "      try {\n",
              "        const charts = await google.colab.kernel.invokeFunction(\n",
              "            'suggestCharts', [key], {});\n",
              "      } catch (error) {\n",
              "        console.error('Error during call to suggestCharts:', error);\n",
              "      }\n",
              "      quickchartButtonEl.classList.remove('colab-df-spinner');\n",
              "      quickchartButtonEl.classList.add('colab-df-quickchart-complete');\n",
              "    }\n",
              "    (() => {\n",
              "      let quickchartButtonEl =\n",
              "        document.querySelector('#df-4ccb5c1e-b50b-497a-a0c8-071ea9c9ca1f button');\n",
              "      quickchartButtonEl.style.display =\n",
              "        google.colab.kernel.accessAllowed ? 'block' : 'none';\n",
              "    })();\n",
              "  </script>\n",
              "</div>\n",
              "\n",
              "    </div>\n",
              "  </div>\n"
            ],
            "application/vnd.google.colaboratory.intrinsic+json": {
              "type": "dataframe",
              "variable_name": "X_train"
            }
          },
          "metadata": {},
          "execution_count": 19
        }
      ]
    },
    {
      "cell_type": "markdown",
      "source": [
        "We predict if a flight will be delayed using a Random Forest Classifier."
      ],
      "metadata": {
        "id": "UzzzLorrYF4B"
      }
    },
    {
      "cell_type": "code",
      "source": [
        "from sklearn.ensemble import RandomForestClassifier\n",
        "from sklearn.model_selection import train_test_split\n",
        "from sklearn.metrics import accuracy_score\n",
        "\n",
        "clf = RandomForestClassifier(n_estimators=10, random_state=42,verbose = 1)\n",
        "clf.fit(X_train, y_train)\n",
        "\n",
        "y_pred = clf.predict(X_test)\n",
        "\n",
        "print(clf.score(X_test,y_test))"
      ],
      "metadata": {
        "colab": {
          "base_uri": "https://localhost:8080/"
        },
        "id": "Buy3IH9_BlQ0",
        "outputId": "7c2bab15-abff-46d8-fa67-4b946c406a90"
      },
      "execution_count": 46,
      "outputs": [
        {
          "output_type": "stream",
          "name": "stdout",
          "text": [
            "0.6633896174974155\n"
          ]
        }
      ]
    },
    {
      "cell_type": "markdown",
      "source": [
        "We look at what features are important when predicting loss."
      ],
      "metadata": {
        "id": "qcSIhLHJ3gcr"
      }
    },
    {
      "cell_type": "code",
      "source": [
        "feature_importances = clf.feature_importances_\n",
        "for feature, importance in zip(X_train.columns, feature_importances):\n",
        "    print(f\"Feature: {feature}, Importance: {importance:.4f}\")"
      ],
      "metadata": {
        "colab": {
          "base_uri": "https://localhost:8080/"
        },
        "id": "8Gii6ORHBnfV",
        "outputId": "750f63b3-93ab-4661-99e4-98fa1e0d43d0"
      },
      "execution_count": 69,
      "outputs": [
        {
          "output_type": "stream",
          "name": "stdout",
          "text": [
            "Feature: AIRLINE_AA, Importance: 0.0054\n",
            "Feature: AIRLINE_AS, Importance: 0.0023\n",
            "Feature: AIRLINE_B6, Importance: 0.0033\n",
            "Feature: AIRLINE_DL, Importance: 0.0060\n",
            "Feature: AIRLINE_EV, Importance: 0.0045\n",
            "Feature: AIRLINE_F9, Importance: 0.0022\n",
            "Feature: AIRLINE_HA, Importance: 0.0002\n",
            "Feature: AIRLINE_MQ, Importance: 0.0037\n",
            "Feature: AIRLINE_NK, Importance: 0.0025\n",
            "Feature: AIRLINE_OO, Importance: 0.0042\n",
            "Feature: AIRLINE_UA, Importance: 0.0073\n",
            "Feature: AIRLINE_US, Importance: 0.0027\n",
            "Feature: AIRLINE_VX, Importance: 0.0015\n",
            "Feature: AIRLINE_WN, Importance: 0.0122\n",
            "Feature: SCHEDULED_DEPARTURE, Importance: 0.1850\n",
            "Feature: SCHEDULED_TIME, Importance: 0.1223\n",
            "Feature: YEAR, Importance: 0.0000\n",
            "Feature: MONTH, Importance: 0.0339\n",
            "Feature: DAY, Importance: 0.0604\n",
            "Feature: DAY_OF_WEEK, Importance: 0.0362\n",
            "Feature: DISTANCE, Importance: 0.1245\n",
            "Feature: tmin, Importance: 0.0751\n",
            "Feature: tmax, Importance: 0.0739\n",
            "Feature: tavg, Importance: 0.0696\n",
            "Feature: ppt, Importance: 0.0501\n",
            "Feature: dday_a5C, Importance: 0.0629\n",
            "Feature: dday_b15C, Importance: 0.0482\n"
          ]
        }
      ]
    },
    {
      "cell_type": "code",
      "source": [
        "from sklearn.metrics import f1_score, accuracy_score,precision_score, recall_score\n",
        "forest_preds = y_pred\n",
        "all_labels = y_test.to_numpy()\n",
        "\n",
        "#calcualte metrics\n",
        "precision = precision_score(all_labels, forest_preds)\n",
        "recall = recall_score(all_labels, forest_preds)\n",
        "f1 = f1_score(all_labels, forest_preds)\n",
        "accuracy = accuracy_score(all_labels, forest_preds)\n",
        "\n",
        "print(f\"Precision: {precision:.4f}\")\n",
        "print(f\"Recall: {recall:.4f}\")\n",
        "print(f\"F1-Score: {f1:.4f}\")\n",
        "print(f\"Accuracy: {accuracy:.4f}\")"
      ],
      "metadata": {
        "colab": {
          "base_uri": "https://localhost:8080/"
        },
        "id": "nUgVp-pzzOBy",
        "outputId": "be60ddb5-cfed-4ae7-8646-6bb2e89114a5"
      },
      "execution_count": 69,
      "outputs": [
        {
          "output_type": "stream",
          "name": "stdout",
          "text": [
            "Precision: 0.5764\n",
            "Recall: 0.3858\n",
            "F1-Score: 0.4622\n",
            "Accuracy: 0.6634\n"
          ]
        }
      ]
    },
    {
      "cell_type": "markdown",
      "source": [
        "We now train a neural network to predict if a flight is going to be delayed."
      ],
      "metadata": {
        "id": "5B0JZtIYukLv"
      }
    },
    {
      "cell_type": "code",
      "source": [
        "import torch\n",
        "import torch.nn as nn\n",
        "import torch.optim as optim\n",
        "\n",
        "# Define the neural network architecture\n",
        "class SimpleNN(nn.Module):\n",
        "    def __init__(self, input_size):\n",
        "        super(SimpleNN, self).__init__()\n",
        "        # Define the layers\n",
        "        self.fc1 = nn.Linear(input_size, 128)   # First fully connected layer\n",
        "        self.fc2 = nn.Linear(128, 128)\n",
        "        self.fc3 = nn.Linear(128, 64)           # Second fully connected layer\n",
        "        self.fc4 = nn.Linear(64, 1)            # Output layer (binary output)\n",
        "        self.sigmoid = nn.Sigmoid()            # Sigmoid activation for binary output\n",
        "\n",
        "    def forward(self, x):\n",
        "        # Forward pass through the network\n",
        "        x = torch.relu(self.fc1(x))  # ReLU activation for hidden layer\n",
        "        x = torch.relu(self.fc2(x))  # ReLU activation for hidden layer\n",
        "        x = torch.relu(self.fc3(x))\n",
        "        x = self.sigmoid(self.fc4(x))  # Sigmoid activation for binary output\n",
        "        return x"
      ],
      "metadata": {
        "id": "3RnhOeVRJVX-"
      },
      "execution_count": 70,
      "outputs": []
    },
    {
      "cell_type": "markdown",
      "source": [
        "Training\n",
        " the neural network."
      ],
      "metadata": {
        "id": "0hcbpugOusee"
      }
    },
    {
      "cell_type": "code",
      "source": [
        "from torch.utils.data import DataLoader, TensorDataset\n",
        "\n",
        "model = SimpleNN(len(X_train.columns))\n",
        "criterion = nn.BCELoss()\n",
        "optimizer = optim.Adam(model.parameters(), lr=0.001)\n",
        "\n",
        "\n",
        "model.train()  # Set model to training mode\n",
        "epochs = 10\n",
        "y_train = y_train.astype(float)\n",
        "train_dataset = TensorDataset(torch.tensor(X_train.values, dtype=torch.float32), torch.tensor(y_train.values, dtype=torch.float32))\n",
        "batch_size = 128\n",
        "train_loader = DataLoader(train_dataset, batch_size=batch_size, shuffle=True)\n",
        "for i in range(epochs):\n",
        "  model.train()  # Set the model to training mode\n",
        "  running_loss = 0.0\n",
        "\n",
        "  for batch_idx, (inputs, labels) in enumerate(train_loader):\n",
        "    optimizer.zero_grad()  # Zero the gradients\n",
        "\n",
        "    # Forward pass\n",
        "    outputs = model(inputs)\n",
        "\n",
        "    if torch.isnan(outputs).any():\n",
        "      print(\"NaN detected in outputs!\")\n",
        "      break\n",
        "\n",
        "    #print(f\"Inputs shape: {inputs.shape}, Labels shape: {labels.shape}\")\n",
        "    #print(f\"Outputs shape: {outputs.shape}, Outputs (sample): {outputs[:5]}\")  # Print the first 5 output values\n",
        "    #print(f\"Labels (sample): {labels[:5]}\")\n",
        "\n",
        "    # Compute the loss\n",
        "    loss = criterion(outputs.squeeze(dim = 1), labels)\n",
        "    running_loss += loss.item()\n",
        "\n",
        "    # Backward pass\n",
        "    loss.backward()\n",
        "\n",
        "    torch.nn.utils.clip_grad_norm_(model.parameters(), max_norm=1.0)\n",
        "\n",
        "    # Update the model weights\n",
        "    optimizer.step()\n",
        "\n",
        "  # Print the average loss for this epoch\n",
        "  avg_loss = running_loss / len(train_loader)\n",
        "  print(f\"Epoch [{i+1}/{epochs}], Loss: {avg_loss:.4f}\")"
      ],
      "metadata": {
        "colab": {
          "base_uri": "https://localhost:8080/"
        },
        "id": "Aq9qTxkoKBiY",
        "outputId": "402eced5-6265-4bd1-abc8-4f4cb91cd375"
      },
      "execution_count": 71,
      "outputs": [
        {
          "output_type": "stream",
          "name": "stdout",
          "text": [
            "Epoch [1/10], Loss: 0.6501\n",
            "Epoch [2/10], Loss: 0.6252\n",
            "Epoch [3/10], Loss: 0.6240\n",
            "Epoch [4/10], Loss: 0.6235\n",
            "Epoch [5/10], Loss: 0.6233\n",
            "Epoch [6/10], Loss: 0.6227\n",
            "Epoch [7/10], Loss: 0.6215\n",
            "Epoch [8/10], Loss: 0.6210\n",
            "Epoch [9/10], Loss: 0.6200\n",
            "Epoch [10/10], Loss: 0.6198\n"
          ]
        }
      ]
    },
    {
      "cell_type": "markdown",
      "source": [
        "Neural network loss initially capped off loss at 5 epochs, so increased complexity of neural network by adding more nodes then adding another layer in order to try and stop underfitting on the model. Chose BCE loss to fit with the nature of the binary classification problem. Loss gets bottlenecked at 0.62."
      ],
      "metadata": {
        "id": "DiauvlHH3VyA"
      }
    },
    {
      "cell_type": "markdown",
      "source": [
        "Evaluating the accuracy of the neural network on the test set."
      ],
      "metadata": {
        "id": "BthNjfrduvvZ"
      }
    },
    {
      "cell_type": "code",
      "source": [
        "model.eval()\n",
        "\n",
        "test_dataset = TensorDataset(torch.tensor(X_test.values, dtype=torch.float32), torch.tensor(y_test.values, dtype=torch.float32))\n",
        "test_loader = DataLoader(test_dataset, batch_size=batch_size, shuffle=True)\n",
        "\n",
        "all_preds = []\n",
        "all_labels = []\n",
        "\n",
        "with torch.no_grad():  # Disable gradient computation during testing\n",
        "    for inputs, labels in test_loader:\n",
        "        # Forward pass: Compute predicted y by passing X_test to the model\n",
        "        outputs = model(inputs).squeeze(dim = 1)\n",
        "\n",
        "        # Apply threshold to get binary predictions\n",
        "        predicted = (outputs >= 0.5).float()\n",
        "\n",
        "        # Count the number of correct predictions\n",
        "        all_preds.append(predicted.squeeze().cpu().numpy())  # Convert to numpy for sklearn\n",
        "        all_labels.append(labels.squeeze().cpu().numpy())\n",
        "\n",
        "\n",
        "all_preds = np.concatenate(all_preds)\n",
        "all_labels = np.concatenate(all_labels)\n",
        "\n",
        "#calcualte metrics\n",
        "precision = precision_score(all_labels, all_preds)\n",
        "recall = recall_score(all_labels, all_preds)\n",
        "f1 = f1_score(all_labels, all_preds)\n",
        "accuracy = accuracy_score(all_labels, all_preds)\n",
        "\n",
        "print(f\"Precision: {precision:.4f}\")\n",
        "print(f\"Recall: {recall:.4f}\")\n",
        "print(f\"F1-Score: {f1:.4f}\")\n",
        "print(f\"Accuracy: {accuracy:.4f}\")"
      ],
      "metadata": {
        "colab": {
          "base_uri": "https://localhost:8080/"
        },
        "id": "eGsEd7f3Mdpd",
        "outputId": "35b79044-eb2c-4caf-cd49-b454c1053cf4"
      },
      "execution_count": 72,
      "outputs": [
        {
          "output_type": "stream",
          "name": "stdout",
          "text": [
            "Precision: 0.5809\n",
            "Recall: 0.3233\n",
            "F1-Score: 0.4154\n",
            "Accuracy: 0.6588\n"
          ]
        }
      ]
    },
    {
      "cell_type": "code",
      "source": [
        "1 - torch.tensor(y_test.values, dtype=torch.float32).mean().item()"
      ],
      "metadata": {
        "colab": {
          "base_uri": "https://localhost:8080/"
        },
        "id": "dMPFeRxryO7V",
        "outputId": "8f73e7e2-777c-4263-8fa7-688b7dc267da"
      },
      "execution_count": 45,
      "outputs": [
        {
          "output_type": "execute_result",
          "data": {
            "text/plain": [
              "0.6250244975090027"
            ]
          },
          "metadata": {},
          "execution_count": 45
        }
      ]
    },
    {
      "cell_type": "markdown",
      "source": [
        "Considering that a model that only guesses 0 (Not Delayed) will get 62.5% accuracy our models are not much more accurate. Our neural network has decent precision given that 37.5% of elements are 1s, but very bad recall as we correctly predicty only 30% of delayed flights. The Random Forest Classifier is about the same, except with a better recall of 40%."
      ],
      "metadata": {
        "id": "UfQZw6uBySx5"
      }
    },
    {
      "cell_type": "markdown",
      "source": [
        "Train an XGBoosting model to predict if a flight will be delayed."
      ],
      "metadata": {
        "id": "J0up-2carYA3"
      }
    },
    {
      "cell_type": "code",
      "source": [
        "import xgboost as xgb\n",
        "\n",
        "xgbClassifier = xgb.XGBClassifier(use_label_encoder=False, eval_metric='logloss',random_state = 42)\n",
        "xgbClassifier.fit(X_train,y_train)\n",
        "\n",
        "xgb_y_pred = xgbClassifier.predict(X_test)\n",
        "\n",
        "print(xgbClassifier.score(X_train,y_train))\n",
        "print(xgbClassifier.score(X_test,y_test))"
      ],
      "metadata": {
        "colab": {
          "base_uri": "https://localhost:8080/"
        },
        "id": "VeKokCFNrOWY",
        "outputId": "768cd913-c9bc-4cac-b238-9e43e7ec9a72"
      },
      "execution_count": 73,
      "outputs": [
        {
          "output_type": "stream",
          "name": "stderr",
          "text": [
            "/usr/local/lib/python3.10/dist-packages/xgboost/core.py:158: UserWarning: [20:14:10] WARNING: /workspace/src/learner.cc:740: \n",
            "Parameters: { \"use_label_encoder\" } are not used.\n",
            "\n",
            "  warnings.warn(smsg, UserWarning)\n"
          ]
        },
        {
          "output_type": "stream",
          "name": "stdout",
          "text": [
            "0.6933355743470373\n",
            "0.6856431462374746\n"
          ]
        }
      ]
    },
    {
      "cell_type": "code",
      "source": [
        "feature_importances = xgbClassifier.feature_importances_\n",
        "for feature, importance in zip(X_train.columns, feature_importances):\n",
        "    print(f\"Feature: {feature}, Importance: {importance:.4f}\")"
      ],
      "metadata": {
        "colab": {
          "base_uri": "https://localhost:8080/"
        },
        "id": "HMh0ElXwtEX-",
        "outputId": "3ecf9170-fbd9-45ba-e1c2-8e9d381bb5db"
      },
      "execution_count": 74,
      "outputs": [
        {
          "output_type": "stream",
          "name": "stdout",
          "text": [
            "Feature: AIRLINE_AA, Importance: 0.0087\n",
            "Feature: AIRLINE_AS, Importance: 0.0656\n",
            "Feature: AIRLINE_B6, Importance: 0.0193\n",
            "Feature: AIRLINE_DL, Importance: 0.0141\n",
            "Feature: AIRLINE_EV, Importance: 0.0202\n",
            "Feature: AIRLINE_F9, Importance: 0.0133\n",
            "Feature: AIRLINE_HA, Importance: 0.0095\n",
            "Feature: AIRLINE_MQ, Importance: 0.0161\n",
            "Feature: AIRLINE_NK, Importance: 0.0458\n",
            "Feature: AIRLINE_OO, Importance: 0.0200\n",
            "Feature: AIRLINE_UA, Importance: 0.2282\n",
            "Feature: AIRLINE_US, Importance: 0.0182\n",
            "Feature: AIRLINE_VX, Importance: 0.0164\n",
            "Feature: AIRLINE_WN, Importance: 0.2121\n",
            "Feature: SCHEDULED_DEPARTURE, Importance: 0.0840\n",
            "Feature: SCHEDULED_TIME, Importance: 0.0131\n",
            "Feature: YEAR, Importance: 0.0000\n",
            "Feature: MONTH, Importance: 0.0388\n",
            "Feature: DAY, Importance: 0.0260\n",
            "Feature: DAY_OF_WEEK, Importance: 0.0182\n",
            "Feature: DISTANCE, Importance: 0.0191\n",
            "Feature: tmin, Importance: 0.0160\n",
            "Feature: tmax, Importance: 0.0130\n",
            "Feature: tavg, Importance: 0.0092\n",
            "Feature: ppt, Importance: 0.0245\n",
            "Feature: dday_a5C, Importance: 0.0143\n",
            "Feature: dday_b15C, Importance: 0.0164\n"
          ]
        }
      ]
    },
    {
      "cell_type": "code",
      "source": [
        "all_preds = xgb_y_pred\n",
        "all_labels = y_test.to_numpy()\n",
        "\n",
        "#calcualte metrics\n",
        "precision = precision_score(all_labels, all_preds)\n",
        "recall = recall_score(all_labels, all_preds)\n",
        "f1 = f1_score(all_labels, all_preds)\n",
        "accuracy = accuracy_score(all_labels, all_preds)\n",
        "\n",
        "print(f\"Precision: {precision:.4f}\")\n",
        "print(f\"Recall: {recall:.4f}\")\n",
        "print(f\"F1-Score: {f1:.4f}\")\n",
        "print(f\"Accuracy: {accuracy:.4f}\")"
      ],
      "metadata": {
        "colab": {
          "base_uri": "https://localhost:8080/"
        },
        "id": "h-3fdY1_58sM",
        "outputId": "760dff1b-ad4b-42d8-dd33-ebc57c2c331a"
      },
      "execution_count": 76,
      "outputs": [
        {
          "output_type": "stream",
          "name": "stdout",
          "text": [
            "Precision: 0.6297\n",
            "Recall: 0.3925\n",
            "F1-Score: 0.4836\n",
            "Accuracy: 0.6856\n"
          ]
        }
      ]
    }
  ],
  "metadata": {
    "kernelspec": {
      "display_name": "Python 3",
      "name": "python3"
    },
    "language_info": {
      "codemirror_mode": {
        "name": "ipython",
        "version": 3
      },
      "file_extension": ".py",
      "mimetype": "text/x-python",
      "name": "python",
      "nbconvert_exporter": "python",
      "pygments_lexer": "ipython3",
      "version": "3.11.8"
    },
    "colab": {
      "provenance": [],
      "gpuType": "T4"
    },
    "accelerator": "GPU"
  },
  "nbformat": 4,
  "nbformat_minor": 0
}